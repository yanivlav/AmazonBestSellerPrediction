{
 "cells": [
  {
   "cell_type": "markdown",
   "metadata": {},
   "source": [
    "Data Handling\n",
    "\n",
    "Loading the dataset from the csv, removing duplicates and corrupted values"
   ]
  },
  {
   "cell_type": "code",
   "execution_count": 183,
   "metadata": {},
   "outputs": [
    {
     "name": "stdout",
     "output_type": "stream",
     "text": [
      "Shape before cleaning: (8037, 8)\n",
      "Shape after removing corrupted: (1070, 8)\n",
      "Shape after removing duplicates: (975, 8)\n"
     ]
    }
   ],
   "source": [
    "from bs4 import BeautifulSoup\n",
    "import pandas as pd\n",
    "import numpy as np\n",
    "import requests\n",
    "import json\n",
    "import csv\n",
    "\n",
    "# df = pd.read_csv(\"Amazon Items Scraped.csv\")\n",
    "df = pd.read_csv(\"newitems_df_last.csv\")\n",
    "print('Shape before cleaning: ' + str(df.shape))\n",
    "\n",
    "# Remove Corrupted Rows ---------------------------------------------------------------------\n",
    "df = df.dropna(axis = 0, thresh=8)\n",
    "print('Shape after removing corrupted: ' + str(df.shape))\n",
    "\n",
    "# Drop Duplicates --------------------------------------------------------------------------\n",
    "df = df.drop_duplicates(subset = None, keep = 'first')\n",
    "print('Shape after removing duplicates: ' + str(df.shape))\n",
    "\n"
   ]
  },
  {
   "cell_type": "markdown",
   "metadata": {},
   "source": [
    "Cleaning and normalizing the data"
   ]
  },
  {
   "cell_type": "code",
   "execution_count": 184,
   "metadata": {},
   "outputs": [],
   "source": [
    "# Function - Delete char in string ---------------------------------------------------------\n",
    "\n",
    "def deleteCharInString(df, c) :\n",
    "    ilist = list()\n",
    "    for i in df :\n",
    "        ilist.append(i.replace(c, ''))\n",
    "    df = ilist\n",
    "    return df"
   ]
  },
  {
   "cell_type": "code",
   "execution_count": 185,
   "metadata": {},
   "outputs": [
    {
     "name": "stdout",
     "output_type": "stream",
     "text": [
      "2               SanDisk\n",
      "3              EchoGear\n",
      "10                 NOCO\n",
      "17         AmazonBasics\n",
      "19        Amazon Basics\n",
      "             ...       \n",
      "7875     American Eagle\n",
      "7894             Amazon\n",
      "7905             Amazon\n",
      "7934             Amazon\n",
      "8020          Frito-Lay\n",
      "Name: Brand, Length: 975, dtype: object\n"
     ]
    }
   ],
   "source": [
    "# Cleaning the Brand name ------------------------------------------------------------------\n",
    "\n",
    "df.Brand = deleteCharInString(df.Brand, \"Brand:\")\n",
    "df.Brand = deleteCharInString(df.Brand, \"Visit the \")\n",
    "df.Brand = deleteCharInString(df.Brand, \" Store\")\n",
    "\n",
    "print(df.Brand)"
   ]
  },
  {
   "cell_type": "code",
   "execution_count": 186,
   "metadata": {},
   "outputs": [
    {
     "name": "stdout",
     "output_type": "stream",
     "text": [
      "0      67912.0\n",
      "1      13989.0\n",
      "2       3874.0\n",
      "3      16259.0\n",
      "4      12334.0\n",
      "        ...   \n",
      "970     5999.0\n",
      "971     3950.0\n",
      "972     7520.0\n",
      "973     3014.0\n",
      "974    17706.0\n",
      "Name: Rating, Length: 975, dtype: float64\n"
     ]
    }
   ],
   "source": [
    "# # Cleaning the Ratings ------------------------------------------------------------------\n",
    "\n",
    "df.Rating = deleteCharInString(df.Rating, \" ratings\")\n",
    "df.Rating = deleteCharInString(df.Rating, \" rating\")\n",
    "df.Rating = deleteCharInString(df.Rating, \",\")\n",
    "df[\"Rating\"] = df.Rating.astype(float)\n",
    "df = df.reset_index(drop=True)\n",
    "print(df.Rating)"
   ]
  },
  {
   "cell_type": "code",
   "execution_count": 187,
   "metadata": {},
   "outputs": [
    {
     "name": "stdout",
     "output_type": "stream",
     "text": [
      "0      4.6\n",
      "1      4.6\n",
      "2      4.7\n",
      "3      4.6\n",
      "4      4.6\n",
      "      ... \n",
      "970    4.9\n",
      "971    4.9\n",
      "972    4.9\n",
      "973    4.9\n",
      "974    4.6\n",
      "Name: Stars, Length: 975, dtype: object\n"
     ]
    }
   ],
   "source": [
    "# Cleaning the Stars ------------------------------------------------------------------\n",
    "#changed to removing the row\n",
    "df.Stars = deleteCharInString(df.Stars, \" out of 5\")\n",
    "ilist = list()\n",
    "for i in df.Stars :\n",
    "    ilist.append(i.replace(\"How confident are you in finding a size that will fit you well?\", '0'))\n",
    "df.Stars = ilist\n",
    "ilist = list()\n",
    "for i in df.Stars :\n",
    "    ilist.append(i.replace(\"|\", '0'))\n",
    "df.Stars = ilist\n",
    "ilist = list()\n",
    "for i in df.Stars :\n",
    "    ilist.append(i.replace(\"confirmed\", '0'))\n",
    "df.Stars = ilist\n",
    "ilist = list()\n",
    "for i in df.Stars :\n",
    "    ilist.append(i.replace(\"4,8 von 5\", '4.8'))\n",
    "df.Stars = ilist\n",
    "\n",
    "print(df.Stars)\n",
    "\n"
   ]
  },
  {
   "cell_type": "code",
   "execution_count": 188,
   "metadata": {},
   "outputs": [
    {
     "name": "stdout",
     "output_type": "stream",
     "text": [
      "0       15.30\n",
      "1       14.99\n",
      "2       13.95\n",
      "3       14.44\n",
      "4       10.85\n",
      "        ...  \n",
      "970     25.00\n",
      "971    100.00\n",
      "972     10.00\n",
      "973     30.00\n",
      "974     28.00\n",
      "Name: Price, Length: 975, dtype: float64\n"
     ]
    }
   ],
   "source": [
    "# Cleaning the Price ------------------------------------------------------------------\n",
    "\n",
    "df.Price = deleteCharInString(df.Price, \"$\")\n",
    "df.Price = deleteCharInString(df.Price, \",\")\n",
    "df[\"Price\"] = df.Price.astype(float)\n",
    "df = df.reset_index(drop=True)\n",
    "print(df.Price)"
   ]
  },
  {
   "cell_type": "code",
   "execution_count": 189,
   "metadata": {},
   "outputs": [
    {
     "name": "stdout",
     "output_type": "stream",
     "text": [
      "0      1000.0\n",
      "1       125.0\n",
      "2        28.0\n",
      "3       277.0\n",
      "4       106.0\n",
      "        ...  \n",
      "970       4.0\n",
      "971      15.0\n",
      "972      12.0\n",
      "973       3.0\n",
      "974      33.0\n",
      "Name: Comments, Length: 975, dtype: float64\n"
     ]
    }
   ],
   "source": [
    "# Cleaning the Comments ------------------------------------------------------------------\n",
    "\n",
    "df.Comments = deleteCharInString(df.Comments, \"+\")\n",
    "df.Comments = deleteCharInString(df.Comments, \" answered questions\")\n",
    "df[\"Comments\"] = df.Comments.astype(float)\n",
    "df = df.reset_index(drop=True)\n",
    "print(df.Comments)\n"
   ]
  },
  {
   "cell_type": "code",
   "execution_count": 190,
   "metadata": {},
   "outputs": [],
   "source": [
    "df.to_csv('datatest.csv',index= None)"
   ]
  },
  {
   "cell_type": "markdown",
   "metadata": {},
   "source": [
    "First look on the data"
   ]
  },
  {
   "cell_type": "code",
   "execution_count": 191,
   "metadata": {},
   "outputs": [
    {
     "name": "stdout",
     "output_type": "stream",
     "text": [
      "<class 'pandas.core.frame.DataFrame'>\n",
      "RangeIndex: 975 entries, 0 to 974\n",
      "Data columns (total 8 columns):\n",
      " #   Column        Non-Null Count  Dtype  \n",
      "---  ------        --------------  -----  \n",
      " 0   Name          975 non-null    object \n",
      " 1   Brand         975 non-null    object \n",
      " 2   Rating        975 non-null    float64\n",
      " 3   BestSeller    975 non-null    int64  \n",
      " 4   AmazonChoice  975 non-null    int64  \n",
      " 5   Comments      975 non-null    float64\n",
      " 6   Price         975 non-null    float64\n",
      " 7   Stars         975 non-null    object \n",
      "dtypes: float64(3), int64(2), object(3)\n",
      "memory usage: 61.1+ KB\n"
     ]
    }
   ],
   "source": [
    "# Non null means our data is full without missing data\n",
    "\n",
    "df.info()"
   ]
  },
  {
   "cell_type": "code",
   "execution_count": 192,
   "metadata": {},
   "outputs": [
    {
     "data": {
      "text/html": [
       "<div>\n",
       "<style scoped>\n",
       "    .dataframe tbody tr th:only-of-type {\n",
       "        vertical-align: middle;\n",
       "    }\n",
       "\n",
       "    .dataframe tbody tr th {\n",
       "        vertical-align: top;\n",
       "    }\n",
       "\n",
       "    .dataframe thead th {\n",
       "        text-align: right;\n",
       "    }\n",
       "</style>\n",
       "<table border=\"1\" class=\"dataframe\">\n",
       "  <thead>\n",
       "    <tr style=\"text-align: right;\">\n",
       "      <th></th>\n",
       "      <th>Name</th>\n",
       "      <th>Brand</th>\n",
       "      <th>Rating</th>\n",
       "      <th>BestSeller</th>\n",
       "      <th>AmazonChoice</th>\n",
       "      <th>Comments</th>\n",
       "      <th>Price</th>\n",
       "      <th>Stars</th>\n",
       "    </tr>\n",
       "  </thead>\n",
       "  <tbody>\n",
       "    <tr>\n",
       "      <th>count</th>\n",
       "      <td>975</td>\n",
       "      <td>975</td>\n",
       "      <td>975.000000</td>\n",
       "      <td>975.000000</td>\n",
       "      <td>975.000000</td>\n",
       "      <td>975.000000</td>\n",
       "      <td>975.000000</td>\n",
       "      <td>975</td>\n",
       "    </tr>\n",
       "    <tr>\n",
       "      <th>unique</th>\n",
       "      <td>965</td>\n",
       "      <td>678</td>\n",
       "      <td>NaN</td>\n",
       "      <td>NaN</td>\n",
       "      <td>NaN</td>\n",
       "      <td>NaN</td>\n",
       "      <td>NaN</td>\n",
       "      <td>22</td>\n",
       "    </tr>\n",
       "    <tr>\n",
       "      <th>top</th>\n",
       "      <td>Rubbermaid Reveal Power Scrubber, Grout &amp; Tile...</td>\n",
       "      <td>Amazon</td>\n",
       "      <td>NaN</td>\n",
       "      <td>NaN</td>\n",
       "      <td>NaN</td>\n",
       "      <td>NaN</td>\n",
       "      <td>NaN</td>\n",
       "      <td>4.4</td>\n",
       "    </tr>\n",
       "    <tr>\n",
       "      <th>freq</th>\n",
       "      <td>3</td>\n",
       "      <td>34</td>\n",
       "      <td>NaN</td>\n",
       "      <td>NaN</td>\n",
       "      <td>NaN</td>\n",
       "      <td>NaN</td>\n",
       "      <td>NaN</td>\n",
       "      <td>154</td>\n",
       "    </tr>\n",
       "    <tr>\n",
       "      <th>mean</th>\n",
       "      <td>NaN</td>\n",
       "      <td>NaN</td>\n",
       "      <td>6334.157949</td>\n",
       "      <td>0.026667</td>\n",
       "      <td>0.267692</td>\n",
       "      <td>74.847179</td>\n",
       "      <td>70.456800</td>\n",
       "      <td>NaN</td>\n",
       "    </tr>\n",
       "    <tr>\n",
       "      <th>std</th>\n",
       "      <td>NaN</td>\n",
       "      <td>NaN</td>\n",
       "      <td>19058.505044</td>\n",
       "      <td>0.161190</td>\n",
       "      <td>0.442984</td>\n",
       "      <td>160.370670</td>\n",
       "      <td>177.704843</td>\n",
       "      <td>NaN</td>\n",
       "    </tr>\n",
       "    <tr>\n",
       "      <th>min</th>\n",
       "      <td>NaN</td>\n",
       "      <td>NaN</td>\n",
       "      <td>1.000000</td>\n",
       "      <td>0.000000</td>\n",
       "      <td>0.000000</td>\n",
       "      <td>3.000000</td>\n",
       "      <td>3.490000</td>\n",
       "      <td>NaN</td>\n",
       "    </tr>\n",
       "    <tr>\n",
       "      <th>25%</th>\n",
       "      <td>NaN</td>\n",
       "      <td>NaN</td>\n",
       "      <td>214.000000</td>\n",
       "      <td>0.000000</td>\n",
       "      <td>0.000000</td>\n",
       "      <td>7.000000</td>\n",
       "      <td>14.990000</td>\n",
       "      <td>NaN</td>\n",
       "    </tr>\n",
       "    <tr>\n",
       "      <th>50%</th>\n",
       "      <td>NaN</td>\n",
       "      <td>NaN</td>\n",
       "      <td>888.000000</td>\n",
       "      <td>0.000000</td>\n",
       "      <td>0.000000</td>\n",
       "      <td>20.000000</td>\n",
       "      <td>25.950000</td>\n",
       "      <td>NaN</td>\n",
       "    </tr>\n",
       "    <tr>\n",
       "      <th>75%</th>\n",
       "      <td>NaN</td>\n",
       "      <td>NaN</td>\n",
       "      <td>3934.000000</td>\n",
       "      <td>0.000000</td>\n",
       "      <td>1.000000</td>\n",
       "      <td>60.500000</td>\n",
       "      <td>51.205000</td>\n",
       "      <td>NaN</td>\n",
       "    </tr>\n",
       "    <tr>\n",
       "      <th>max</th>\n",
       "      <td>NaN</td>\n",
       "      <td>NaN</td>\n",
       "      <td>300021.000000</td>\n",
       "      <td>1.000000</td>\n",
       "      <td>1.000000</td>\n",
       "      <td>1000.000000</td>\n",
       "      <td>2309.500000</td>\n",
       "      <td>NaN</td>\n",
       "    </tr>\n",
       "  </tbody>\n",
       "</table>\n",
       "</div>"
      ],
      "text/plain": [
       "                                                     Name    Brand  \\\n",
       "count                                                 975      975   \n",
       "unique                                                965      678   \n",
       "top     Rubbermaid Reveal Power Scrubber, Grout & Tile...   Amazon   \n",
       "freq                                                    3       34   \n",
       "mean                                                  NaN      NaN   \n",
       "std                                                   NaN      NaN   \n",
       "min                                                   NaN      NaN   \n",
       "25%                                                   NaN      NaN   \n",
       "50%                                                   NaN      NaN   \n",
       "75%                                                   NaN      NaN   \n",
       "max                                                   NaN      NaN   \n",
       "\n",
       "               Rating  BestSeller  AmazonChoice     Comments        Price  \\\n",
       "count      975.000000  975.000000    975.000000   975.000000   975.000000   \n",
       "unique            NaN         NaN           NaN          NaN          NaN   \n",
       "top               NaN         NaN           NaN          NaN          NaN   \n",
       "freq              NaN         NaN           NaN          NaN          NaN   \n",
       "mean      6334.157949    0.026667      0.267692    74.847179    70.456800   \n",
       "std      19058.505044    0.161190      0.442984   160.370670   177.704843   \n",
       "min          1.000000    0.000000      0.000000     3.000000     3.490000   \n",
       "25%        214.000000    0.000000      0.000000     7.000000    14.990000   \n",
       "50%        888.000000    0.000000      0.000000    20.000000    25.950000   \n",
       "75%       3934.000000    0.000000      1.000000    60.500000    51.205000   \n",
       "max     300021.000000    1.000000      1.000000  1000.000000  2309.500000   \n",
       "\n",
       "       Stars  \n",
       "count    975  \n",
       "unique    22  \n",
       "top      4.4  \n",
       "freq     154  \n",
       "mean     NaN  \n",
       "std      NaN  \n",
       "min      NaN  \n",
       "25%      NaN  \n",
       "50%      NaN  \n",
       "75%      NaN  \n",
       "max      NaN  "
      ]
     },
     "execution_count": 192,
     "metadata": {},
     "output_type": "execute_result"
    }
   ],
   "source": [
    "\n",
    "df.describe(include='all')"
   ]
  },
  {
   "cell_type": "code",
   "execution_count": 193,
   "metadata": {},
   "outputs": [
    {
     "name": "stdout",
     "output_type": "stream",
     "text": [
      "   BestSeller  Frequency          p\n",
      "0           0        949  97.333333\n",
      "1           1         26   2.666667\n"
     ]
    },
    {
     "data": {
      "text/plain": [
       "<AxesSubplot:ylabel='BestSeller'>"
      ]
     },
     "execution_count": 193,
     "metadata": {},
     "output_type": "execute_result"
    },
    {
     "data": {
      "image/png": "[encoded data removed]",
      "text/plain": [
       "<Figure size 432x288 with 1 Axes>"
      ]
     },
     "metadata": {},
     "output_type": "display_data"
    }
   ],
   "source": [
    "# Show the Frequency of the Best Sellers items with PIE visualization -------------------------------------------------------------------------------\n",
    "\n",
    "counts = df[\"BestSeller\"].value_counts()\n",
    "p = df[\"BestSeller\"].value_counts(normalize = True) * 100\n",
    "index = [0,1]\n",
    "FrequencyDF = pd.DataFrame({\"BestSeller\" : index,\"Frequency\": counts, \"p\" : p})\n",
    "print(FrequencyDF)\n",
    "\n",
    "myColors = ['#F5DC1A', '#179deb']\n",
    "df['BestSeller'].value_counts().plot(kind = 'pie', colors = myColors)\n"
   ]
  },
  {
   "cell_type": "code",
   "execution_count": 194,
   "metadata": {},
   "outputs": [
    {
     "name": "stdout",
     "output_type": "stream",
     "text": [
      "(1.184, 464.692]        956\n",
      "(464.692, 925.894]       12\n",
      "(1848.298, 2309.5]        4\n",
      "(1387.096, 1848.298]      2\n",
      "(925.894, 1387.096]       1\n",
      "Name: Price, dtype: int64\n"
     ]
    },
    {
     "data": {
      "text/plain": [
       "(array([956.,  12.,   1.,   2.,   4.]),\n",
       " array([   3.49 ,  464.692,  925.894, 1387.096, 1848.298, 2309.5  ]),\n",
       " <BarContainer object of 5 artists>)"
      ]
     },
     "execution_count": 194,
     "metadata": {},
     "output_type": "execute_result"
    },
    {
     "data": {
      "image/png": "[encoded data removed]",
      "text/plain": [
       "<Figure size 432x288 with 1 Axes>"
      ]
     },
     "metadata": {
      "needs_background": "light"
     },
     "output_type": "display_data"
    }
   ],
   "source": [
    "# We can see that most of the items in amazon are falling under the first section ------------------------------------------------\n",
    "\n",
    "import matplotlib as mpl\n",
    "from matplotlib import pyplot as plt\n",
    "%matplotlib inline\n",
    "\n",
    "print(pd.cut(df[\"Price\"], bins=5).value_counts())\n",
    "plt.hist(df[\"Price\"], bins = 5)"
   ]
  },
  {
   "cell_type": "code",
   "execution_count": 195,
   "metadata": {},
   "outputs": [
    {
     "data": {
      "text/plain": [
       "(array([956.,  12.,   1.,   2.,   4.]),\n",
       " array([   3.49 ,  464.692,  925.894, 1387.096, 1848.298, 2309.5  ]),\n",
       " <BarContainer object of 5 artists>)"
      ]
     },
     "execution_count": 195,
     "metadata": {},
     "output_type": "execute_result"
    },
    {
     "data": {
      "image/png": "[encoded data removed]",
      "text/plain": [
       "<Figure size 432x288 with 1 Axes>"
      ]
     },
     "metadata": {
      "needs_background": "light"
     },
     "output_type": "display_data"
    }
   ],
   "source": [
    "# Finding the amount of Exception in Price --------------------------------------------\n",
    "\n",
    "plt.hist(df.Price, bins = 5)"
   ]
  },
  {
   "cell_type": "code",
   "execution_count": 196,
   "metadata": {},
   "outputs": [
    {
     "name": "stderr",
     "output_type": "stream",
     "text": [
      "c:\\Users\\Yaniv\\anaconda3\\envs\\datascience\\lib\\site-packages\\seaborn\\_decorators.py:36: FutureWarning: Pass the following variable as a keyword arg: x. From version 0.12, the only valid positional argument will be `data`, and passing other arguments without an explicit keyword will result in an error or misinterpretation.\n",
      "  warnings.warn(\n"
     ]
    },
    {
     "data": {
      "text/plain": [
       "<AxesSubplot:xlabel='Price'>"
      ]
     },
     "execution_count": 196,
     "metadata": {},
     "output_type": "execute_result"
    },
    {
     "data": {
      "image/png": "[encoded data removed]",
      "text/plain": [
       "<Figure size 432x288 with 1 Axes>"
      ]
     },
     "metadata": {
      "needs_background": "light"
     },
     "output_type": "display_data"
    }
   ],
   "source": [
    "import seaborn as sns\n",
    "\n",
    "sns.boxenplot(df.Price)"
   ]
  },
  {
   "cell_type": "code",
   "execution_count": 197,
   "metadata": {},
   "outputs": [
    {
     "name": "stdout",
     "output_type": "stream",
     "text": [
      "count     975.000000\n",
      "mean       70.456800\n",
      "std       177.704843\n",
      "min         3.490000\n",
      "25%        14.990000\n",
      "50%        25.950000\n",
      "75%        51.205000\n",
      "max      2309.500000\n",
      "Name: Price, dtype: float64\n",
      "922\n"
     ]
    }
   ],
   "source": [
    "df.Price.describe()\n",
    "\n",
    "\n",
    "print(df[\"Price\"].describe())\n",
    "\n",
    "Q1 = np.percentile(df[\"Price\"], 25)\n",
    "Q3 = np.percentile(df[\"Price\"], 50)\n",
    "IQR = Q3 - Q1\n",
    "\n",
    "fareOutlierRows = df[(df[\"Price\"] < Q1 - 1.5 * IQR) | (df[\"Price\"] > Q3 - 1.5 * IQR )].index\n",
    "print(len(fareOutlierRows))"
   ]
  },
  {
   "cell_type": "code",
   "execution_count": 198,
   "metadata": {},
   "outputs": [
    {
     "data": {
      "text/plain": [
       "<matplotlib.collections.PathCollection at 0x2065bdd14f0>"
      ]
     },
     "execution_count": 198,
     "metadata": {},
     "output_type": "execute_result"
    },
    {
     "data": {
      "image/png": "[encoded data removed]",
      "text/plain": [
       "<Figure size 432x288 with 1 Axes>"
      ]
     },
     "metadata": {
      "needs_background": "light"
     },
     "output_type": "display_data"
    }
   ],
   "source": [
    "# Here we can see that the amount of comments on an item does not affect the stars the item gets\n",
    "\n",
    "# plt.scatter(df.Comments, df.Stars)\n",
    "# plt.scatter(df.Price, df.Stars)\n",
    "plt.scatter(df.Price, df.Comments)\n",
    "# plt.scatter(df.Price, df.BestSeller)\n",
    "# plt.scatter(df.Price, df.Rating)\n",
    "# plt.scatter(df.Comments, df.Rating)\n",
    "# plt.scatter(df.Comments, df.Stars)\n"
   ]
  },
  {
   "cell_type": "code",
   "execution_count": 199,
   "metadata": {},
   "outputs": [
    {
     "name": "stderr",
     "output_type": "stream",
     "text": [
      "C:\\Users\\Yaniv\\AppData\\Local\\Temp/ipykernel_3352/3990729535.py:3: SettingWithCopyWarning: \n",
      "A value is trying to be set on a copy of a slice from a DataFrame\n",
      "\n",
      "See the caveats in the documentation: https://pandas.pydata.org/pandas-docs/stable/user_guide/indexing.html#returning-a-view-versus-a-copy\n",
      "  df.Price[df.Price>500] = np.nan\n"
     ]
    },
    {
     "data": {
      "text/plain": [
       "count    961.000000\n",
       "mean      52.880531\n",
       "std       73.863045\n",
       "min        3.490000\n",
       "25%       14.990000\n",
       "50%       25.000000\n",
       "75%       49.990000\n",
       "max      500.000000\n",
       "Name: Price, dtype: float64"
      ]
     },
     "execution_count": 199,
     "metadata": {},
     "output_type": "execute_result"
    }
   ],
   "source": [
    "df.Price[df.Price < 500].count()/df.Price.count()\n",
    "\n",
    "df.Price[df.Price>500] = np.nan\n",
    "\n",
    "df.Price.describe()\n",
    "\n",
    "\n"
   ]
  },
  {
   "cell_type": "code",
   "execution_count": 200,
   "metadata": {},
   "outputs": [
    {
     "data": {
      "text/plain": [
       "<matplotlib.collections.PathCollection at 0x206616b9fa0>"
      ]
     },
     "execution_count": 200,
     "metadata": {},
     "output_type": "execute_result"
    },
    {
     "data": {
      "image/png": "[encoded data removed]",
      "text/plain": [
       "<Figure size 432x288 with 1 Axes>"
      ]
     },
     "metadata": {
      "needs_background": "light"
     },
     "output_type": "display_data"
    }
   ],
   "source": [
    "plt.scatter(df.Price, df.Comments)\n"
   ]
  },
  {
   "cell_type": "code",
   "execution_count": 201,
   "metadata": {},
   "outputs": [
    {
     "data": {
      "text/plain": [
       "975"
      ]
     },
     "execution_count": 201,
     "metadata": {},
     "output_type": "execute_result"
    }
   ],
   "source": [
    "z_comments = (df['Comments'] - df['Comments'].mean()) / df['Comments'].std()\n",
    "outliers = abs(z_comments) < 1000\n",
    "sum(outliers)\n"
   ]
  },
  {
   "cell_type": "code",
   "execution_count": 204,
   "metadata": {},
   "outputs": [
    {
     "name": "stderr",
     "output_type": "stream",
     "text": [
      "c:\\Users\\Yaniv\\anaconda3\\envs\\datascience\\lib\\site-packages\\seaborn\\_decorators.py:36: FutureWarning: Pass the following variable as a keyword arg: x. From version 0.12, the only valid positional argument will be `data`, and passing other arguments without an explicit keyword will result in an error or misinterpretation.\n",
      "  warnings.warn(\n"
     ]
    },
    {
     "data": {
      "text/plain": [
       "<AxesSubplot:xlabel='Price'>"
      ]
     },
     "execution_count": 204,
     "metadata": {},
     "output_type": "execute_result"
    },
    {
     "data": {
      "image/png": "[encoded data removed]",
      "text/plain": [
       "<Figure size 1296x288 with 1 Axes>"
      ]
     },
     "metadata": {
      "needs_background": "light"
     },
     "output_type": "display_data"
    }
   ],
   "source": [
    "\n",
    "\n",
    "fig = plt.figure(figsize=(18,4))\n",
    "sns.boxplot(df.Price, whis=3)"
   ]
  },
  {
   "cell_type": "code",
   "execution_count": 205,
   "metadata": {},
   "outputs": [
    {
     "name": "stderr",
     "output_type": "stream",
     "text": [
      "c:\\Users\\Yaniv\\anaconda3\\envs\\datascience\\lib\\site-packages\\seaborn\\_decorators.py:36: FutureWarning: Pass the following variables as keyword args: x, y. From version 0.12, the only valid positional argument will be `data`, and passing other arguments without an explicit keyword will result in an error or misinterpretation.\n",
      "  warnings.warn(\n"
     ]
    },
    {
     "data": {
      "text/plain": [
       "<AxesSubplot:xlabel='Price', ylabel='Comments'>"
      ]
     },
     "execution_count": 205,
     "metadata": {},
     "output_type": "execute_result"
    },
    {
     "data": {
      "image/png": "[encoded data removed]",
      "text/plain": [
       "<Figure size 432x288 with 1 Axes>"
      ]
     },
     "metadata": {
      "needs_background": "light"
     },
     "output_type": "display_data"
    }
   ],
   "source": [
    "sns.boxplot(df.Price,df.Comments)"
   ]
  },
  {
   "cell_type": "code",
   "execution_count": 206,
   "metadata": {},
   "outputs": [
    {
     "name": "stderr",
     "output_type": "stream",
     "text": [
      "c:\\Users\\Yaniv\\anaconda3\\envs\\datascience\\lib\\site-packages\\seaborn\\_decorators.py:36: FutureWarning: Pass the following variables as keyword args: x, y. From version 0.12, the only valid positional argument will be `data`, and passing other arguments without an explicit keyword will result in an error or misinterpretation.\n",
      "  warnings.warn(\n"
     ]
    },
    {
     "data": {
      "text/plain": [
       "<AxesSubplot:xlabel='Price', ylabel='Comments'>"
      ]
     },
     "execution_count": 206,
     "metadata": {},
     "output_type": "execute_result"
    },
    {
     "data": {
      "image/png": "[encoded data removed]",
      "text/plain": [
       "<Figure size 432x288 with 1 Axes>"
      ]
     },
     "metadata": {
      "needs_background": "light"
     },
     "output_type": "display_data"
    }
   ],
   "source": [
    "sns.violinplot(df.Price,df.Comments)"
   ]
  }
 ],
 "metadata": {
  "kernelspec": {
   "display_name": "Python 3.9.10 64-bit (windows store)",
   "language": "python",
   "name": "python3"
  },
  "language_info": {
   "codemirror_mode": {
    "name": "ipython",
    "version": 3
   },
   "file_extension": ".py",
   "mimetype": "text/x-python",
   "name": "python",
   "nbconvert_exporter": "python",
   "pygments_lexer": "ipython3",
   "version": "3.9.10"
  },
  "orig_nbformat": 4,
  "vscode": {
   "interpreter": {
    "hash": "d6ec4d4d7f0249016d2fa2e6953ceebe6552885417049bc625338f7ad076f1e9"
   }
  }
 },
 "nbformat": 4,
 "nbformat_minor": 2
}
