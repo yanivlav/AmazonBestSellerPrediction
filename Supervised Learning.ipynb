{
 "cells": [
  {
   "cell_type": "markdown",
   "metadata": {},
   "source": [
    "# Supervised Learning \n",
    "\n",
    "Our approach here is to use classification by running the Logistic Regression algorithm with our BestSeller column out of the df.\n",
    "1. load the data from 'Amazon Items Cleaned.csv' to a data frame.\n",
    "2. Split the data to X and y where X containing all relevant features and y is our BestSeller column.\n",
    "3. Split the data into train and test subsets: X_train, X_test, y_train, y_test. We will use random pick and default size of 25%.\n",
    "4. Run the algorithm to train the model with fit()."
   ]
  },
  {
   "cell_type": "code",
   "execution_count": 267,
   "metadata": {},
   "outputs": [
    {
     "data": {
      "text/html": [
       "<div>\n",
       "<style scoped>\n",
       "    .dataframe tbody tr th:only-of-type {\n",
       "        vertical-align: middle;\n",
       "    }\n",
       "\n",
       "    .dataframe tbody tr th {\n",
       "        vertical-align: top;\n",
       "    }\n",
       "\n",
       "    .dataframe thead th {\n",
       "        text-align: right;\n",
       "    }\n",
       "</style>\n",
       "<table border=\"1\" class=\"dataframe\">\n",
       "  <thead>\n",
       "    <tr style=\"text-align: right;\">\n",
       "      <th></th>\n",
       "      <th>Name</th>\n",
       "      <th>Brand</th>\n",
       "      <th>Rating</th>\n",
       "      <th>BestSeller</th>\n",
       "      <th>AmazonChoice</th>\n",
       "      <th>Comments</th>\n",
       "      <th>Price</th>\n",
       "      <th>Stars</th>\n",
       "    </tr>\n",
       "  </thead>\n",
       "  <tbody>\n",
       "    <tr>\n",
       "      <th>0</th>\n",
       "      <td>NOCO NUSB211NA 10W USB Power Adapter, 2.1A 5V ...</td>\n",
       "      <td>NOCO</td>\n",
       "      <td>3869.0</td>\n",
       "      <td>0</td>\n",
       "      <td>0</td>\n",
       "      <td>28.0</td>\n",
       "      <td>13.95</td>\n",
       "      <td>4.7</td>\n",
       "    </tr>\n",
       "    <tr>\n",
       "      <th>1</th>\n",
       "      <td>Amazfit Band 5 Activity Fitness Tracker with A...</td>\n",
       "      <td>Amazfit</td>\n",
       "      <td>21158.0</td>\n",
       "      <td>0</td>\n",
       "      <td>0</td>\n",
       "      <td>1000.0</td>\n",
       "      <td>29.88</td>\n",
       "      <td>4.1</td>\n",
       "    </tr>\n",
       "    <tr>\n",
       "      <th>2</th>\n",
       "      <td>Amazon Basics Universal Travel Case Organizer ...</td>\n",
       "      <td>AmazonBasics</td>\n",
       "      <td>16242.0</td>\n",
       "      <td>0</td>\n",
       "      <td>1</td>\n",
       "      <td>277.0</td>\n",
       "      <td>14.44</td>\n",
       "      <td>4.6</td>\n",
       "    </tr>\n",
       "    <tr>\n",
       "      <th>3</th>\n",
       "      <td>Amazon Glow with Tangram Bits | Learn, Play, R...</td>\n",
       "      <td>Amazon</td>\n",
       "      <td>215.0</td>\n",
       "      <td>0</td>\n",
       "      <td>1</td>\n",
       "      <td>31.0</td>\n",
       "      <td>329.98</td>\n",
       "      <td>4.4</td>\n",
       "    </tr>\n",
       "    <tr>\n",
       "      <th>4</th>\n",
       "      <td>Echo Show 5 (2nd Gen, 2021 release) - Deep Sea...</td>\n",
       "      <td>Amazon</td>\n",
       "      <td>928.0</td>\n",
       "      <td>0</td>\n",
       "      <td>1</td>\n",
       "      <td>21.0</td>\n",
       "      <td>114.98</td>\n",
       "      <td>4.7</td>\n",
       "    </tr>\n",
       "    <tr>\n",
       "      <th>...</th>\n",
       "      <td>...</td>\n",
       "      <td>...</td>\n",
       "      <td>...</td>\n",
       "      <td>...</td>\n",
       "      <td>...</td>\n",
       "      <td>...</td>\n",
       "      <td>...</td>\n",
       "      <td>...</td>\n",
       "    </tr>\n",
       "    <tr>\n",
       "      <th>1600</th>\n",
       "      <td>American Eagle Gift Card</td>\n",
       "      <td>American Eagle</td>\n",
       "      <td>5999.0</td>\n",
       "      <td>0</td>\n",
       "      <td>0</td>\n",
       "      <td>4.0</td>\n",
       "      <td>25.00</td>\n",
       "      <td>4.9</td>\n",
       "    </tr>\n",
       "    <tr>\n",
       "      <th>1601</th>\n",
       "      <td>Amazon.com Gift Cards - As a Bookmark</td>\n",
       "      <td>Amazon</td>\n",
       "      <td>3950.0</td>\n",
       "      <td>0</td>\n",
       "      <td>0</td>\n",
       "      <td>15.0</td>\n",
       "      <td>100.00</td>\n",
       "      <td>4.9</td>\n",
       "    </tr>\n",
       "    <tr>\n",
       "      <th>1602</th>\n",
       "      <td>Amazon.com Gift Card in a Gift Tag</td>\n",
       "      <td>Amazon</td>\n",
       "      <td>7520.0</td>\n",
       "      <td>0</td>\n",
       "      <td>0</td>\n",
       "      <td>12.0</td>\n",
       "      <td>10.00</td>\n",
       "      <td>4.9</td>\n",
       "    </tr>\n",
       "    <tr>\n",
       "      <th>1603</th>\n",
       "      <td>Amazon.com $10 Gift Cards, Pack of 3 (Holiday ...</td>\n",
       "      <td>Amazon</td>\n",
       "      <td>3014.0</td>\n",
       "      <td>0</td>\n",
       "      <td>0</td>\n",
       "      <td>3.0</td>\n",
       "      <td>30.00</td>\n",
       "      <td>4.9</td>\n",
       "    </tr>\n",
       "    <tr>\n",
       "      <th>1604</th>\n",
       "      <td>Frito-Lay Baked &amp; Popped Mix Variety Pack, Pac...</td>\n",
       "      <td>Frito-Lay</td>\n",
       "      <td>17706.0</td>\n",
       "      <td>0</td>\n",
       "      <td>0</td>\n",
       "      <td>33.0</td>\n",
       "      <td>28.00</td>\n",
       "      <td>4.6</td>\n",
       "    </tr>\n",
       "  </tbody>\n",
       "</table>\n",
       "<p>1605 rows × 8 columns</p>\n",
       "</div>"
      ],
      "text/plain": [
       "                                                   Name            Brand  \\\n",
       "0     NOCO NUSB211NA 10W USB Power Adapter, 2.1A 5V ...             NOCO   \n",
       "1     Amazfit Band 5 Activity Fitness Tracker with A...          Amazfit   \n",
       "2     Amazon Basics Universal Travel Case Organizer ...     AmazonBasics   \n",
       "3     Amazon Glow with Tangram Bits | Learn, Play, R...           Amazon   \n",
       "4     Echo Show 5 (2nd Gen, 2021 release) - Deep Sea...           Amazon   \n",
       "...                                                 ...              ...   \n",
       "1600                           American Eagle Gift Card   American Eagle   \n",
       "1601              Amazon.com Gift Cards - As a Bookmark           Amazon   \n",
       "1602                 Amazon.com Gift Card in a Gift Tag           Amazon   \n",
       "1603  Amazon.com $10 Gift Cards, Pack of 3 (Holiday ...           Amazon   \n",
       "1604  Frito-Lay Baked & Popped Mix Variety Pack, Pac...        Frito-Lay   \n",
       "\n",
       "       Rating  BestSeller  AmazonChoice  Comments   Price  Stars  \n",
       "0      3869.0           0             0      28.0   13.95    4.7  \n",
       "1     21158.0           0             0    1000.0   29.88    4.1  \n",
       "2     16242.0           0             1     277.0   14.44    4.6  \n",
       "3       215.0           0             1      31.0  329.98    4.4  \n",
       "4       928.0           0             1      21.0  114.98    4.7  \n",
       "...       ...         ...           ...       ...     ...    ...  \n",
       "1600   5999.0           0             0       4.0   25.00    4.9  \n",
       "1601   3950.0           0             0      15.0  100.00    4.9  \n",
       "1602   7520.0           0             0      12.0   10.00    4.9  \n",
       "1603   3014.0           0             0       3.0   30.00    4.9  \n",
       "1604  17706.0           0             0      33.0   28.00    4.6  \n",
       "\n",
       "[1605 rows x 8 columns]"
      ]
     },
     "execution_count": 267,
     "metadata": {},
     "output_type": "execute_result"
    }
   ],
   "source": [
    "import pandas as pd\n",
    "import numpy as np\n",
    "import sklearn\n",
    "from sklearn import preprocessing, linear_model, model_selection, metrics\n",
    "from sklearn.preprocessing import StandardScaler, MinMaxScaler\n",
    "from sklearn.linear_model import LogisticRegression, LinearRegression\n",
    "from sklearn.model_selection import train_test_split\n",
    "from sklearn.metrics import r2_score, f1_score\n",
    "\n",
    "df1 = pd.read_csv(\"Amazon Items Cleaned.csv\")\n",
    "df1\n",
    "\n",
    "# import matplotlib.pyplot as plt\n",
    "# %matplotlib inline  \n",
    "# plt.rcParams['figure.figsize'] = (10, 6)\n",
    "\n",
    "# lrm = linear_model.LogisticRegression()\n",
    "# lrm.fit(df[[\"Stars\"]],df[\"BestSeller\"])\n",
    "# df.plot.scatter(x='Stars',y='BestSeller',s=30)\n",
    "# x = np.linspace(df['Stars'].min(),df['Stars'].max(),1000)\n",
    "# y_pred_p=lrm.predict_proba(np.reshape(x, (-1, 1)))\n",
    "# y_pred_p1=[y[1] for y in y_pred_p]\n",
    "# plt.plot(x,y_pred_p1,color='Black')\n",
    "# plt.plot(x,[0.5]*len(x),color=\"red\")\n",
    "# plt.show()"
   ]
  },
  {
   "cell_type": "code",
   "execution_count": 303,
   "metadata": {},
   "outputs": [
    {
     "data": {
      "text/plain": [
       "<AxesSubplot:xlabel='Stars', ylabel='BestSeller'>"
      ]
     },
     "execution_count": 303,
     "metadata": {},
     "output_type": "execute_result"
    },
    {
     "data": {
      "image/png": "[encoded data removed]",
      "text/plain": [
       "<Figure size 432x288 with 1 Axes>"
      ]
     },
     "metadata": {
      "needs_background": "light"
     },
     "output_type": "display_data"
    }
   ],
   "source": [
    "df1.plot.scatter(x='Stars',y='BestSeller',s=30)"
   ]
  },
  {
   "cell_type": "code",
   "execution_count": 331,
   "metadata": {},
   "outputs": [
    {
     "name": "stderr",
     "output_type": "stream",
     "text": [
      "c:\\Users\\Yaniv\\anaconda3\\envs\\datascience\\lib\\site-packages\\sklearn\\base.py:450: UserWarning: X does not have valid feature names, but LogisticRegression was fitted with feature names\n",
      "  warnings.warn(\n"
     ]
    },
    {
     "data": {
      "image/png": "[encoded data removed]",
      "text/plain": [
       "<Figure size 432x288 with 1 Axes>"
      ]
     },
     "metadata": {
      "needs_background": "light"
     },
     "output_type": "display_data"
    }
   ],
   "source": [
    "\n",
    "\n",
    "lrm = linear_model.LogisticRegression()\n",
    "lrm.fit(df1[[\"Stars\"]], df1[\"BestSeller\"])\n",
    "\n",
    "df1.plot.scatter(x='Stars',y='BestSeller',s=30)\n",
    "\n",
    "#create a set of points along the x axis to print prediction graph\n",
    "x = np.linspace(df1['Stars'].min(), df1['BestSeller'].max(), 1000)\n",
    "\n",
    "#get probabilistic predictions for those points(using predict_proba) we need to reshape x to get it to a 2 dimensional array\n",
    "y_pred_p = lrm.predict_proba(np.reshape(x, (-1, 1)))\n",
    "\n",
    "#get only the probability for the \"pass\" category\n",
    "y_pred_p1 = [y[1] for y in y_pred_p]\n",
    "\n",
    "#plot the prediction graph\n",
    "plt.plot(x,y_pred_p1,color='Black')\n",
    "\n",
    "# draw the line of y=0.5 as the decision point\n",
    "plt.plot(x, [0.5]*len(x), color=\"red\")\n",
    "plt.show()\n",
    "\n"
   ]
  },
  {
   "cell_type": "markdown",
   "metadata": {},
   "source": [
    "Split dataset into feature vector (X) and target value (y) series"
   ]
  },
  {
   "cell_type": "code",
   "execution_count": 268,
   "metadata": {},
   "outputs": [
    {
     "data": {
      "text/html": [
       "<div>\n",
       "<style scoped>\n",
       "    .dataframe tbody tr th:only-of-type {\n",
       "        vertical-align: middle;\n",
       "    }\n",
       "\n",
       "    .dataframe tbody tr th {\n",
       "        vertical-align: top;\n",
       "    }\n",
       "\n",
       "    .dataframe thead th {\n",
       "        text-align: right;\n",
       "    }\n",
       "</style>\n",
       "<table border=\"1\" class=\"dataframe\">\n",
       "  <thead>\n",
       "    <tr style=\"text-align: right;\">\n",
       "      <th></th>\n",
       "      <th>Rating</th>\n",
       "      <th>AmazonChoice</th>\n",
       "      <th>Comments</th>\n",
       "      <th>Price</th>\n",
       "      <th>Stars</th>\n",
       "    </tr>\n",
       "  </thead>\n",
       "  <tbody>\n",
       "    <tr>\n",
       "      <th>0</th>\n",
       "      <td>3869.0</td>\n",
       "      <td>0</td>\n",
       "      <td>28.0</td>\n",
       "      <td>13.95</td>\n",
       "      <td>4.7</td>\n",
       "    </tr>\n",
       "    <tr>\n",
       "      <th>1</th>\n",
       "      <td>21158.0</td>\n",
       "      <td>0</td>\n",
       "      <td>1000.0</td>\n",
       "      <td>29.88</td>\n",
       "      <td>4.1</td>\n",
       "    </tr>\n",
       "    <tr>\n",
       "      <th>2</th>\n",
       "      <td>16242.0</td>\n",
       "      <td>1</td>\n",
       "      <td>277.0</td>\n",
       "      <td>14.44</td>\n",
       "      <td>4.6</td>\n",
       "    </tr>\n",
       "    <tr>\n",
       "      <th>3</th>\n",
       "      <td>215.0</td>\n",
       "      <td>1</td>\n",
       "      <td>31.0</td>\n",
       "      <td>329.98</td>\n",
       "      <td>4.4</td>\n",
       "    </tr>\n",
       "    <tr>\n",
       "      <th>4</th>\n",
       "      <td>928.0</td>\n",
       "      <td>1</td>\n",
       "      <td>21.0</td>\n",
       "      <td>114.98</td>\n",
       "      <td>4.7</td>\n",
       "    </tr>\n",
       "    <tr>\n",
       "      <th>...</th>\n",
       "      <td>...</td>\n",
       "      <td>...</td>\n",
       "      <td>...</td>\n",
       "      <td>...</td>\n",
       "      <td>...</td>\n",
       "    </tr>\n",
       "    <tr>\n",
       "      <th>1600</th>\n",
       "      <td>5999.0</td>\n",
       "      <td>0</td>\n",
       "      <td>4.0</td>\n",
       "      <td>25.00</td>\n",
       "      <td>4.9</td>\n",
       "    </tr>\n",
       "    <tr>\n",
       "      <th>1601</th>\n",
       "      <td>3950.0</td>\n",
       "      <td>0</td>\n",
       "      <td>15.0</td>\n",
       "      <td>100.00</td>\n",
       "      <td>4.9</td>\n",
       "    </tr>\n",
       "    <tr>\n",
       "      <th>1602</th>\n",
       "      <td>7520.0</td>\n",
       "      <td>0</td>\n",
       "      <td>12.0</td>\n",
       "      <td>10.00</td>\n",
       "      <td>4.9</td>\n",
       "    </tr>\n",
       "    <tr>\n",
       "      <th>1603</th>\n",
       "      <td>3014.0</td>\n",
       "      <td>0</td>\n",
       "      <td>3.0</td>\n",
       "      <td>30.00</td>\n",
       "      <td>4.9</td>\n",
       "    </tr>\n",
       "    <tr>\n",
       "      <th>1604</th>\n",
       "      <td>17706.0</td>\n",
       "      <td>0</td>\n",
       "      <td>33.0</td>\n",
       "      <td>28.00</td>\n",
       "      <td>4.6</td>\n",
       "    </tr>\n",
       "  </tbody>\n",
       "</table>\n",
       "<p>1605 rows × 5 columns</p>\n",
       "</div>"
      ],
      "text/plain": [
       "       Rating  AmazonChoice  Comments   Price  Stars\n",
       "0      3869.0             0      28.0   13.95    4.7\n",
       "1     21158.0             0    1000.0   29.88    4.1\n",
       "2     16242.0             1     277.0   14.44    4.6\n",
       "3       215.0             1      31.0  329.98    4.4\n",
       "4       928.0             1      21.0  114.98    4.7\n",
       "...       ...           ...       ...     ...    ...\n",
       "1600   5999.0             0       4.0   25.00    4.9\n",
       "1601   3950.0             0      15.0  100.00    4.9\n",
       "1602   7520.0             0      12.0   10.00    4.9\n",
       "1603   3014.0             0       3.0   30.00    4.9\n",
       "1604  17706.0             0      33.0   28.00    4.6\n",
       "\n",
       "[1605 rows x 5 columns]"
      ]
     },
     "execution_count": 268,
     "metadata": {},
     "output_type": "execute_result"
    }
   ],
   "source": [
    "df = df1.copy()\n",
    "X = df\n",
    "y = df[\"BestSeller\"]\n",
    "X.pop(\"BestSeller\")\n",
    "X.pop(\"Name\")\n",
    "X.pop(\"Brand\")\n",
    "\n",
    "X\n"
   ]
  },
  {
   "cell_type": "code",
   "execution_count": 278,
   "metadata": {},
   "outputs": [
    {
     "data": {
      "text/plain": [
       "0       0\n",
       "1       0\n",
       "2       0\n",
       "3       0\n",
       "4       0\n",
       "       ..\n",
       "1600    0\n",
       "1601    0\n",
       "1602    0\n",
       "1603    0\n",
       "1604    0\n",
       "Name: BestSeller, Length: 1605, dtype: int64"
      ]
     },
     "execution_count": 278,
     "metadata": {},
     "output_type": "execute_result"
    }
   ],
   "source": [
    "y"
   ]
  },
  {
   "cell_type": "markdown",
   "metadata": {},
   "source": [
    "Setting a function for splitting into train and test"
   ]
  },
  {
   "cell_type": "code",
   "execution_count": null,
   "metadata": {},
   "outputs": [],
   "source": [
    "# Function - Spliting the dataset into test and train\n",
    "# test_size = default 0.25\n",
    "# random_state = default np.random\n",
    "\n",
    "def split_to_train_and_test(X, y):\n",
    "    X_train, X_test, y_train, y_test = train_test_split(X, y)\n",
    "    return X_train, X_test, y_train, y_test"
   ]
  },
  {
   "cell_type": "markdown",
   "metadata": {},
   "source": [
    "Splitting the data into train and test subsets"
   ]
  },
  {
   "cell_type": "code",
   "execution_count": null,
   "metadata": {},
   "outputs": [],
   "source": [
    "X_train, X_test, y_train, y_test = split_to_train_and_test(X,y)"
   ]
  },
  {
   "cell_type": "code",
   "execution_count": null,
   "metadata": {},
   "outputs": [],
   "source": [
    "# function - MinMax Scaler\n",
    "\n",
    "def scale_features(X_train):\n",
    "    scaler = MinMaxScaler(feature_range=(0, 1)) # StandardScaler()\n",
    "    X_train_scaled = scaler.fit_transform(X_train)\n",
    "    return X_train_scaled"
   ]
  },
  {
   "cell_type": "markdown",
   "metadata": {},
   "source": [
    "Linear Regression - Evaluation using r2_score"
   ]
  },
  {
   "cell_type": "code",
   "execution_count": null,
   "metadata": {},
   "outputs": [
    {
     "name": "stdout",
     "output_type": "stream",
     "text": [
      "0.03274134780747706\n"
     ]
    }
   ],
   "source": [
    "def train_1st_model(X_train, y_train):\n",
    "    reg = LinearRegression(fit_intercept = True)\n",
    "    reg.fit(X_train, y_train)\n",
    "    return reg\n",
    "\n",
    "def predict_1st(trained_1st_model, X_test):\n",
    "    y_pred = trained_1st_model.predict(X_test)\n",
    "    return y_pred\n",
    "\n",
    "trained_model_1st = train_1st_model(X_train, y_train)\n",
    "y_pred = predict_1st(trained_model_1st, X_test)\n",
    "\n",
    "evaluatePer = metrics.r2_score(y_test, y_pred)\n",
    "print(evaluatePer)"
   ]
  },
  {
   "cell_type": "markdown",
   "metadata": {},
   "source": [
    "R2 value is very low, hence we will not use Linear Regression"
   ]
  },
  {
   "cell_type": "markdown",
   "metadata": {},
   "source": [
    "Scaling X_train"
   ]
  },
  {
   "cell_type": "code",
   "execution_count": null,
   "metadata": {},
   "outputs": [
    {
     "name": "stdout",
     "output_type": "stream",
     "text": [
      "[[1.01860101e-02 1.00000000e+00 9.62888666e-02 5.08131338e-02\n",
      "  8.50000000e-01]\n",
      " [7.40485434e-03 0.00000000e+00 1.45436309e-01 5.85425427e-02\n",
      "  8.75000000e-01]\n",
      " [1.50654970e-03 1.00000000e+00 2.27683049e-01 7.71395004e-03\n",
      "  9.50000000e-01]\n",
      " ...\n",
      " [1.88589674e-04 0.00000000e+00 0.00000000e+00 2.35746970e-02\n",
      "  9.25000000e-01]\n",
      " [1.34332208e-02 1.00000000e+00 1.12337011e-01 1.97563690e-02\n",
      "  9.00000000e-01]\n",
      " [2.60123689e-04 0.00000000e+00 3.00902708e-03 1.68037349e-02\n",
      "  8.50000000e-01]]\n",
      "\n",
      "\n",
      "Min Value:  [0. 0. 0. 0. 0.]\n",
      "Max Value:  [1. 1. 1. 1. 1.]\n"
     ]
    }
   ],
   "source": [
    "X_train_scaled = scale_features(X_train)\n",
    "print(X_train_scaled)\n",
    "print(\"\\n\")\n",
    "print(\"Min Value: \", X_train_scaled.min(axis=0))\n",
    "print(\"Max Value: \", X_train_scaled.max(axis=0))"
   ]
  },
  {
   "cell_type": "markdown",
   "metadata": {},
   "source": [
    "Scaling X_test"
   ]
  },
  {
   "cell_type": "code",
   "execution_count": null,
   "metadata": {},
   "outputs": [
    {
     "name": "stdout",
     "output_type": "stream",
     "text": [
      "[[2.37728744e-02 0.00000000e+00 6.01805416e-03 2.55790534e-02\n",
      "  8.63636364e-01]\n",
      " [1.56393917e-02 0.00000000e+00 6.61985958e-02 4.93454179e-02\n",
      "  9.09090909e-01]\n",
      " [0.00000000e+00 1.00000000e+00 1.01303912e-01 3.95770393e-01\n",
      "  9.09090909e-01]\n",
      " ...\n",
      " [1.05969446e-02 1.00000000e+00 5.69709127e-01 6.95891239e-01\n",
      "  7.72727273e-01]\n",
      " [9.36677480e-05 1.00000000e+00 4.01203611e-03 1.00684794e-01\n",
      "  8.63636364e-01]\n",
      " [1.12682301e-02 0.00000000e+00 2.30692076e-02 1.30916415e-02\n",
      "  8.18181818e-01]]\n",
      "\n",
      "\n",
      "Min Value:  [0. 0. 0. 0. 0.]\n",
      "Max Value:  [1. 1. 1. 1. 1.]\n"
     ]
    }
   ],
   "source": [
    "X_test_scaled = scale_features(X_test)\n",
    "print(X_test_scaled)\n",
    "print(\"\\n\")\n",
    "print(\"Min Value: \", X_test_scaled.min(axis=0))\n",
    "print(\"Max Value: \", X_test_scaled.max(axis=0))"
   ]
  },
  {
   "cell_type": "markdown",
   "metadata": {},
   "source": [
    "Logistic Regression - Evaluation using r2_score"
   ]
  },
  {
   "cell_type": "code",
   "execution_count": null,
   "metadata": {},
   "outputs": [
    {
     "name": "stdout",
     "output_type": "stream",
     "text": [
      "Index of predicted products: [1344]\n",
      "Name            SABRENT 4-Port USB 3.0 Hub, Slim Data USB Hub ...\n",
      "Brand                                                     SABRENT\n",
      "Rating                                                   155240.0\n",
      "BestSeller                                                      0\n",
      "AmazonChoice                                                    0\n",
      "Comments                                                   1000.0\n",
      "Price                                                       16.99\n",
      "Stars                                                         4.6\n",
      "Name: 1344, dtype: object\n"
     ]
    }
   ],
   "source": [
    "clf_model = LogisticRegression().fit(X_train, y_train)\n",
    "clf_model\n",
    "y_pred=clf_model.predict(X_test)\n",
    "\n",
    "resDF = pd.DataFrame({\"Actual\":y_test,\"Predicted\":y_pred})\n",
    "resDF.to_csv(\"Amazon Predict.csv\", index = None)\n",
    "indexes = resDF[resDF['Predicted'] == True].index.tolist()\n",
    "print('Index of predicted products: ' + str(resDF[resDF['Predicted'] == True].index.tolist()))\n",
    "for i in indexes:\n",
    "    print(df1.loc[i])\n"
   ]
  },
  {
   "cell_type": "markdown",
   "metadata": {},
   "source": [
    "Let's look at the actual product that was predicted to become a bestseller.\n",
    "\n",
    "We can see some indication we saw before:\n",
    "1. Ratings - > 100k \n",
    "2. Amazon's choice - 0 it's negligible.\n",
    "3. Comment - 1000 which is also the max.\n",
    "4. Price - 0-100$ like we saw in the EDA section.\n",
    "5. Stars - > 4 Stars like we also predicted before."
   ]
  },
  {
   "cell_type": "code",
   "execution_count": null,
   "metadata": {},
   "outputs": [
    {
     "name": "stdout",
     "output_type": "stream",
     "text": [
      "1\n"
     ]
    }
   ],
   "source": [
    "# Count number of predicted items\n",
    "\n",
    "count = 0\n",
    "for i in resDF[\"Predicted\"] :\n",
    "    if i == 1 :\n",
    "        count = count + 1\n",
    "print(count)"
   ]
  },
  {
   "cell_type": "markdown",
   "metadata": {},
   "source": [
    "We tried to predict if an item will be a Best Seller on amazon via logistic regression.\n",
    "\n",
    "We found a correlation between the result to the actual bestsellers characteristics, but yet a lot of other items stand in the same criteria and not predicted also.\n",
    "\n",
    "Note: Our prediction not always gives output.\n",
    "\n",
    "We will try to use another Classifier - KNN"
   ]
  },
  {
   "cell_type": "code",
   "execution_count": null,
   "metadata": {},
   "outputs": [
    {
     "data": {
      "text/html": [
       "<div>\n",
       "<style scoped>\n",
       "    .dataframe tbody tr th:only-of-type {\n",
       "        vertical-align: middle;\n",
       "    }\n",
       "\n",
       "    .dataframe tbody tr th {\n",
       "        vertical-align: top;\n",
       "    }\n",
       "\n",
       "    .dataframe thead th {\n",
       "        text-align: right;\n",
       "    }\n",
       "</style>\n",
       "<table border=\"1\" class=\"dataframe\">\n",
       "  <thead>\n",
       "    <tr style=\"text-align: right;\">\n",
       "      <th></th>\n",
       "      <th>Rating</th>\n",
       "      <th>AmazonChoice</th>\n",
       "      <th>Comments</th>\n",
       "      <th>Price</th>\n",
       "      <th>Stars</th>\n",
       "    </tr>\n",
       "  </thead>\n",
       "  <tbody>\n",
       "    <tr>\n",
       "      <th>0</th>\n",
       "      <td>3869.0</td>\n",
       "      <td>0</td>\n",
       "      <td>28.0</td>\n",
       "      <td>13.95</td>\n",
       "      <td>4.7</td>\n",
       "    </tr>\n",
       "    <tr>\n",
       "      <th>1</th>\n",
       "      <td>21158.0</td>\n",
       "      <td>0</td>\n",
       "      <td>1000.0</td>\n",
       "      <td>29.88</td>\n",
       "      <td>4.1</td>\n",
       "    </tr>\n",
       "    <tr>\n",
       "      <th>2</th>\n",
       "      <td>16242.0</td>\n",
       "      <td>1</td>\n",
       "      <td>277.0</td>\n",
       "      <td>14.44</td>\n",
       "      <td>4.6</td>\n",
       "    </tr>\n",
       "    <tr>\n",
       "      <th>3</th>\n",
       "      <td>215.0</td>\n",
       "      <td>1</td>\n",
       "      <td>31.0</td>\n",
       "      <td>329.98</td>\n",
       "      <td>4.4</td>\n",
       "    </tr>\n",
       "    <tr>\n",
       "      <th>4</th>\n",
       "      <td>928.0</td>\n",
       "      <td>1</td>\n",
       "      <td>21.0</td>\n",
       "      <td>114.98</td>\n",
       "      <td>4.7</td>\n",
       "    </tr>\n",
       "    <tr>\n",
       "      <th>...</th>\n",
       "      <td>...</td>\n",
       "      <td>...</td>\n",
       "      <td>...</td>\n",
       "      <td>...</td>\n",
       "      <td>...</td>\n",
       "    </tr>\n",
       "    <tr>\n",
       "      <th>1600</th>\n",
       "      <td>5999.0</td>\n",
       "      <td>0</td>\n",
       "      <td>4.0</td>\n",
       "      <td>25.00</td>\n",
       "      <td>4.9</td>\n",
       "    </tr>\n",
       "    <tr>\n",
       "      <th>1601</th>\n",
       "      <td>3950.0</td>\n",
       "      <td>0</td>\n",
       "      <td>15.0</td>\n",
       "      <td>100.00</td>\n",
       "      <td>4.9</td>\n",
       "    </tr>\n",
       "    <tr>\n",
       "      <th>1602</th>\n",
       "      <td>7520.0</td>\n",
       "      <td>0</td>\n",
       "      <td>12.0</td>\n",
       "      <td>10.00</td>\n",
       "      <td>4.9</td>\n",
       "    </tr>\n",
       "    <tr>\n",
       "      <th>1603</th>\n",
       "      <td>3014.0</td>\n",
       "      <td>0</td>\n",
       "      <td>3.0</td>\n",
       "      <td>30.00</td>\n",
       "      <td>4.9</td>\n",
       "    </tr>\n",
       "    <tr>\n",
       "      <th>1604</th>\n",
       "      <td>17706.0</td>\n",
       "      <td>0</td>\n",
       "      <td>33.0</td>\n",
       "      <td>28.00</td>\n",
       "      <td>4.6</td>\n",
       "    </tr>\n",
       "  </tbody>\n",
       "</table>\n",
       "<p>1605 rows × 5 columns</p>\n",
       "</div>"
      ],
      "text/plain": [
       "       Rating  AmazonChoice  Comments   Price  Stars\n",
       "0      3869.0             0      28.0   13.95    4.7\n",
       "1     21158.0             0    1000.0   29.88    4.1\n",
       "2     16242.0             1     277.0   14.44    4.6\n",
       "3       215.0             1      31.0  329.98    4.4\n",
       "4       928.0             1      21.0  114.98    4.7\n",
       "...       ...           ...       ...     ...    ...\n",
       "1600   5999.0             0       4.0   25.00    4.9\n",
       "1601   3950.0             0      15.0  100.00    4.9\n",
       "1602   7520.0             0      12.0   10.00    4.9\n",
       "1603   3014.0             0       3.0   30.00    4.9\n",
       "1604  17706.0             0      33.0   28.00    4.6\n",
       "\n",
       "[1605 rows x 5 columns]"
      ]
     },
     "execution_count": 257,
     "metadata": {},
     "output_type": "execute_result"
    }
   ],
   "source": [
    "df"
   ]
  },
  {
   "cell_type": "markdown",
   "metadata": {},
   "source": [
    "Let's run KNN to try to classify our best sellers within the items.\n",
    "\n",
    "We'll take a look only on the Stars and Rating from features."
   ]
  },
  {
   "cell_type": "code",
   "execution_count": null,
   "metadata": {},
   "outputs": [
    {
     "data": {
      "image/png": "[encoded data removed]",
      "text/plain": [
       "<Figure size 720x576 with 1 Axes>"
      ]
     },
     "metadata": {
      "needs_background": "light"
     },
     "output_type": "display_data"
    }
   ],
   "source": [
    "from sklearn.neighbors import KNeighborsClassifier\n",
    "from sklearn import metrics\n",
    "from sklearn.model_selection import train_test_split\n",
    "from sklearn.model_selection import cross_val_score\n",
    "import matplotlib.pyplot as plt\n",
    "from matplotlib.colors import ListedColormap\n",
    "\n",
    "\n",
    "X = X[['Stars', 'Rating']]\n",
    "# y = y\n",
    "\n",
    "# Create color maps\n",
    "cmap_light = ListedColormap(['#FFAAAA', '#AAFFAA', '#AAAAFF'])\n",
    "cmap_bold = ListedColormap(['#FF0000', '#00FF00', '#0000FF'])\n",
    "\n",
    "# plot data\n",
    "plt.figure(figsize=(10, 8))\n",
    "plt.scatter(X.Stars, X.Rating, c=y,  marker=\"o\", cmap=cmap_bold, s=200)\n",
    "\n",
    "\n",
    "x_min, x_max = X.Stars.min() - 1, X.Stars.max() + 1\n",
    "y_min, y_max = X.Rating.min() - 1, X.Rating.max() + 1\n",
    "plt.xlim(x_min, x_max)\n",
    "plt.ylim(y_min, y_max)\n",
    "plt.title('Amazon dataset')\n",
    "plt.xlabel('Stars')\n",
    "plt.ylabel('Rating')\n",
    "plt.show()\n"
   ]
  },
  {
   "cell_type": "markdown",
   "metadata": {},
   "source": [
    "The blue dots above uses as indicators for bestsellers.\n",
    "\n",
    "Now let's train the KNN classifier on the train set and try to asses it's performance by printing the confusion matrix, followed by the accuracy score."
   ]
  },
  {
   "cell_type": "code",
   "execution_count": null,
   "metadata": {},
   "outputs": [
    {
     "name": "stdout",
     "output_type": "stream",
     "text": [
      "[[304   2]\n",
      " [ 15   0]]\n",
      "Accuracy =  0.9470404984423676\n"
     ]
    }
   ],
   "source": [
    "\n",
    "\n",
    "# Split into training and test sets\n",
    "XTrain, XTest, yTrain, yTest = train_test_split(\n",
    "    X, y, random_state=1, test_size=0.2)\n",
    "\n",
    "# set up the model, k-NN classification with k = ?\n",
    "k = 3\n",
    "clf = KNeighborsClassifier(n_neighbors=k)\n",
    "clf.fit(XTrain, yTrain)\n",
    "\n",
    "y_pred = clf.predict(XTest)\n",
    "\n",
    "print(metrics.confusion_matrix(y_true=yTest, y_pred=y_pred))\n",
    "\n",
    "print('Accuracy = ', metrics.accuracy_score(y_true=yTest, y_pred=y_pred))\n"
   ]
  },
  {
   "cell_type": "markdown",
   "metadata": {},
   "source": [
    "Now we are running a test for various values of k to check which value of k (the amount of k = number of categories) gives the best result "
   ]
  },
  {
   "cell_type": "code",
   "execution_count": null,
   "metadata": {},
   "outputs": [
    {
     "data": {
      "text/html": [
       "<div>\n",
       "<style scoped>\n",
       "    .dataframe tbody tr th:only-of-type {\n",
       "        vertical-align: middle;\n",
       "    }\n",
       "\n",
       "    .dataframe tbody tr th {\n",
       "        vertical-align: top;\n",
       "    }\n",
       "\n",
       "    .dataframe thead th {\n",
       "        text-align: right;\n",
       "    }\n",
       "</style>\n",
       "<table border=\"1\" class=\"dataframe\">\n",
       "  <thead>\n",
       "    <tr style=\"text-align: right;\">\n",
       "      <th></th>\n",
       "      <th>k</th>\n",
       "      <th>train_accuracy</th>\n",
       "      <th>test_accuracy</th>\n",
       "    </tr>\n",
       "  </thead>\n",
       "  <tbody>\n",
       "    <tr>\n",
       "      <th>0</th>\n",
       "      <td>1</td>\n",
       "      <td>0.996885</td>\n",
       "      <td>0.931464</td>\n",
       "    </tr>\n",
       "    <tr>\n",
       "      <th>1</th>\n",
       "      <td>2</td>\n",
       "      <td>0.975857</td>\n",
       "      <td>0.953271</td>\n",
       "    </tr>\n",
       "    <tr>\n",
       "      <th>2</th>\n",
       "      <td>3</td>\n",
       "      <td>0.975078</td>\n",
       "      <td>0.947040</td>\n",
       "    </tr>\n",
       "    <tr>\n",
       "      <th>3</th>\n",
       "      <td>4</td>\n",
       "      <td>0.975857</td>\n",
       "      <td>0.953271</td>\n",
       "    </tr>\n",
       "    <tr>\n",
       "      <th>4</th>\n",
       "      <td>5</td>\n",
       "      <td>0.975857</td>\n",
       "      <td>0.953271</td>\n",
       "    </tr>\n",
       "    <tr>\n",
       "      <th>5</th>\n",
       "      <td>6</td>\n",
       "      <td>0.975857</td>\n",
       "      <td>0.953271</td>\n",
       "    </tr>\n",
       "    <tr>\n",
       "      <th>6</th>\n",
       "      <td>7</td>\n",
       "      <td>0.975857</td>\n",
       "      <td>0.953271</td>\n",
       "    </tr>\n",
       "    <tr>\n",
       "      <th>7</th>\n",
       "      <td>8</td>\n",
       "      <td>0.975857</td>\n",
       "      <td>0.953271</td>\n",
       "    </tr>\n",
       "    <tr>\n",
       "      <th>8</th>\n",
       "      <td>9</td>\n",
       "      <td>0.975857</td>\n",
       "      <td>0.953271</td>\n",
       "    </tr>\n",
       "    <tr>\n",
       "      <th>9</th>\n",
       "      <td>10</td>\n",
       "      <td>0.975857</td>\n",
       "      <td>0.953271</td>\n",
       "    </tr>\n",
       "    <tr>\n",
       "      <th>10</th>\n",
       "      <td>11</td>\n",
       "      <td>0.975857</td>\n",
       "      <td>0.953271</td>\n",
       "    </tr>\n",
       "    <tr>\n",
       "      <th>11</th>\n",
       "      <td>12</td>\n",
       "      <td>0.975857</td>\n",
       "      <td>0.953271</td>\n",
       "    </tr>\n",
       "    <tr>\n",
       "      <th>12</th>\n",
       "      <td>13</td>\n",
       "      <td>0.975857</td>\n",
       "      <td>0.953271</td>\n",
       "    </tr>\n",
       "    <tr>\n",
       "      <th>13</th>\n",
       "      <td>14</td>\n",
       "      <td>0.975857</td>\n",
       "      <td>0.953271</td>\n",
       "    </tr>\n",
       "    <tr>\n",
       "      <th>14</th>\n",
       "      <td>15</td>\n",
       "      <td>0.975857</td>\n",
       "      <td>0.953271</td>\n",
       "    </tr>\n",
       "    <tr>\n",
       "      <th>15</th>\n",
       "      <td>16</td>\n",
       "      <td>0.975857</td>\n",
       "      <td>0.953271</td>\n",
       "    </tr>\n",
       "    <tr>\n",
       "      <th>16</th>\n",
       "      <td>17</td>\n",
       "      <td>0.975857</td>\n",
       "      <td>0.953271</td>\n",
       "    </tr>\n",
       "    <tr>\n",
       "      <th>17</th>\n",
       "      <td>18</td>\n",
       "      <td>0.975857</td>\n",
       "      <td>0.953271</td>\n",
       "    </tr>\n",
       "    <tr>\n",
       "      <th>18</th>\n",
       "      <td>19</td>\n",
       "      <td>0.975857</td>\n",
       "      <td>0.953271</td>\n",
       "    </tr>\n",
       "    <tr>\n",
       "      <th>19</th>\n",
       "      <td>20</td>\n",
       "      <td>0.975857</td>\n",
       "      <td>0.953271</td>\n",
       "    </tr>\n",
       "  </tbody>\n",
       "</table>\n",
       "</div>"
      ],
      "text/plain": [
       "     k  train_accuracy  test_accuracy\n",
       "0    1        0.996885       0.931464\n",
       "1    2        0.975857       0.953271\n",
       "2    3        0.975078       0.947040\n",
       "3    4        0.975857       0.953271\n",
       "4    5        0.975857       0.953271\n",
       "5    6        0.975857       0.953271\n",
       "6    7        0.975857       0.953271\n",
       "7    8        0.975857       0.953271\n",
       "8    9        0.975857       0.953271\n",
       "9   10        0.975857       0.953271\n",
       "10  11        0.975857       0.953271\n",
       "11  12        0.975857       0.953271\n",
       "12  13        0.975857       0.953271\n",
       "13  14        0.975857       0.953271\n",
       "14  15        0.975857       0.953271\n",
       "15  16        0.975857       0.953271\n",
       "16  17        0.975857       0.953271\n",
       "17  18        0.975857       0.953271\n",
       "18  19        0.975857       0.953271\n",
       "19  20        0.975857       0.953271"
      ]
     },
     "execution_count": 260,
     "metadata": {},
     "output_type": "execute_result"
    }
   ],
   "source": [
    "k_s = []\n",
    "train_accuracies = []\n",
    "test_accuracies = []\n",
    "for k in range(1, 21):\n",
    "    clf = KNeighborsClassifier(n_neighbors=k)\n",
    "    clf.fit(XTrain, yTrain)\n",
    "    y_pred_train = clf.predict(XTrain)\n",
    "    y_pred = clf.predict(XTest)\n",
    "    k_s.append(k)\n",
    "    train_accuracies.append(metrics.accuracy_score(\n",
    "        y_true=yTrain, y_pred=y_pred_train))\n",
    "    test_accuracies.append(metrics.accuracy_score(y_true=yTest, y_pred=y_pred))\n",
    "\n",
    "df = pd.DataFrame({\"k\": k_s, \"train_accuracy\": train_accuracies,\n",
    "                  \"test_accuracy\": test_accuracies})\n",
    "df\n"
   ]
  },
  {
   "cell_type": "markdown",
   "metadata": {},
   "source": [
    "We found that the best k is k = 1 with accuracy score of 0.948171 which is the min.\n",
    "\n",
    "We will create the classification visualization for the knn classifier (based on the selected k). \n",
    "\n",
    "Any point in the red area will be classified as the red type, and any point in the green area will be classified as green."
   ]
  },
  {
   "cell_type": "code",
   "execution_count": null,
   "metadata": {},
   "outputs": [
    {
     "name": "stderr",
     "output_type": "stream",
     "text": [
      "c:\\Users\\Yaniv\\anaconda3\\envs\\datascience\\lib\\site-packages\\sklearn\\base.py:450: UserWarning: X does not have valid feature names, but KNeighborsClassifier was fitted with feature names\n",
      "  warnings.warn(\n"
     ]
    },
    {
     "data": {
      "image/png": "[encoded data removed]",
      "text/plain": [
       "<Figure size 432x288 with 1 Axes>"
      ]
     },
     "metadata": {
      "needs_background": "light"
     },
     "output_type": "display_data"
    }
   ],
   "source": [
    "k = 1\n",
    "clf = KNeighborsClassifier(n_neighbors=k)\n",
    "clf.fit(X, y)\n",
    "\n",
    "# plot classification\n",
    "xx, yy = np.meshgrid(np.linspace(x_min, x_max, 400),\n",
    "                     np.linspace(y_min, y_max, 400))\n",
    "zz = clf.predict(np.c_[xx.ravel(), yy.ravel()]).reshape(xx.shape)\n",
    "plt.pcolormesh(xx, yy, zz, cmap=cmap_light)\n",
    "\n",
    "# plot data\n",
    "plt.scatter(X.Stars, X.Rating, c=y, cmap=cmap_bold, s=200)\n",
    "\n",
    "plt.title('Classification of dataset using k-NN with k = ' + str(k))\n",
    "plt.xlabel('Stars')\n",
    "plt.ylabel('Rating')\n",
    "plt.xlim(x_min, x_max)\n",
    "plt.ylim(y_min, y_max)\n",
    "plt.show()\n"
   ]
  },
  {
   "cell_type": "markdown",
   "metadata": {},
   "source": [
    "Cross validation to estimate the accuracy of a knn model on the dataset : \n",
    "1. Splitting the data\n",
    "2. fitting a model and computing the score 10 consecutive times with different splits each time\n",
    "3. printing overall score for the model."
   ]
  },
  {
   "cell_type": "code",
   "execution_count": null,
   "metadata": {},
   "outputs": [
    {
     "data": {
      "text/plain": [
       "array([0.9689441, 0.9689441, 0.9689441, 0.9689441, 0.9689441, 0.975    ,\n",
       "       0.975    , 0.975    , 0.975    , 0.96875  ])"
      ]
     },
     "execution_count": 243,
     "metadata": {},
     "output_type": "execute_result"
    }
   ],
   "source": [
    "clf = KNeighborsClassifier(n_neighbors=5)\n",
    "scores = cross_val_score(clf, X, y, cv=10)\n",
    "\n",
    "scores\n"
   ]
  },
  {
   "cell_type": "code",
   "execution_count": null,
   "metadata": {},
   "outputs": [
    {
     "name": "stdout",
     "output_type": "stream",
     "text": [
      "Overall accuracy: 0.97\n"
     ]
    }
   ],
   "source": [
    "\n",
    "print(\"Overall accuracy: %0.2f\" % scores.mean())\n"
   ]
  },
  {
   "cell_type": "code",
   "execution_count": null,
   "metadata": {},
   "outputs": [
    {
     "name": "stdout",
     "output_type": "stream",
     "text": [
      "highest result with X-fold, x= 19\n"
     ]
    }
   ],
   "source": [
    "clf = KNeighborsClassifier(n_neighbors=5)\n",
    "scores = cross_val_score(clf, X, y, cv=10)\n",
    "scores_list=[cross_val_score(clf, X, y, cv=flds).mean() for flds in range(3,26)]\n",
    "print(\"highest result with X-fold, x=\",np.argmax(scores_list)+3)"
   ]
  },
  {
   "cell_type": "markdown",
   "metadata": {},
   "source": [
    "GridSearchCV\n",
    "We use the scoring parameter in order to define which evaluation score to optimize."
   ]
  },
  {
   "cell_type": "code",
   "execution_count": null,
   "metadata": {},
   "outputs": [
    {
     "name": "stdout",
     "output_type": "stream",
     "text": [
      "best parameter set is: {'n_neighbors': 7}  and its score was 0.9758572470817122\n"
     ]
    }
   ],
   "source": [
    "from sklearn.model_selection import GridSearchCV\n",
    "from sklearn.metrics import make_scorer\n",
    "\n",
    "parameters = {'n_neighbors': range(1, 25, 2)}\n",
    "knn = KNeighborsClassifier()\n",
    "clf = GridSearchCV(knn, parameters, scoring=make_scorer(\n",
    "    metrics.accuracy_score, greater_is_better=True))\n",
    "clf.fit(XTrain, yTrain)\n",
    "\n",
    "print(\"best parameter set is:\", clf.best_params_,\n",
    "      \" and its score was\", clf.best_score_)\n",
    "\n",
    "#if you want to see all iterations internal numbers uncomment the next line\n",
    "#print(clf.cv_results_.items())\n"
   ]
  }
 ],
 "metadata": {
  "kernelspec": {
   "display_name": "Python 3.8.12",
   "language": "python",
   "name": "python3"
  },
  "language_info": {
   "codemirror_mode": {
    "name": "ipython",
    "version": 3
   },
   "file_extension": ".py",
   "mimetype": "text/x-python",
   "name": "python",
   "nbconvert_exporter": "python",
   "pygments_lexer": "ipython3",
   "version": "3.8.12"
  },
  "orig_nbformat": 4,
  "vscode": {
   "interpreter": {
    "hash": "631f2da9300be9763c746115158d7fda57bb43f84de6a8c2c3474ff6e3fd2b9c"
   }
  }
 },
 "nbformat": 4,
 "nbformat_minor": 2
}
