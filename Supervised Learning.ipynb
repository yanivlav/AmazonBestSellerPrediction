{
 "cells": [
  {
   "cell_type": "code",
   "execution_count": 348,
   "metadata": {},
   "outputs": [
    {
     "data": {
      "text/html": [
       "<div>\n",
       "<style scoped>\n",
       "    .dataframe tbody tr th:only-of-type {\n",
       "        vertical-align: middle;\n",
       "    }\n",
       "\n",
       "    .dataframe tbody tr th {\n",
       "        vertical-align: top;\n",
       "    }\n",
       "\n",
       "    .dataframe thead th {\n",
       "        text-align: right;\n",
       "    }\n",
       "</style>\n",
       "<table border=\"1\" class=\"dataframe\">\n",
       "  <thead>\n",
       "    <tr style=\"text-align: right;\">\n",
       "      <th></th>\n",
       "      <th>Name</th>\n",
       "      <th>Brand</th>\n",
       "      <th>Rating</th>\n",
       "      <th>BestSeller</th>\n",
       "      <th>AmazonChoice</th>\n",
       "      <th>Comments</th>\n",
       "      <th>Price</th>\n",
       "      <th>Stars</th>\n",
       "    </tr>\n",
       "  </thead>\n",
       "  <tbody>\n",
       "    <tr>\n",
       "      <th>0</th>\n",
       "      <td>NOCO NUSB211NA 10W USB Power Adapter, 2.1A 5V ...</td>\n",
       "      <td>NOCO</td>\n",
       "      <td>3869.0</td>\n",
       "      <td>0</td>\n",
       "      <td>0</td>\n",
       "      <td>28.0</td>\n",
       "      <td>13.95</td>\n",
       "      <td>4.7</td>\n",
       "    </tr>\n",
       "    <tr>\n",
       "      <th>1</th>\n",
       "      <td>Amazfit Band 5 Activity Fitness Tracker with A...</td>\n",
       "      <td>Amazfit</td>\n",
       "      <td>21158.0</td>\n",
       "      <td>0</td>\n",
       "      <td>0</td>\n",
       "      <td>1000.0</td>\n",
       "      <td>29.88</td>\n",
       "      <td>4.1</td>\n",
       "    </tr>\n",
       "    <tr>\n",
       "      <th>2</th>\n",
       "      <td>Amazon Basics Universal Travel Case Organizer ...</td>\n",
       "      <td>AmazonBasics</td>\n",
       "      <td>16242.0</td>\n",
       "      <td>0</td>\n",
       "      <td>1</td>\n",
       "      <td>277.0</td>\n",
       "      <td>14.44</td>\n",
       "      <td>4.6</td>\n",
       "    </tr>\n",
       "    <tr>\n",
       "      <th>3</th>\n",
       "      <td>Amazon Glow with Tangram Bits | Learn, Play, R...</td>\n",
       "      <td>Amazon</td>\n",
       "      <td>215.0</td>\n",
       "      <td>0</td>\n",
       "      <td>1</td>\n",
       "      <td>31.0</td>\n",
       "      <td>329.98</td>\n",
       "      <td>4.4</td>\n",
       "    </tr>\n",
       "    <tr>\n",
       "      <th>4</th>\n",
       "      <td>Echo Show 5 (2nd Gen, 2021 release) - Deep Sea...</td>\n",
       "      <td>Amazon</td>\n",
       "      <td>928.0</td>\n",
       "      <td>0</td>\n",
       "      <td>1</td>\n",
       "      <td>21.0</td>\n",
       "      <td>114.98</td>\n",
       "      <td>4.7</td>\n",
       "    </tr>\n",
       "    <tr>\n",
       "      <th>...</th>\n",
       "      <td>...</td>\n",
       "      <td>...</td>\n",
       "      <td>...</td>\n",
       "      <td>...</td>\n",
       "      <td>...</td>\n",
       "      <td>...</td>\n",
       "      <td>...</td>\n",
       "      <td>...</td>\n",
       "    </tr>\n",
       "    <tr>\n",
       "      <th>1631</th>\n",
       "      <td>American Eagle Gift Card</td>\n",
       "      <td>American Eagle</td>\n",
       "      <td>5999.0</td>\n",
       "      <td>0</td>\n",
       "      <td>0</td>\n",
       "      <td>4.0</td>\n",
       "      <td>25.00</td>\n",
       "      <td>4.9</td>\n",
       "    </tr>\n",
       "    <tr>\n",
       "      <th>1632</th>\n",
       "      <td>Amazon.com Gift Cards - As a Bookmark</td>\n",
       "      <td>Amazon</td>\n",
       "      <td>3950.0</td>\n",
       "      <td>0</td>\n",
       "      <td>0</td>\n",
       "      <td>15.0</td>\n",
       "      <td>100.00</td>\n",
       "      <td>4.9</td>\n",
       "    </tr>\n",
       "    <tr>\n",
       "      <th>1633</th>\n",
       "      <td>Amazon.com Gift Card in a Gift Tag</td>\n",
       "      <td>Amazon</td>\n",
       "      <td>7520.0</td>\n",
       "      <td>0</td>\n",
       "      <td>0</td>\n",
       "      <td>12.0</td>\n",
       "      <td>10.00</td>\n",
       "      <td>4.9</td>\n",
       "    </tr>\n",
       "    <tr>\n",
       "      <th>1634</th>\n",
       "      <td>Amazon.com $10 Gift Cards, Pack of 3 (Holiday ...</td>\n",
       "      <td>Amazon</td>\n",
       "      <td>3014.0</td>\n",
       "      <td>0</td>\n",
       "      <td>0</td>\n",
       "      <td>3.0</td>\n",
       "      <td>30.00</td>\n",
       "      <td>4.9</td>\n",
       "    </tr>\n",
       "    <tr>\n",
       "      <th>1635</th>\n",
       "      <td>Frito-Lay Baked &amp; Popped Mix Variety Pack, Pac...</td>\n",
       "      <td>Frito-Lay</td>\n",
       "      <td>17706.0</td>\n",
       "      <td>0</td>\n",
       "      <td>0</td>\n",
       "      <td>33.0</td>\n",
       "      <td>28.00</td>\n",
       "      <td>4.6</td>\n",
       "    </tr>\n",
       "  </tbody>\n",
       "</table>\n",
       "<p>1636 rows × 8 columns</p>\n",
       "</div>"
      ],
      "text/plain": [
       "                                                   Name            Brand  \\\n",
       "0     NOCO NUSB211NA 10W USB Power Adapter, 2.1A 5V ...             NOCO   \n",
       "1     Amazfit Band 5 Activity Fitness Tracker with A...          Amazfit   \n",
       "2     Amazon Basics Universal Travel Case Organizer ...     AmazonBasics   \n",
       "3     Amazon Glow with Tangram Bits | Learn, Play, R...           Amazon   \n",
       "4     Echo Show 5 (2nd Gen, 2021 release) - Deep Sea...           Amazon   \n",
       "...                                                 ...              ...   \n",
       "1631                           American Eagle Gift Card   American Eagle   \n",
       "1632              Amazon.com Gift Cards - As a Bookmark           Amazon   \n",
       "1633                 Amazon.com Gift Card in a Gift Tag           Amazon   \n",
       "1634  Amazon.com $10 Gift Cards, Pack of 3 (Holiday ...           Amazon   \n",
       "1635  Frito-Lay Baked & Popped Mix Variety Pack, Pac...        Frito-Lay   \n",
       "\n",
       "       Rating  BestSeller  AmazonChoice  Comments   Price  Stars  \n",
       "0      3869.0           0             0      28.0   13.95    4.7  \n",
       "1     21158.0           0             0    1000.0   29.88    4.1  \n",
       "2     16242.0           0             1     277.0   14.44    4.6  \n",
       "3       215.0           0             1      31.0  329.98    4.4  \n",
       "4       928.0           0             1      21.0  114.98    4.7  \n",
       "...       ...         ...           ...       ...     ...    ...  \n",
       "1631   5999.0           0             0       4.0   25.00    4.9  \n",
       "1632   3950.0           0             0      15.0  100.00    4.9  \n",
       "1633   7520.0           0             0      12.0   10.00    4.9  \n",
       "1634   3014.0           0             0       3.0   30.00    4.9  \n",
       "1635  17706.0           0             0      33.0   28.00    4.6  \n",
       "\n",
       "[1636 rows x 8 columns]"
      ]
     },
     "execution_count": 348,
     "metadata": {},
     "output_type": "execute_result"
    }
   ],
   "source": [
    "import pandas as pd\n",
    "import numpy as np\n",
    "import sklearn\n",
    "from sklearn import preprocessing, linear_model, model_selection, metrics\n",
    "from sklearn.preprocessing import StandardScaler, MinMaxScaler\n",
    "from sklearn.linear_model import LogisticRegression, LinearRegression\n",
    "from sklearn.model_selection import train_test_split\n",
    "from sklearn.metrics import r2_score, f1_score\n",
    "\n",
    "df = pd.read_csv(\"Amazon Items Cleaned.csv\")\n",
    "df\n",
    "\n",
    "# import matplotlib.pyplot as plt\n",
    "# %matplotlib inline  \n",
    "# plt.rcParams['figure.figsize'] = (10, 6)\n",
    "\n",
    "# lrm = linear_model.LogisticRegression()\n",
    "# lrm.fit(df[[\"Stars\"]],df[\"BestSeller\"])\n",
    "# df.plot.scatter(x='Stars',y='BestSeller',s=30)\n",
    "# x = np.linspace(df['Stars'].min(),df['Stars'].max(),1000)\n",
    "# y_pred_p=lrm.predict_proba(np.reshape(x, (-1, 1)))\n",
    "# y_pred_p1=[y[1] for y in y_pred_p]\n",
    "# plt.plot(x,y_pred_p1,color='Black')\n",
    "# plt.plot(x,[0.5]*len(x),color=\"red\")\n",
    "# plt.show()"
   ]
  },
  {
   "cell_type": "markdown",
   "metadata": {},
   "source": [
    "# Split dataset into feature vector (X) and target value (Y) series"
   ]
  },
  {
   "cell_type": "code",
   "execution_count": 349,
   "metadata": {},
   "outputs": [
    {
     "data": {
      "text/html": [
       "<div>\n",
       "<style scoped>\n",
       "    .dataframe tbody tr th:only-of-type {\n",
       "        vertical-align: middle;\n",
       "    }\n",
       "\n",
       "    .dataframe tbody tr th {\n",
       "        vertical-align: top;\n",
       "    }\n",
       "\n",
       "    .dataframe thead th {\n",
       "        text-align: right;\n",
       "    }\n",
       "</style>\n",
       "<table border=\"1\" class=\"dataframe\">\n",
       "  <thead>\n",
       "    <tr style=\"text-align: right;\">\n",
       "      <th></th>\n",
       "      <th>Rating</th>\n",
       "      <th>AmazonChoice</th>\n",
       "      <th>Comments</th>\n",
       "      <th>Price</th>\n",
       "      <th>Stars</th>\n",
       "    </tr>\n",
       "  </thead>\n",
       "  <tbody>\n",
       "    <tr>\n",
       "      <th>0</th>\n",
       "      <td>3869.0</td>\n",
       "      <td>0</td>\n",
       "      <td>28.0</td>\n",
       "      <td>13.95</td>\n",
       "      <td>4.7</td>\n",
       "    </tr>\n",
       "    <tr>\n",
       "      <th>1</th>\n",
       "      <td>21158.0</td>\n",
       "      <td>0</td>\n",
       "      <td>1000.0</td>\n",
       "      <td>29.88</td>\n",
       "      <td>4.1</td>\n",
       "    </tr>\n",
       "    <tr>\n",
       "      <th>2</th>\n",
       "      <td>16242.0</td>\n",
       "      <td>1</td>\n",
       "      <td>277.0</td>\n",
       "      <td>14.44</td>\n",
       "      <td>4.6</td>\n",
       "    </tr>\n",
       "    <tr>\n",
       "      <th>3</th>\n",
       "      <td>215.0</td>\n",
       "      <td>1</td>\n",
       "      <td>31.0</td>\n",
       "      <td>329.98</td>\n",
       "      <td>4.4</td>\n",
       "    </tr>\n",
       "    <tr>\n",
       "      <th>4</th>\n",
       "      <td>928.0</td>\n",
       "      <td>1</td>\n",
       "      <td>21.0</td>\n",
       "      <td>114.98</td>\n",
       "      <td>4.7</td>\n",
       "    </tr>\n",
       "    <tr>\n",
       "      <th>...</th>\n",
       "      <td>...</td>\n",
       "      <td>...</td>\n",
       "      <td>...</td>\n",
       "      <td>...</td>\n",
       "      <td>...</td>\n",
       "    </tr>\n",
       "    <tr>\n",
       "      <th>1631</th>\n",
       "      <td>5999.0</td>\n",
       "      <td>0</td>\n",
       "      <td>4.0</td>\n",
       "      <td>25.00</td>\n",
       "      <td>4.9</td>\n",
       "    </tr>\n",
       "    <tr>\n",
       "      <th>1632</th>\n",
       "      <td>3950.0</td>\n",
       "      <td>0</td>\n",
       "      <td>15.0</td>\n",
       "      <td>100.00</td>\n",
       "      <td>4.9</td>\n",
       "    </tr>\n",
       "    <tr>\n",
       "      <th>1633</th>\n",
       "      <td>7520.0</td>\n",
       "      <td>0</td>\n",
       "      <td>12.0</td>\n",
       "      <td>10.00</td>\n",
       "      <td>4.9</td>\n",
       "    </tr>\n",
       "    <tr>\n",
       "      <th>1634</th>\n",
       "      <td>3014.0</td>\n",
       "      <td>0</td>\n",
       "      <td>3.0</td>\n",
       "      <td>30.00</td>\n",
       "      <td>4.9</td>\n",
       "    </tr>\n",
       "    <tr>\n",
       "      <th>1635</th>\n",
       "      <td>17706.0</td>\n",
       "      <td>0</td>\n",
       "      <td>33.0</td>\n",
       "      <td>28.00</td>\n",
       "      <td>4.6</td>\n",
       "    </tr>\n",
       "  </tbody>\n",
       "</table>\n",
       "<p>1636 rows × 5 columns</p>\n",
       "</div>"
      ],
      "text/plain": [
       "       Rating  AmazonChoice  Comments   Price  Stars\n",
       "0      3869.0             0      28.0   13.95    4.7\n",
       "1     21158.0             0    1000.0   29.88    4.1\n",
       "2     16242.0             1     277.0   14.44    4.6\n",
       "3       215.0             1      31.0  329.98    4.4\n",
       "4       928.0             1      21.0  114.98    4.7\n",
       "...       ...           ...       ...     ...    ...\n",
       "1631   5999.0             0       4.0   25.00    4.9\n",
       "1632   3950.0             0      15.0  100.00    4.9\n",
       "1633   7520.0             0      12.0   10.00    4.9\n",
       "1634   3014.0             0       3.0   30.00    4.9\n",
       "1635  17706.0             0      33.0   28.00    4.6\n",
       "\n",
       "[1636 rows x 5 columns]"
      ]
     },
     "execution_count": 349,
     "metadata": {},
     "output_type": "execute_result"
    }
   ],
   "source": [
    "X = df\n",
    "y = df[\"BestSeller\"]\n",
    "X.pop(\"BestSeller\")\n",
    "X.pop(\"Name\")\n",
    "X.pop(\"Brand\")\n",
    "\n",
    "X"
   ]
  },
  {
   "cell_type": "code",
   "execution_count": 350,
   "metadata": {},
   "outputs": [],
   "source": [
    "# Function - Spliting the dataset into test and train\n",
    "# test_size = default 0.25\n",
    "# random_state = default np.random\n",
    "\n",
    "def split_to_train_and_test(X, y):\n",
    "    X_train, X_test, y_train, y_test = train_test_split(X, y)\n",
    "    return X_train, X_test, y_train, y_test"
   ]
  },
  {
   "cell_type": "markdown",
   "metadata": {},
   "source": [
    "# Splitting the data into train and test subsets"
   ]
  },
  {
   "cell_type": "code",
   "execution_count": 351,
   "metadata": {},
   "outputs": [],
   "source": [
    "X_train, X_test, y_train, y_test = split_to_train_and_test(X,y)"
   ]
  },
  {
   "cell_type": "code",
   "execution_count": 352,
   "metadata": {},
   "outputs": [],
   "source": [
    "# function - MinMax Scaler\n",
    "\n",
    "def scale_features(X_train):\n",
    "    scaler = MinMaxScaler(feature_range=(0, 1)) # StandardScaler()\n",
    "    X_train_scaled = scaler.fit_transform(X_train)\n",
    "    return X_train_scaled"
   ]
  },
  {
   "cell_type": "markdown",
   "metadata": {},
   "source": [
    "# Linear Regression - Evaluation using r2_score"
   ]
  },
  {
   "cell_type": "code",
   "execution_count": 353,
   "metadata": {},
   "outputs": [
    {
     "name": "stdout",
     "output_type": "stream",
     "text": [
      "0.03806182328667784\n"
     ]
    }
   ],
   "source": [
    "def train_1st_model(X_train, y_train):\n",
    "    reg = LinearRegression(fit_intercept = True)\n",
    "    reg.fit(X_train, y_train)\n",
    "    return reg\n",
    "\n",
    "def predict_1st(trained_1st_model, X_test):\n",
    "    y_pred = trained_1st_model.predict(X_test)\n",
    "    return y_pred\n",
    "\n",
    "trained_model_1st = train_1st_model(X_train, y_train)\n",
    "y_pred = predict_1st(trained_model_1st, X_test)\n",
    "\n",
    "evaluatePer = metrics.r2_score(y_test, y_pred)\n",
    "print(evaluatePer)"
   ]
  },
  {
   "cell_type": "markdown",
   "metadata": {},
   "source": [
    "# R2 value is very low, hence we will not use Linear Regression"
   ]
  },
  {
   "cell_type": "markdown",
   "metadata": {},
   "source": [
    "# Scaling X_train"
   ]
  },
  {
   "cell_type": "code",
   "execution_count": 354,
   "metadata": {},
   "outputs": [],
   "source": [
    "# X_train_scaled = scale_features(X_train)\n",
    "# print(X_train_scaled)\n",
    "# print(\"\\n\")\n",
    "# print(\"Min Value: \", X_train_scaled.min(axis=0))\n",
    "# print(\"Max Value: \", X_train_scaled.max(axis=0))"
   ]
  },
  {
   "cell_type": "markdown",
   "metadata": {},
   "source": [
    "# Scaling X_test"
   ]
  },
  {
   "cell_type": "code",
   "execution_count": 355,
   "metadata": {},
   "outputs": [],
   "source": [
    "# X_test_scaled = scale_features(X_test)\n",
    "# print(X_test_scaled)\n",
    "# print(\"\\n\")\n",
    "# print(\"Min Value: \", X_test_scaled.min(axis=0))\n",
    "# print(\"Max Value: \", X_test_scaled.max(axis=0))"
   ]
  },
  {
   "cell_type": "markdown",
   "metadata": {},
   "source": [
    "# Linear Regression - Evaluation using r2_score"
   ]
  },
  {
   "cell_type": "code",
   "execution_count": 356,
   "metadata": {},
   "outputs": [
    {
     "data": {
      "text/html": [
       "<div>\n",
       "<style scoped>\n",
       "    .dataframe tbody tr th:only-of-type {\n",
       "        vertical-align: middle;\n",
       "    }\n",
       "\n",
       "    .dataframe tbody tr th {\n",
       "        vertical-align: top;\n",
       "    }\n",
       "\n",
       "    .dataframe thead th {\n",
       "        text-align: right;\n",
       "    }\n",
       "</style>\n",
       "<table border=\"1\" class=\"dataframe\">\n",
       "  <thead>\n",
       "    <tr style=\"text-align: right;\">\n",
       "      <th></th>\n",
       "      <th>Actual</th>\n",
       "      <th>Predicted</th>\n",
       "    </tr>\n",
       "  </thead>\n",
       "  <tbody>\n",
       "    <tr>\n",
       "      <th>206</th>\n",
       "      <td>0</td>\n",
       "      <td>0</td>\n",
       "    </tr>\n",
       "    <tr>\n",
       "      <th>120</th>\n",
       "      <td>0</td>\n",
       "      <td>0</td>\n",
       "    </tr>\n",
       "    <tr>\n",
       "      <th>1297</th>\n",
       "      <td>0</td>\n",
       "      <td>0</td>\n",
       "    </tr>\n",
       "    <tr>\n",
       "      <th>719</th>\n",
       "      <td>0</td>\n",
       "      <td>0</td>\n",
       "    </tr>\n",
       "    <tr>\n",
       "      <th>614</th>\n",
       "      <td>0</td>\n",
       "      <td>0</td>\n",
       "    </tr>\n",
       "    <tr>\n",
       "      <th>...</th>\n",
       "      <td>...</td>\n",
       "      <td>...</td>\n",
       "    </tr>\n",
       "    <tr>\n",
       "      <th>896</th>\n",
       "      <td>0</td>\n",
       "      <td>0</td>\n",
       "    </tr>\n",
       "    <tr>\n",
       "      <th>668</th>\n",
       "      <td>0</td>\n",
       "      <td>0</td>\n",
       "    </tr>\n",
       "    <tr>\n",
       "      <th>1154</th>\n",
       "      <td>0</td>\n",
       "      <td>0</td>\n",
       "    </tr>\n",
       "    <tr>\n",
       "      <th>713</th>\n",
       "      <td>0</td>\n",
       "      <td>0</td>\n",
       "    </tr>\n",
       "    <tr>\n",
       "      <th>1360</th>\n",
       "      <td>0</td>\n",
       "      <td>0</td>\n",
       "    </tr>\n",
       "  </tbody>\n",
       "</table>\n",
       "<p>409 rows × 2 columns</p>\n",
       "</div>"
      ],
      "text/plain": [
       "      Actual  Predicted\n",
       "206        0          0\n",
       "120        0          0\n",
       "1297       0          0\n",
       "719        0          0\n",
       "614        0          0\n",
       "...      ...        ...\n",
       "896        0          0\n",
       "668        0          0\n",
       "1154       0          0\n",
       "713        0          0\n",
       "1360       0          0\n",
       "\n",
       "[409 rows x 2 columns]"
      ]
     },
     "execution_count": 356,
     "metadata": {},
     "output_type": "execute_result"
    }
   ],
   "source": [
    "clf_model = LogisticRegression().fit(X_train, y_train)\n",
    "clf_model\n",
    "y_pred=clf_model.predict(X_test)\n",
    "\n",
    "resDF = pd.DataFrame({\"Actual\":y_test,\"Predicted\":y_pred})\n",
    "resDF.to_csv(\"Amazon Predict.csv\", index = None)\n",
    "resDF"
   ]
  },
  {
   "cell_type": "code",
   "execution_count": 357,
   "metadata": {},
   "outputs": [
    {
     "name": "stdout",
     "output_type": "stream",
     "text": [
      "0\n"
     ]
    }
   ],
   "source": [
    "# Count number of predicted items\n",
    "\n",
    "count = 0\n",
    "for i in resDF[\"Predicted\"] :\n",
    "    if i == 1 :\n",
    "        count = count + 1\n",
    "print(count)"
   ]
  },
  {
   "cell_type": "markdown",
   "metadata": {},
   "source": [
    "# We tried to predict if an item will be a Best Seller on amazon via logistic regression Because we thaught there was a connection between our data and the result we found out that we can't predict if an item will be a Best Seller using \n",
    "# supervised learning"
   ]
  },
  {
   "cell_type": "code",
   "execution_count": 358,
   "metadata": {},
   "outputs": [
    {
     "data": {
      "text/html": [
       "<div>\n",
       "<style scoped>\n",
       "    .dataframe tbody tr th:only-of-type {\n",
       "        vertical-align: middle;\n",
       "    }\n",
       "\n",
       "    .dataframe tbody tr th {\n",
       "        vertical-align: top;\n",
       "    }\n",
       "\n",
       "    .dataframe thead th {\n",
       "        text-align: right;\n",
       "    }\n",
       "</style>\n",
       "<table border=\"1\" class=\"dataframe\">\n",
       "  <thead>\n",
       "    <tr style=\"text-align: right;\">\n",
       "      <th></th>\n",
       "      <th>Rating</th>\n",
       "      <th>AmazonChoice</th>\n",
       "      <th>Comments</th>\n",
       "      <th>Price</th>\n",
       "      <th>Stars</th>\n",
       "    </tr>\n",
       "  </thead>\n",
       "  <tbody>\n",
       "    <tr>\n",
       "      <th>0</th>\n",
       "      <td>3869.0</td>\n",
       "      <td>0</td>\n",
       "      <td>28.0</td>\n",
       "      <td>13.95</td>\n",
       "      <td>4.7</td>\n",
       "    </tr>\n",
       "    <tr>\n",
       "      <th>1</th>\n",
       "      <td>21158.0</td>\n",
       "      <td>0</td>\n",
       "      <td>1000.0</td>\n",
       "      <td>29.88</td>\n",
       "      <td>4.1</td>\n",
       "    </tr>\n",
       "    <tr>\n",
       "      <th>2</th>\n",
       "      <td>16242.0</td>\n",
       "      <td>1</td>\n",
       "      <td>277.0</td>\n",
       "      <td>14.44</td>\n",
       "      <td>4.6</td>\n",
       "    </tr>\n",
       "    <tr>\n",
       "      <th>3</th>\n",
       "      <td>215.0</td>\n",
       "      <td>1</td>\n",
       "      <td>31.0</td>\n",
       "      <td>329.98</td>\n",
       "      <td>4.4</td>\n",
       "    </tr>\n",
       "    <tr>\n",
       "      <th>4</th>\n",
       "      <td>928.0</td>\n",
       "      <td>1</td>\n",
       "      <td>21.0</td>\n",
       "      <td>114.98</td>\n",
       "      <td>4.7</td>\n",
       "    </tr>\n",
       "    <tr>\n",
       "      <th>...</th>\n",
       "      <td>...</td>\n",
       "      <td>...</td>\n",
       "      <td>...</td>\n",
       "      <td>...</td>\n",
       "      <td>...</td>\n",
       "    </tr>\n",
       "    <tr>\n",
       "      <th>1631</th>\n",
       "      <td>5999.0</td>\n",
       "      <td>0</td>\n",
       "      <td>4.0</td>\n",
       "      <td>25.00</td>\n",
       "      <td>4.9</td>\n",
       "    </tr>\n",
       "    <tr>\n",
       "      <th>1632</th>\n",
       "      <td>3950.0</td>\n",
       "      <td>0</td>\n",
       "      <td>15.0</td>\n",
       "      <td>100.00</td>\n",
       "      <td>4.9</td>\n",
       "    </tr>\n",
       "    <tr>\n",
       "      <th>1633</th>\n",
       "      <td>7520.0</td>\n",
       "      <td>0</td>\n",
       "      <td>12.0</td>\n",
       "      <td>10.00</td>\n",
       "      <td>4.9</td>\n",
       "    </tr>\n",
       "    <tr>\n",
       "      <th>1634</th>\n",
       "      <td>3014.0</td>\n",
       "      <td>0</td>\n",
       "      <td>3.0</td>\n",
       "      <td>30.00</td>\n",
       "      <td>4.9</td>\n",
       "    </tr>\n",
       "    <tr>\n",
       "      <th>1635</th>\n",
       "      <td>17706.0</td>\n",
       "      <td>0</td>\n",
       "      <td>33.0</td>\n",
       "      <td>28.00</td>\n",
       "      <td>4.6</td>\n",
       "    </tr>\n",
       "  </tbody>\n",
       "</table>\n",
       "<p>1636 rows × 5 columns</p>\n",
       "</div>"
      ],
      "text/plain": [
       "       Rating  AmazonChoice  Comments   Price  Stars\n",
       "0      3869.0             0      28.0   13.95    4.7\n",
       "1     21158.0             0    1000.0   29.88    4.1\n",
       "2     16242.0             1     277.0   14.44    4.6\n",
       "3       215.0             1      31.0  329.98    4.4\n",
       "4       928.0             1      21.0  114.98    4.7\n",
       "...       ...           ...       ...     ...    ...\n",
       "1631   5999.0             0       4.0   25.00    4.9\n",
       "1632   3950.0             0      15.0  100.00    4.9\n",
       "1633   7520.0             0      12.0   10.00    4.9\n",
       "1634   3014.0             0       3.0   30.00    4.9\n",
       "1635  17706.0             0      33.0   28.00    4.6\n",
       "\n",
       "[1636 rows x 5 columns]"
      ]
     },
     "execution_count": 358,
     "metadata": {},
     "output_type": "execute_result"
    }
   ],
   "source": [
    "df"
   ]
  },
  {
   "cell_type": "markdown",
   "metadata": {},
   "source": [
    "# Let's run KNN to try to classify our best sellers within the items"
   ]
  },
  {
   "cell_type": "code",
   "execution_count": 359,
   "metadata": {},
   "outputs": [
    {
     "data": {
      "image/png": "[encoded data removed]",
      "text/plain": [
       "<Figure size 720x576 with 1 Axes>"
      ]
     },
     "metadata": {
      "needs_background": "light"
     },
     "output_type": "display_data"
    }
   ],
   "source": [
    "from sklearn.neighbors import KNeighborsClassifier\n",
    "from sklearn import metrics\n",
    "from sklearn.model_selection import train_test_split\n",
    "from sklearn.model_selection import cross_val_score\n",
    "import matplotlib.pyplot as plt\n",
    "from matplotlib.colors import ListedColormap\n",
    "\n",
    "\n",
    "X = X[['Stars', 'Rating']]\n",
    "# y = y\n",
    "\n",
    "# Create color maps\n",
    "cmap_light = ListedColormap(['#FFAAAA', '#AAFFAA', '#AAAAFF'])\n",
    "cmap_bold = ListedColormap(['#FF0000', '#00FF00', '#0000FF'])\n",
    "\n",
    "# plot data\n",
    "plt.figure(figsize=(10, 8))\n",
    "plt.scatter(X.Stars, X.Rating, c=y,  marker=\"o\", cmap=cmap_bold, s=200)\n",
    "\n",
    "\n",
    "x_min, x_max = X.Stars.min() - 1, X.Stars.max() + 1\n",
    "y_min, y_max = X.Rating.min() - 1, X.Rating.max() + 1\n",
    "plt.xlim(x_min, x_max)\n",
    "plt.ylim(y_min, y_max)\n",
    "plt.title('Amazon dataset')\n",
    "plt.xlabel('Stars')\n",
    "plt.ylabel('Rating')\n",
    "plt.show()\n"
   ]
  },
  {
   "cell_type": "markdown",
   "metadata": {},
   "source": [
    "# the blue dots above uses as indicators for bestsellers.\n",
    "# now let's train a classifier on the train set and try to asses it's performance by printing the confusion matrix, followed by the accuracy score."
   ]
  },
  {
   "cell_type": "code",
   "execution_count": 360,
   "metadata": {},
   "outputs": [
    {
     "name": "stdout",
     "output_type": "stream",
     "text": [
      "[[317   2]\n",
      " [  9   0]]\n",
      "Accuracy =  0.9664634146341463\n"
     ]
    }
   ],
   "source": [
    "\n",
    "\n",
    "# Split into training and test sets\n",
    "XTrain, XTest, yTrain, yTest = train_test_split(\n",
    "    X, y, random_state=1, test_size=0.2)\n",
    "\n",
    "# set up the model, k-NN classification with k = ?\n",
    "k = 3\n",
    "clf = KNeighborsClassifier(n_neighbors=k)\n",
    "clf.fit(XTrain, yTrain)\n",
    "\n",
    "y_pred = clf.predict(XTest)\n",
    "\n",
    "print(metrics.confusion_matrix(y_true=yTest, y_pred=y_pred))\n",
    "\n",
    "print('Accuracy = ', metrics.accuracy_score(y_true=yTest, y_pred=y_pred))\n"
   ]
  },
  {
   "cell_type": "markdown",
   "metadata": {},
   "source": [
    "# Running a test various values of k to check which value of k gives the best result and also if it's overfitting"
   ]
  },
  {
   "cell_type": "code",
   "execution_count": 361,
   "metadata": {},
   "outputs": [
    {
     "data": {
      "text/html": [
       "<div>\n",
       "<style scoped>\n",
       "    .dataframe tbody tr th:only-of-type {\n",
       "        vertical-align: middle;\n",
       "    }\n",
       "\n",
       "    .dataframe tbody tr th {\n",
       "        vertical-align: top;\n",
       "    }\n",
       "\n",
       "    .dataframe thead th {\n",
       "        text-align: right;\n",
       "    }\n",
       "</style>\n",
       "<table border=\"1\" class=\"dataframe\">\n",
       "  <thead>\n",
       "    <tr style=\"text-align: right;\">\n",
       "      <th></th>\n",
       "      <th>k</th>\n",
       "      <th>train_accuracy</th>\n",
       "      <th>test_accuracy</th>\n",
       "    </tr>\n",
       "  </thead>\n",
       "  <tbody>\n",
       "    <tr>\n",
       "      <th>0</th>\n",
       "      <td>1</td>\n",
       "      <td>0.999235</td>\n",
       "      <td>0.954268</td>\n",
       "    </tr>\n",
       "    <tr>\n",
       "      <th>1</th>\n",
       "      <td>2</td>\n",
       "      <td>0.971713</td>\n",
       "      <td>0.972561</td>\n",
       "    </tr>\n",
       "    <tr>\n",
       "      <th>2</th>\n",
       "      <td>3</td>\n",
       "      <td>0.972477</td>\n",
       "      <td>0.966463</td>\n",
       "    </tr>\n",
       "    <tr>\n",
       "      <th>3</th>\n",
       "      <td>4</td>\n",
       "      <td>0.971713</td>\n",
       "      <td>0.972561</td>\n",
       "    </tr>\n",
       "    <tr>\n",
       "      <th>4</th>\n",
       "      <td>5</td>\n",
       "      <td>0.971713</td>\n",
       "      <td>0.972561</td>\n",
       "    </tr>\n",
       "    <tr>\n",
       "      <th>5</th>\n",
       "      <td>6</td>\n",
       "      <td>0.971713</td>\n",
       "      <td>0.972561</td>\n",
       "    </tr>\n",
       "    <tr>\n",
       "      <th>6</th>\n",
       "      <td>7</td>\n",
       "      <td>0.971713</td>\n",
       "      <td>0.972561</td>\n",
       "    </tr>\n",
       "    <tr>\n",
       "      <th>7</th>\n",
       "      <td>8</td>\n",
       "      <td>0.971713</td>\n",
       "      <td>0.972561</td>\n",
       "    </tr>\n",
       "    <tr>\n",
       "      <th>8</th>\n",
       "      <td>9</td>\n",
       "      <td>0.971713</td>\n",
       "      <td>0.972561</td>\n",
       "    </tr>\n",
       "    <tr>\n",
       "      <th>9</th>\n",
       "      <td>10</td>\n",
       "      <td>0.971713</td>\n",
       "      <td>0.972561</td>\n",
       "    </tr>\n",
       "    <tr>\n",
       "      <th>10</th>\n",
       "      <td>11</td>\n",
       "      <td>0.971713</td>\n",
       "      <td>0.972561</td>\n",
       "    </tr>\n",
       "    <tr>\n",
       "      <th>11</th>\n",
       "      <td>12</td>\n",
       "      <td>0.971713</td>\n",
       "      <td>0.972561</td>\n",
       "    </tr>\n",
       "    <tr>\n",
       "      <th>12</th>\n",
       "      <td>13</td>\n",
       "      <td>0.971713</td>\n",
       "      <td>0.972561</td>\n",
       "    </tr>\n",
       "    <tr>\n",
       "      <th>13</th>\n",
       "      <td>14</td>\n",
       "      <td>0.971713</td>\n",
       "      <td>0.972561</td>\n",
       "    </tr>\n",
       "    <tr>\n",
       "      <th>14</th>\n",
       "      <td>15</td>\n",
       "      <td>0.971713</td>\n",
       "      <td>0.972561</td>\n",
       "    </tr>\n",
       "    <tr>\n",
       "      <th>15</th>\n",
       "      <td>16</td>\n",
       "      <td>0.971713</td>\n",
       "      <td>0.972561</td>\n",
       "    </tr>\n",
       "    <tr>\n",
       "      <th>16</th>\n",
       "      <td>17</td>\n",
       "      <td>0.971713</td>\n",
       "      <td>0.972561</td>\n",
       "    </tr>\n",
       "    <tr>\n",
       "      <th>17</th>\n",
       "      <td>18</td>\n",
       "      <td>0.971713</td>\n",
       "      <td>0.972561</td>\n",
       "    </tr>\n",
       "    <tr>\n",
       "      <th>18</th>\n",
       "      <td>19</td>\n",
       "      <td>0.971713</td>\n",
       "      <td>0.972561</td>\n",
       "    </tr>\n",
       "    <tr>\n",
       "      <th>19</th>\n",
       "      <td>20</td>\n",
       "      <td>0.971713</td>\n",
       "      <td>0.972561</td>\n",
       "    </tr>\n",
       "  </tbody>\n",
       "</table>\n",
       "</div>"
      ],
      "text/plain": [
       "     k  train_accuracy  test_accuracy\n",
       "0    1        0.999235       0.954268\n",
       "1    2        0.971713       0.972561\n",
       "2    3        0.972477       0.966463\n",
       "3    4        0.971713       0.972561\n",
       "4    5        0.971713       0.972561\n",
       "5    6        0.971713       0.972561\n",
       "6    7        0.971713       0.972561\n",
       "7    8        0.971713       0.972561\n",
       "8    9        0.971713       0.972561\n",
       "9   10        0.971713       0.972561\n",
       "10  11        0.971713       0.972561\n",
       "11  12        0.971713       0.972561\n",
       "12  13        0.971713       0.972561\n",
       "13  14        0.971713       0.972561\n",
       "14  15        0.971713       0.972561\n",
       "15  16        0.971713       0.972561\n",
       "16  17        0.971713       0.972561\n",
       "17  18        0.971713       0.972561\n",
       "18  19        0.971713       0.972561\n",
       "19  20        0.971713       0.972561"
      ]
     },
     "execution_count": 361,
     "metadata": {},
     "output_type": "execute_result"
    }
   ],
   "source": [
    "k_s = []\n",
    "train_accuracies = []\n",
    "test_accuracies = []\n",
    "for k in range(1, 21):\n",
    "    clf = KNeighborsClassifier(n_neighbors=k)\n",
    "    clf.fit(XTrain, yTrain)\n",
    "    y_pred_train = clf.predict(XTrain)\n",
    "    y_pred = clf.predict(XTest)\n",
    "    k_s.append(k)\n",
    "    train_accuracies.append(metrics.accuracy_score(\n",
    "        y_true=yTrain, y_pred=y_pred_train))\n",
    "    test_accuracies.append(metrics.accuracy_score(y_true=yTest, y_pred=y_pred))\n",
    "\n",
    "df = pd.DataFrame({\"k\": k_s, \"train_accuracy\": train_accuracies,\n",
    "                  \"test_accuracy\": test_accuracies})\n",
    "df\n"
   ]
  },
  {
   "cell_type": "markdown",
   "metadata": {},
   "source": [
    "# we found that the best k is k = 1 with accuracy score of 0.948171\n",
    "# we will create the classification visualization for the knn classifier (based on the selected k). Any point in the red area will be classified as the red type, and any point in the green area will be classified as green."
   ]
  },
  {
   "cell_type": "code",
   "execution_count": 362,
   "metadata": {},
   "outputs": [
    {
     "name": "stderr",
     "output_type": "stream",
     "text": [
      "c:\\Users\\Yaniv\\anaconda3\\envs\\datascience\\lib\\site-packages\\sklearn\\base.py:450: UserWarning: X does not have valid feature names, but KNeighborsClassifier was fitted with feature names\n",
      "  warnings.warn(\n"
     ]
    },
    {
     "data": {
      "image/png": "[encoded data removed]",
      "text/plain": [
       "<Figure size 432x288 with 1 Axes>"
      ]
     },
     "metadata": {
      "needs_background": "light"
     },
     "output_type": "display_data"
    }
   ],
   "source": [
    "k = 1\n",
    "clf = KNeighborsClassifier(n_neighbors=k)\n",
    "clf.fit(X, y)\n",
    "\n",
    "# plot classification\n",
    "xx, yy = np.meshgrid(np.linspace(x_min, x_max, 400),\n",
    "                     np.linspace(y_min, y_max, 400))\n",
    "zz = clf.predict(np.c_[xx.ravel(), yy.ravel()]).reshape(xx.shape)\n",
    "plt.pcolormesh(xx, yy, zz, cmap=cmap_light)\n",
    "\n",
    "# plot data\n",
    "plt.scatter(X.Stars, X.Rating, c=y, cmap=cmap_bold, s=200)\n",
    "\n",
    "plt.title('Classification of dataset using k-NN with k = ' + str(k))\n",
    "plt.xlabel('Stars')\n",
    "plt.ylabel('Rating')\n",
    "plt.xlim(x_min, x_max)\n",
    "plt.ylim(y_min, y_max)\n",
    "plt.show()\n"
   ]
  },
  {
   "cell_type": "markdown",
   "metadata": {},
   "source": [
    "# Cross validation to estimate the accuracy of a knn model on the dataset : splitting the data, fitting a model and computing the score 10 consecutive times (with different splits each time)"
   ]
  },
  {
   "cell_type": "code",
   "execution_count": 363,
   "metadata": {},
   "outputs": [
    {
     "data": {
      "text/plain": [
       "array([0.9695122 , 0.9695122 , 0.9695122 , 0.9695122 , 0.9695122 ,\n",
       "       0.9695122 , 0.97546012, 0.97546012, 0.97546012, 0.97546012])"
      ]
     },
     "execution_count": 363,
     "metadata": {},
     "output_type": "execute_result"
    }
   ],
   "source": [
    "clf = KNeighborsClassifier(n_neighbors=5)\n",
    "scores = cross_val_score(clf, X, y, cv=10)\n",
    "\n",
    "scores\n"
   ]
  },
  {
   "cell_type": "code",
   "execution_count": 364,
   "metadata": {},
   "outputs": [
    {
     "name": "stdout",
     "output_type": "stream",
     "text": [
      "Overall accuracy: 0.97\n"
     ]
    }
   ],
   "source": [
    "\n",
    "print(\"Overall accuracy: %0.2f\" % scores.mean())\n"
   ]
  },
  {
   "cell_type": "code",
   "execution_count": 365,
   "metadata": {},
   "outputs": [
    {
     "name": "stdout",
     "output_type": "stream",
     "text": [
      "highest result with X-fold, x= 25\n"
     ]
    }
   ],
   "source": [
    "clf = KNeighborsClassifier(n_neighbors=5)\n",
    "scores = cross_val_score(clf, X, y, cv=10)\n",
    "scores_list=[cross_val_score(clf, X, y, cv=flds).mean() for flds in range(3,26)]\n",
    "print(\"highest result with X-fold, x=\",np.argmax(scores_list)+3)"
   ]
  },
  {
   "cell_type": "markdown",
   "metadata": {},
   "source": [
    "GridSearchCV\n",
    "use the scoring parameter in order to define which evaluation score to optimize"
   ]
  },
  {
   "cell_type": "code",
   "execution_count": 366,
   "metadata": {},
   "outputs": [
    {
     "name": "stdout",
     "output_type": "stream",
     "text": [
      "best parameter set is: {'n_neighbors': 5}  and its score was 0.9717147787429441\n"
     ]
    }
   ],
   "source": [
    "from sklearn.model_selection import GridSearchCV\n",
    "from sklearn.metrics import make_scorer\n",
    "\n",
    "parameters = {'n_neighbors': range(1, 25, 2)}\n",
    "knn = KNeighborsClassifier()\n",
    "clf = GridSearchCV(knn, parameters, scoring=make_scorer(\n",
    "    metrics.accuracy_score, greater_is_better=True))\n",
    "clf.fit(XTrain, yTrain)\n",
    "\n",
    "print(\"best parameter set is:\", clf.best_params_,\n",
    "      \" and its score was\", clf.best_score_)\n",
    "\n",
    "#if you want to see all iterations internal numbers uncomment the next line\n",
    "#print(clf.cv_results_.items())\n"
   ]
  }
 ],
 "metadata": {
  "kernelspec": {
   "display_name": "Python 3.8.12",
   "language": "python",
   "name": "python3"
  },
  "language_info": {
   "codemirror_mode": {
    "name": "ipython",
    "version": 3
   },
   "file_extension": ".py",
   "mimetype": "text/x-python",
   "name": "python",
   "nbconvert_exporter": "python",
   "pygments_lexer": "ipython3",
   "version": "3.8.12"
  },
  "orig_nbformat": 4,
  "vscode": {
   "interpreter": {
    "hash": "631f2da9300be9763c746115158d7fda57bb43f84de6a8c2c3474ff6e3fd2b9c"
   }
  }
 },
 "nbformat": 4,
 "nbformat_minor": 2
}
