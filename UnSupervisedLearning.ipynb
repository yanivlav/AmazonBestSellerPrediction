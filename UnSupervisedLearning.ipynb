{
 "cells": [
  {
   "cell_type": "markdown",
   "metadata": {},
   "source": [
    "# Unsupervised Learning"
   ]
  },
  {
   "cell_type": "code",
   "execution_count": 1,
   "metadata": {},
   "outputs": [
    {
     "data": {
      "text/html": [
       "<div>\n",
       "<style scoped>\n",
       "    .dataframe tbody tr th:only-of-type {\n",
       "        vertical-align: middle;\n",
       "    }\n",
       "\n",
       "    .dataframe tbody tr th {\n",
       "        vertical-align: top;\n",
       "    }\n",
       "\n",
       "    .dataframe thead th {\n",
       "        text-align: right;\n",
       "    }\n",
       "</style>\n",
       "<table border=\"1\" class=\"dataframe\">\n",
       "  <thead>\n",
       "    <tr style=\"text-align: right;\">\n",
       "      <th></th>\n",
       "      <th>Name</th>\n",
       "      <th>Brand</th>\n",
       "      <th>Rating</th>\n",
       "      <th>BestSeller</th>\n",
       "      <th>AmazonChoice</th>\n",
       "      <th>Comments</th>\n",
       "      <th>Price</th>\n",
       "      <th>Stars</th>\n",
       "    </tr>\n",
       "  </thead>\n",
       "  <tbody>\n",
       "    <tr>\n",
       "      <th>0</th>\n",
       "      <td>NOCO NUSB211NA 10W USB Power Adapter, 2.1A 5V ...</td>\n",
       "      <td>NOCO</td>\n",
       "      <td>3869.0</td>\n",
       "      <td>0</td>\n",
       "      <td>0</td>\n",
       "      <td>28.0</td>\n",
       "      <td>13.95</td>\n",
       "      <td>4.7</td>\n",
       "    </tr>\n",
       "    <tr>\n",
       "      <th>1</th>\n",
       "      <td>Amazfit Band 5 Activity Fitness Tracker with A...</td>\n",
       "      <td>Amazfit</td>\n",
       "      <td>21158.0</td>\n",
       "      <td>0</td>\n",
       "      <td>0</td>\n",
       "      <td>1000.0</td>\n",
       "      <td>29.88</td>\n",
       "      <td>4.1</td>\n",
       "    </tr>\n",
       "    <tr>\n",
       "      <th>2</th>\n",
       "      <td>Amazon Basics Universal Travel Case Organizer ...</td>\n",
       "      <td>AmazonBasics</td>\n",
       "      <td>16242.0</td>\n",
       "      <td>0</td>\n",
       "      <td>1</td>\n",
       "      <td>277.0</td>\n",
       "      <td>14.44</td>\n",
       "      <td>4.6</td>\n",
       "    </tr>\n",
       "    <tr>\n",
       "      <th>3</th>\n",
       "      <td>Amazon Glow with Tangram Bits | Learn, Play, R...</td>\n",
       "      <td>Amazon</td>\n",
       "      <td>215.0</td>\n",
       "      <td>0</td>\n",
       "      <td>1</td>\n",
       "      <td>31.0</td>\n",
       "      <td>329.98</td>\n",
       "      <td>4.4</td>\n",
       "    </tr>\n",
       "    <tr>\n",
       "      <th>4</th>\n",
       "      <td>Echo Show 5 (2nd Gen, 2021 release) - Deep Sea...</td>\n",
       "      <td>Amazon</td>\n",
       "      <td>928.0</td>\n",
       "      <td>0</td>\n",
       "      <td>1</td>\n",
       "      <td>21.0</td>\n",
       "      <td>114.98</td>\n",
       "      <td>4.7</td>\n",
       "    </tr>\n",
       "    <tr>\n",
       "      <th>...</th>\n",
       "      <td>...</td>\n",
       "      <td>...</td>\n",
       "      <td>...</td>\n",
       "      <td>...</td>\n",
       "      <td>...</td>\n",
       "      <td>...</td>\n",
       "      <td>...</td>\n",
       "      <td>...</td>\n",
       "    </tr>\n",
       "    <tr>\n",
       "      <th>1631</th>\n",
       "      <td>American Eagle Gift Card</td>\n",
       "      <td>American Eagle</td>\n",
       "      <td>5999.0</td>\n",
       "      <td>0</td>\n",
       "      <td>0</td>\n",
       "      <td>4.0</td>\n",
       "      <td>25.00</td>\n",
       "      <td>4.9</td>\n",
       "    </tr>\n",
       "    <tr>\n",
       "      <th>1632</th>\n",
       "      <td>Amazon.com Gift Cards - As a Bookmark</td>\n",
       "      <td>Amazon</td>\n",
       "      <td>3950.0</td>\n",
       "      <td>0</td>\n",
       "      <td>0</td>\n",
       "      <td>15.0</td>\n",
       "      <td>100.00</td>\n",
       "      <td>4.9</td>\n",
       "    </tr>\n",
       "    <tr>\n",
       "      <th>1633</th>\n",
       "      <td>Amazon.com Gift Card in a Gift Tag</td>\n",
       "      <td>Amazon</td>\n",
       "      <td>7520.0</td>\n",
       "      <td>0</td>\n",
       "      <td>0</td>\n",
       "      <td>12.0</td>\n",
       "      <td>10.00</td>\n",
       "      <td>4.9</td>\n",
       "    </tr>\n",
       "    <tr>\n",
       "      <th>1634</th>\n",
       "      <td>Amazon.com $10 Gift Cards, Pack of 3 (Holiday ...</td>\n",
       "      <td>Amazon</td>\n",
       "      <td>3014.0</td>\n",
       "      <td>0</td>\n",
       "      <td>0</td>\n",
       "      <td>3.0</td>\n",
       "      <td>30.00</td>\n",
       "      <td>4.9</td>\n",
       "    </tr>\n",
       "    <tr>\n",
       "      <th>1635</th>\n",
       "      <td>Frito-Lay Baked &amp; Popped Mix Variety Pack, Pac...</td>\n",
       "      <td>Frito-Lay</td>\n",
       "      <td>17706.0</td>\n",
       "      <td>0</td>\n",
       "      <td>0</td>\n",
       "      <td>33.0</td>\n",
       "      <td>28.00</td>\n",
       "      <td>4.6</td>\n",
       "    </tr>\n",
       "  </tbody>\n",
       "</table>\n",
       "<p>1636 rows × 8 columns</p>\n",
       "</div>"
      ],
      "text/plain": [
       "                                                   Name            Brand  \\\n",
       "0     NOCO NUSB211NA 10W USB Power Adapter, 2.1A 5V ...             NOCO   \n",
       "1     Amazfit Band 5 Activity Fitness Tracker with A...          Amazfit   \n",
       "2     Amazon Basics Universal Travel Case Organizer ...     AmazonBasics   \n",
       "3     Amazon Glow with Tangram Bits | Learn, Play, R...           Amazon   \n",
       "4     Echo Show 5 (2nd Gen, 2021 release) - Deep Sea...           Amazon   \n",
       "...                                                 ...              ...   \n",
       "1631                           American Eagle Gift Card   American Eagle   \n",
       "1632              Amazon.com Gift Cards - As a Bookmark           Amazon   \n",
       "1633                 Amazon.com Gift Card in a Gift Tag           Amazon   \n",
       "1634  Amazon.com $10 Gift Cards, Pack of 3 (Holiday ...           Amazon   \n",
       "1635  Frito-Lay Baked & Popped Mix Variety Pack, Pac...        Frito-Lay   \n",
       "\n",
       "       Rating  BestSeller  AmazonChoice  Comments   Price  Stars  \n",
       "0      3869.0           0             0      28.0   13.95    4.7  \n",
       "1     21158.0           0             0    1000.0   29.88    4.1  \n",
       "2     16242.0           0             1     277.0   14.44    4.6  \n",
       "3       215.0           0             1      31.0  329.98    4.4  \n",
       "4       928.0           0             1      21.0  114.98    4.7  \n",
       "...       ...         ...           ...       ...     ...    ...  \n",
       "1631   5999.0           0             0       4.0   25.00    4.9  \n",
       "1632   3950.0           0             0      15.0  100.00    4.9  \n",
       "1633   7520.0           0             0      12.0   10.00    4.9  \n",
       "1634   3014.0           0             0       3.0   30.00    4.9  \n",
       "1635  17706.0           0             0      33.0   28.00    4.6  \n",
       "\n",
       "[1636 rows x 8 columns]"
      ]
     },
     "execution_count": 1,
     "metadata": {},
     "output_type": "execute_result"
    }
   ],
   "source": [
    "import pandas as pd\n",
    "import numpy as np\n",
    "\n",
    "import matplotlib.pyplot as plt\n",
    "import matplotlib.cm as cm\n",
    "import seaborn as sns\n",
    "\n",
    "import sklearn\n",
    "from sklearn import cluster\n",
    "\n",
    "from sklearn import metrics, preprocessing, neighbors, cluster\n",
    "from sklearn.cluster import KMeans, AgglomerativeClustering, DBSCAN\n",
    "from scipy.cluster.hierarchy import dendrogram, linkage, fcluster\n",
    "\n",
    "from sklearn.neighbors import kneighbors_graph\n",
    "from sklearn.preprocessing import StandardScaler\n",
    "\n",
    "from sklearn.metrics import silhouette_samples, silhouette_score\n",
    "\n",
    "%matplotlib inline\n",
    "plt.rcParams['figure.figsize'] = (10, 6)\n",
    "plt.style.use('ggplot')\n",
    "# Create color maps\n",
    "from matplotlib.colors import ListedColormap\n",
    "cmap = ListedColormap([\"#e41a1c\",\"#984ea3\",\"#a65628\",\"#377eb8\",\"#ffff33\",\"#4daf4a\",\"#ff7f00\"])\n",
    "\n",
    "df = pd.read_csv(\"Amazon Items Cleaned.csv\")\n",
    "df"
   ]
  },
  {
   "cell_type": "markdown",
   "metadata": {},
   "source": [
    "Transfering DataFrame to numeric values"
   ]
  },
  {
   "cell_type": "code",
   "execution_count": 2,
   "metadata": {},
   "outputs": [
    {
     "data": {
      "text/html": [
       "<div>\n",
       "<style scoped>\n",
       "    .dataframe tbody tr th:only-of-type {\n",
       "        vertical-align: middle;\n",
       "    }\n",
       "\n",
       "    .dataframe tbody tr th {\n",
       "        vertical-align: top;\n",
       "    }\n",
       "\n",
       "    .dataframe thead th {\n",
       "        text-align: right;\n",
       "    }\n",
       "</style>\n",
       "<table border=\"1\" class=\"dataframe\">\n",
       "  <thead>\n",
       "    <tr style=\"text-align: right;\">\n",
       "      <th></th>\n",
       "      <th>Name</th>\n",
       "      <th>Rating</th>\n",
       "      <th>BestSeller</th>\n",
       "      <th>AmazonChoice</th>\n",
       "      <th>Comments</th>\n",
       "      <th>Price</th>\n",
       "      <th>Stars</th>\n",
       "    </tr>\n",
       "  </thead>\n",
       "  <tbody>\n",
       "    <tr>\n",
       "      <th>0</th>\n",
       "      <td>1</td>\n",
       "      <td>3869.0</td>\n",
       "      <td>0</td>\n",
       "      <td>0</td>\n",
       "      <td>28.0</td>\n",
       "      <td>13.95</td>\n",
       "      <td>4.7</td>\n",
       "    </tr>\n",
       "    <tr>\n",
       "      <th>1</th>\n",
       "      <td>2</td>\n",
       "      <td>21158.0</td>\n",
       "      <td>0</td>\n",
       "      <td>0</td>\n",
       "      <td>1000.0</td>\n",
       "      <td>29.88</td>\n",
       "      <td>4.1</td>\n",
       "    </tr>\n",
       "    <tr>\n",
       "      <th>2</th>\n",
       "      <td>3</td>\n",
       "      <td>16242.0</td>\n",
       "      <td>0</td>\n",
       "      <td>1</td>\n",
       "      <td>277.0</td>\n",
       "      <td>14.44</td>\n",
       "      <td>4.6</td>\n",
       "    </tr>\n",
       "    <tr>\n",
       "      <th>3</th>\n",
       "      <td>4</td>\n",
       "      <td>215.0</td>\n",
       "      <td>0</td>\n",
       "      <td>1</td>\n",
       "      <td>31.0</td>\n",
       "      <td>329.98</td>\n",
       "      <td>4.4</td>\n",
       "    </tr>\n",
       "    <tr>\n",
       "      <th>4</th>\n",
       "      <td>5</td>\n",
       "      <td>928.0</td>\n",
       "      <td>0</td>\n",
       "      <td>1</td>\n",
       "      <td>21.0</td>\n",
       "      <td>114.98</td>\n",
       "      <td>4.7</td>\n",
       "    </tr>\n",
       "    <tr>\n",
       "      <th>...</th>\n",
       "      <td>...</td>\n",
       "      <td>...</td>\n",
       "      <td>...</td>\n",
       "      <td>...</td>\n",
       "      <td>...</td>\n",
       "      <td>...</td>\n",
       "      <td>...</td>\n",
       "    </tr>\n",
       "    <tr>\n",
       "      <th>1631</th>\n",
       "      <td>660</td>\n",
       "      <td>5999.0</td>\n",
       "      <td>0</td>\n",
       "      <td>0</td>\n",
       "      <td>4.0</td>\n",
       "      <td>25.00</td>\n",
       "      <td>4.9</td>\n",
       "    </tr>\n",
       "    <tr>\n",
       "      <th>1632</th>\n",
       "      <td>1439</td>\n",
       "      <td>3950.0</td>\n",
       "      <td>0</td>\n",
       "      <td>0</td>\n",
       "      <td>15.0</td>\n",
       "      <td>100.00</td>\n",
       "      <td>4.9</td>\n",
       "    </tr>\n",
       "    <tr>\n",
       "      <th>1633</th>\n",
       "      <td>1440</td>\n",
       "      <td>7520.0</td>\n",
       "      <td>0</td>\n",
       "      <td>0</td>\n",
       "      <td>12.0</td>\n",
       "      <td>10.00</td>\n",
       "      <td>4.9</td>\n",
       "    </tr>\n",
       "    <tr>\n",
       "      <th>1634</th>\n",
       "      <td>1441</td>\n",
       "      <td>3014.0</td>\n",
       "      <td>0</td>\n",
       "      <td>0</td>\n",
       "      <td>3.0</td>\n",
       "      <td>30.00</td>\n",
       "      <td>4.9</td>\n",
       "    </tr>\n",
       "    <tr>\n",
       "      <th>1635</th>\n",
       "      <td>1442</td>\n",
       "      <td>17706.0</td>\n",
       "      <td>0</td>\n",
       "      <td>0</td>\n",
       "      <td>33.0</td>\n",
       "      <td>28.00</td>\n",
       "      <td>4.6</td>\n",
       "    </tr>\n",
       "  </tbody>\n",
       "</table>\n",
       "<p>1636 rows × 7 columns</p>\n",
       "</div>"
      ],
      "text/plain": [
       "      Name   Rating  BestSeller  AmazonChoice  Comments   Price  Stars\n",
       "0        1   3869.0           0             0      28.0   13.95    4.7\n",
       "1        2  21158.0           0             0    1000.0   29.88    4.1\n",
       "2        3  16242.0           0             1     277.0   14.44    4.6\n",
       "3        4    215.0           0             1      31.0  329.98    4.4\n",
       "4        5    928.0           0             1      21.0  114.98    4.7\n",
       "...    ...      ...         ...           ...       ...     ...    ...\n",
       "1631   660   5999.0           0             0       4.0   25.00    4.9\n",
       "1632  1439   3950.0           0             0      15.0  100.00    4.9\n",
       "1633  1440   7520.0           0             0      12.0   10.00    4.9\n",
       "1634  1441   3014.0           0             0       3.0   30.00    4.9\n",
       "1635  1442  17706.0           0             0      33.0   28.00    4.6\n",
       "\n",
       "[1636 rows x 7 columns]"
      ]
     },
     "execution_count": 2,
     "metadata": {},
     "output_type": "execute_result"
    }
   ],
   "source": [
    "def transfer_str_to_numeric_vals(dataset,str_col,id_col_to_remove):\n",
    "    DF = dataset.copy()\n",
    "    for column in DF :\n",
    "        DF[str_col] = pd.factorize(DF[str_col])[0] + 1\n",
    "    DF.pop(id_col_to_remove)\n",
    "    return DF\n",
    "\n",
    "num_dataset = transfer_str_to_numeric_vals(df, 'Name', 'Brand')\n",
    "num_dataset"
   ]
  },
  {
   "cell_type": "markdown",
   "metadata": {},
   "source": [
    "Scaling DataSet"
   ]
  },
  {
   "cell_type": "code",
   "execution_count": 3,
   "metadata": {},
   "outputs": [
    {
     "data": {
      "text/plain": [
       "array([[-1.59221768, -0.12708992, -0.17009062, ..., -0.27852636,\n",
       "        -0.33342472,  0.74935901],\n",
       "       [-1.5898465 ,  0.53877864, -0.17009062, ...,  5.62962395,\n",
       "        -0.2580302 , -1.19299854],\n",
       "       [-1.58747532,  0.34944381, -0.17009062, ...,  1.23498128,\n",
       "        -0.33110562,  0.42563275],\n",
       "       ...,\n",
       "       [ 1.81990883,  0.0135247 , -0.17009062, ..., -0.37577987,\n",
       "        -0.35211953,  1.39681153],\n",
       "       [ 1.82228001, -0.16001939, -0.17009062, ..., -0.43048496,\n",
       "        -0.25746226,  1.39681153],\n",
       "       [ 1.82465119,  0.40582831, -0.17009062, ..., -0.24813464,\n",
       "        -0.26692798,  0.42563275]])"
      ]
     },
     "execution_count": 3,
     "metadata": {},
     "output_type": "execute_result"
    }
   ],
   "source": [
    "def scale_dataset(dataset):\n",
    "    scaler = StandardScaler()\n",
    "    \n",
    "    DFScaled = scaler.fit_transform(dataset)\n",
    "    \n",
    "    return DFScaled\n",
    "\n",
    "dfScaled = scale_dataset(num_dataset)\n",
    "dfScaled"
   ]
  },
  {
   "cell_type": "code",
   "execution_count": 4,
   "metadata": {},
   "outputs": [
    {
     "data": {
      "image/png": "[encoded data removed]",
      "text/plain": [
       "<Figure size 720x432 with 1 Axes>"
      ]
     },
     "metadata": {},
     "output_type": "display_data"
    }
   ],
   "source": [
    "model = KMeans(n_clusters=5, n_init=1, init='random', max_iter=1)\n",
    "y_pred = model.fit_predict(dfScaled)\n",
    "plt.scatter(dfScaled[:, 0], dfScaled[:, 1], c=y_pred,  marker=\"o\", cmap=cmap);"
   ]
  },
  {
   "cell_type": "markdown",
   "metadata": {},
   "source": [
    "K-means"
   ]
  },
  {
   "cell_type": "code",
   "execution_count": 5,
   "metadata": {},
   "outputs": [],
   "source": [
    "def perform_k_means(dataset, num_clusters, init_val, n_init_val, rand_state):\n",
    "    model = KMeans(n_clusters = num_clusters, n_init = n_init_val, init = init_val, random_state = rand_state)\n",
    "    predicted_vals = model.fit_predict(dataset)\n",
    "        \n",
    "    return model, predicted_vals"
   ]
  },
  {
   "cell_type": "markdown",
   "metadata": {},
   "source": [
    "Find best initialization parameters for K-means"
   ]
  },
  {
   "cell_type": "code",
   "execution_count": 6,
   "metadata": {},
   "outputs": [
    {
     "name": "stdout",
     "output_type": "stream",
     "text": [
      "(KMeans(n_clusters=3, n_init=1, random_state=42), array([0, 0, 1, ..., 0, 0, 0]))\n",
      "(KMeans(n_clusters=3, n_init=5, random_state=42), array([0, 0, 1, ..., 0, 0, 0]))\n",
      "(KMeans(n_clusters=3, random_state=42), array([0, 0, 1, ..., 0, 0, 0]))\n",
      "8015.931546209357\n",
      "k-means++\n",
      "10\n"
     ]
    }
   ],
   "source": [
    "def get_best_init_params_for_k_means(dataset, num_clusters, init_options, n_init_options, rand_state):\n",
    "    \n",
    "    score_list = list()\n",
    "            \n",
    "    for i in n_init_options :\n",
    "        for j in init_options :\n",
    "            Kresult = perform_k_means(dataset, num_clusters, j, i,rand_state)\n",
    "            score_list.append(Kresult[0].inertia_)\n",
    "        print(Kresult)\n",
    "    \n",
    "    best_score = score_list[0]\n",
    "    \n",
    "    for i in range(0,len(score_list),1) :\n",
    "        if score_list[i] < best_score :\n",
    "            best_score = score_list[i]\n",
    "            best_init_val = Kresult[0].init\n",
    "            best_n_init_val = Kresult[0].n_init            \n",
    "    \n",
    "    return best_score, best_init_val, best_n_init_val\n",
    "\n",
    "num_clusters = 3\n",
    "init_options = ['random', 'k-means++']\n",
    "n_init_options = [1,5,10]\n",
    "rand_state = 42\n",
    "\n",
    "best_score, best_init_val, best_n_init_val = get_best_init_params_for_k_means(dfScaled, num_clusters, init_options, n_init_options, rand_state)    \n",
    "print(best_score)\n",
    "print(best_init_val)\n",
    "print(best_n_init_val)"
   ]
  },
  {
   "cell_type": "code",
   "execution_count": 7,
   "metadata": {},
   "outputs": [
    {
     "name": "stderr",
     "output_type": "stream",
     "text": [
      "c:\\Users\\Yaniv\\anaconda3\\envs\\datascience\\lib\\site-packages\\sklearn\\cluster\\_kmeans.py:1036: UserWarning: KMeans is known to have a memory leak on Windows with MKL, when there are less chunks than available threads. You can avoid it by setting the environment variable OMP_NUM_THREADS=7.\n",
      "  warnings.warn(\n"
     ]
    },
    {
     "data": {
      "text/plain": [
       "[11452.0,\n",
       " 9663.940596011536,\n",
       " 8015.931546209357,\n",
       " 6843.999726735043,\n",
       " 5608.589002664361,\n",
       " 4886.98633570482,\n",
       " 4037.563070597593,\n",
       " 3434.466154971799,\n",
       " 3142.615343260596]"
      ]
     },
     "execution_count": 7,
     "metadata": {},
     "output_type": "execute_result"
    }
   ],
   "source": [
    "def compare_number_of_clusters(dataset, num_cluster_options, init_val, n_init_val, rand_state):\n",
    "\n",
    "    lst_scores = list()\n",
    "            \n",
    "    for i in num_cluster_options :\n",
    "        Kresult = perform_k_means(dataset, i, init_val, n_init_val, rand_state)\n",
    "        lst_scores.append(Kresult[0].inertia_)\n",
    "            \n",
    "    return lst_scores\n",
    "\n",
    "num_clusters_options = [1,2,3,4,5,6,7,8,9]\n",
    "init_val = 'k-means++'\n",
    "n_init_val = 10\n",
    "rand_state = 42\n",
    "\n",
    "scores = compare_number_of_clusters(dfScaled, num_clusters_options, init_val, n_init_val, rand_state)\n",
    "scores"
   ]
  },
  {
   "cell_type": "code",
   "execution_count": 8,
   "metadata": {},
   "outputs": [
    {
     "name": "stderr",
     "output_type": "stream",
     "text": [
      "c:\\Users\\Yaniv\\anaconda3\\envs\\datascience\\lib\\site-packages\\sklearn\\cluster\\_kmeans.py:1036: UserWarning: KMeans is known to have a memory leak on Windows with MKL, when there are less chunks than available threads. You can avoid it by setting the environment variable OMP_NUM_THREADS=7.\n",
      "  warnings.warn(\n"
     ]
    },
    {
     "data": {
      "image/png": "[encoded data removed]",
      "text/plain": [
       "<Figure size 720x432 with 1 Axes>"
      ]
     },
     "metadata": {},
     "output_type": "display_data"
    }
   ],
   "source": [
    "scores_2_3 = compare_number_of_clusters(dfScaled, num_clusters_options, init_val, n_init_val, rand_state)\n",
    "\n",
    "plt.plot(num_clusters_options,scores_2_3)\n",
    "plt.title('The Elbow Method')\n",
    "plt.xlabel('Number of clusters')\n",
    "plt.ylabel('SSE')\n",
    "plt.show()"
   ]
  },
  {
   "cell_type": "markdown",
   "metadata": {},
   "source": [
    "With the elbow method we can see that the best number of clusters is 8"
   ]
  },
  {
   "cell_type": "markdown",
   "metadata": {},
   "source": [
    "Evaluation of K-means with silhouette score"
   ]
  },
  {
   "cell_type": "code",
   "execution_count": 9,
   "metadata": {},
   "outputs": [
    {
     "name": "stdout",
     "output_type": "stream",
     "text": [
      "Best number of clusters is : 8\n",
      "The best score is : 0.34672514888171496\n"
     ]
    }
   ],
   "source": [
    "def get_best_num_of_clusters_for_k_means(dataset, num_cluster_options, init_val, n_init_val, rand_state):\n",
    "    \n",
    "    lst_scores = list()\n",
    "    silhouette_lst = list()\n",
    "    Klist = list()\n",
    "            \n",
    "    for i in num_cluster_options :\n",
    "        Kresult = perform_k_means(dataset, i, init_val, n_init_val, rand_state)\n",
    "        Klist.append(Kresult[0].n_clusters)\n",
    "        lst_scores.append(Kresult[1])\n",
    "        \n",
    "    best_score = silhouette_score(dataset, lst_scores[0])\n",
    "        \n",
    "    for i in range(0,len(lst_scores),1) :\n",
    "        if silhouette_score(dataset, lst_scores[i]) > best_score :\n",
    "            best_score = silhouette_score(dataset, lst_scores[i])\n",
    "            num_clusters = Klist[i]\n",
    "        \n",
    "    return best_score, num_clusters\n",
    "\n",
    "num_clusters_options = [2,3,4,5,6,7,8,9]\n",
    "init_val = 'k-means++'\n",
    "n_init_val = 1\n",
    "rand_state = 42\n",
    "\n",
    "best_score, best_num_clusters = get_best_num_of_clusters_for_k_means(dfScaled, num_clusters_options, init_val, n_init_val, rand_state)\n",
    "print(\"Best number of clusters is : \" + str(best_num_clusters))\n",
    "print(\"The best score is : \" + str(best_score))\n"
   ]
  },
  {
   "cell_type": "code",
   "execution_count": 10,
   "metadata": {},
   "outputs": [
    {
     "data": {
      "image/png": "[encoded data removed]",
      "text/plain": [
       "<Figure size 720x432 with 1 Axes>"
      ]
     },
     "metadata": {},
     "output_type": "display_data"
    }
   ],
   "source": [
    "km = KMeans(n_clusters=8, n_init=10, init='random', max_iter=10)\n",
    "y_pred = km.fit_predict(dfScaled)\n",
    "plt.scatter(dfScaled[:, 0], dfScaled[:, 1], c=y_pred,  marker=\"o\", cmap=cmap);"
   ]
  },
  {
   "cell_type": "markdown",
   "metadata": {},
   "source": [
    "Hierarchical clustering"
   ]
  },
  {
   "cell_type": "code",
   "execution_count": 11,
   "metadata": {},
   "outputs": [
    {
     "name": "stdout",
     "output_type": "stream",
     "text": [
      "AgglomerativeClustering(linkage='single', n_clusters=3)\n",
      "[0 0 0 ... 0 0 0]\n"
     ]
    }
   ],
   "source": [
    "def perform_hierarchical_clustering(dataset, num_clusters, linkage_val):\n",
    "    \n",
    "    agg_cluster_model = AgglomerativeClustering(n_clusters = num_clusters, linkage = linkage_val)\n",
    "    y_pred = agg_cluster_model.fit_predict(dataset)\n",
    "    \n",
    "    return agg_cluster_model, y_pred\n",
    "\n",
    "linkage_val = 'single'\n",
    "hierarchical_model, predicted_vals = perform_hierarchical_clustering(dfScaled, num_clusters, linkage_val)\n",
    "print(hierarchical_model)\n",
    "print(predicted_vals)"
   ]
  },
  {
   "cell_type": "markdown",
   "metadata": {},
   "source": [
    "Find best 'linkage' method for hierarchical agglomerative clustering"
   ]
  },
  {
   "cell_type": "code",
   "execution_count": 12,
   "metadata": {},
   "outputs": [
    {
     "name": "stdout",
     "output_type": "stream",
     "text": [
      "0.5800603058478546\n",
      "average\n"
     ]
    }
   ],
   "source": [
    "def get_best_linkage_method(dataset, num_clusters, linkage_options):\n",
    "    \n",
    "    Kresult = list()\n",
    "    Klist = list()\n",
    "    lst_scores = list()\n",
    "    \n",
    "    for i in linkage_options :\n",
    "        Kresult = perform_hierarchical_clustering(dataset, num_clusters, i)\n",
    "        lst_scores.append(Kresult[1])\n",
    "        Klist.append(Kresult[0].linkage)\n",
    "                        \n",
    "    best_score = silhouette_score(dataset, lst_scores[0])\n",
    "        \n",
    "    for i in range(0,len(lst_scores),1) :\n",
    "        if silhouette_score(dataset, lst_scores[i]) > best_score :\n",
    "            best_score = silhouette_score(dataset, lst_scores[i])\n",
    "            best_linkage = Klist[i]\n",
    "        \n",
    "    return best_score, best_linkage\n",
    "\n",
    "num_clusters = 8\n",
    "linkage_options = ['single', 'complete', 'average', 'ward']\n",
    "rand_state = 42\n",
    "\n",
    "best_score, best_linkage_method = get_best_linkage_method(dfScaled, num_clusters, linkage_options)\n",
    "print(best_score)\n",
    "print(best_linkage_method)"
   ]
  },
  {
   "cell_type": "markdown",
   "metadata": {},
   "source": [
    "DBSCAN"
   ]
  },
  {
   "cell_type": "code",
   "execution_count": 13,
   "metadata": {},
   "outputs": [
    {
     "name": "stdout",
     "output_type": "stream",
     "text": [
      "DBSCAN(eps=10)\n",
      "[-1 -1 -1 ... -1 -1 -1]\n"
     ]
    }
   ],
   "source": [
    "def perform_density_based_clustering(dataset, epsilon_val, minimum_samples_val):\n",
    "    model = DBSCAN(eps = epsilon_val, min_samples = minimum_samples_val)\n",
    "    predicted_vals = model.fit_predict(dataset)\n",
    "    \n",
    "    return model, predicted_vals\n",
    "\n",
    "epsilon_val = 10\n",
    "minimum_samples_val = 5\n",
    "density_based_model, predicted_vals = perform_density_based_clustering(num_dataset, epsilon_val, minimum_samples_val)\n",
    "print(density_based_model)\n",
    "print(predicted_vals)"
   ]
  }
 ],
 "metadata": {
  "kernelspec": {
   "display_name": "Python 3.8.12",
   "language": "python",
   "name": "python3"
  },
  "language_info": {
   "codemirror_mode": {
    "name": "ipython",
    "version": 3
   },
   "file_extension": ".py",
   "mimetype": "text/x-python",
   "name": "python",
   "nbconvert_exporter": "python",
   "pygments_lexer": "ipython3",
   "version": "3.8.12"
  },
  "orig_nbformat": 4,
  "vscode": {
   "interpreter": {
    "hash": "631f2da9300be9763c746115158d7fda57bb43f84de6a8c2c3474ff6e3fd2b9c"
   }
  }
 },
 "nbformat": 4,
 "nbformat_minor": 2
}
