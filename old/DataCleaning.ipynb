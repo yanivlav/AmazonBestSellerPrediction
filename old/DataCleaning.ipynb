{
 "cells": [
  {
   "cell_type": "markdown",
   "metadata": {},
   "source": [
    "Data Handling\n",
    "\n",
    "Loading the dataset from the csv, removing duplicates and corrupted values"
   ]
  },
  {
   "cell_type": "code",
   "execution_count": 34,
   "metadata": {},
   "outputs": [
    {
     "name": "stdout",
     "output_type": "stream",
     "text": [
      "Shape before cleaning: (13134, 8)\n",
      "Shape after removing corrupted: (5230, 8)\n",
      "Shape after removing duplicates: (5116, 8)\n"
     ]
    }
   ],
   "source": [
    "from bs4 import BeautifulSoup\n",
    "import pandas as pd\n",
    "import numpy as np\n",
    "import requests\n",
    "import json\n",
    "import csv\n",
    "\n",
    "# df = pd.read_csv(\"Amazon Items Cleaned.csv\")\n",
    "df = pd.read_csv(\"Amazon Items Scraped.csv\")\n",
    "print('Shape before cleaning: ' + str(df.shape))\n",
    "\n",
    "# Remove Corrupted Rows ---------------------------------------------------------------------\n",
    "df = df.dropna(axis = 0, thresh=8)\n",
    "print('Shape after removing corrupted: ' + str(df.shape))\n",
    "\n",
    "# Drop Duplicates --------------------------------------------------------------------------\n",
    "df = df.drop_duplicates(subset = None, keep = 'first')\n",
    "print('Shape after removing duplicates: ' + str(df.shape))\n",
    "\n"
   ]
  },
  {
   "cell_type": "markdown",
   "metadata": {},
   "source": [
    "Cleaning and normalizing the data"
   ]
  },
  {
   "cell_type": "code",
   "execution_count": 35,
   "metadata": {},
   "outputs": [],
   "source": [
    "# Function - Delete char in string ---------------------------------------------------------\n",
    "\n",
    "def deleteCharInString(df, c) :\n",
    "    ilist = list()\n",
    "    for i in df :\n",
    "        ilist.append(i.replace(c, ''))\n",
    "    df = ilist\n",
    "    return df"
   ]
  },
  {
   "cell_type": "code",
   "execution_count": 36,
   "metadata": {},
   "outputs": [
    {
     "name": "stdout",
     "output_type": "stream",
     "text": [
      "0                 Amazon\n",
      "4          Amazon Basics\n",
      "5                 Amazon\n",
      "7                 Amazon\n",
      "8                 EDIVIA\n",
      "              ...       \n",
      "12972     American Eagle\n",
      "12991             Amazon\n",
      "13002             Amazon\n",
      "13031             Amazon\n",
      "13117          Frito-Lay\n",
      "Name: Brand, Length: 5116, dtype: object\n"
     ]
    }
   ],
   "source": [
    "# Cleaning the Brand name ------------------------------------------------------------------\n",
    "\n",
    "df.Brand = deleteCharInString(df.Brand, \"Brand:\")\n",
    "df.Brand = deleteCharInString(df.Brand, \"Visit the \")\n",
    "df.Brand = deleteCharInString(df.Brand, \" Store\")\n",
    "\n",
    "print(df.Brand)"
   ]
  },
  {
   "cell_type": "code",
   "execution_count": 37,
   "metadata": {},
   "outputs": [
    {
     "name": "stdout",
     "output_type": "stream",
     "text": [
      "0        64803.0\n",
      "1         7851.0\n",
      "2       145478.0\n",
      "3       117007.0\n",
      "4           82.0\n",
      "          ...   \n",
      "5111      5999.0\n",
      "5112      3950.0\n",
      "5113      7520.0\n",
      "5114      3014.0\n",
      "5115     17706.0\n",
      "Name: Rating, Length: 5116, dtype: float64\n"
     ]
    }
   ],
   "source": [
    "# # Cleaning the Ratings ------------------------------------------------------------------\n",
    "\n",
    "df.Rating = deleteCharInString(df.Rating, \" ratings\")\n",
    "df.Rating = deleteCharInString(df.Rating, \" rating\")\n",
    "df.Rating = deleteCharInString(df.Rating, \",\")\n",
    "df[\"Rating\"] = df.Rating.astype(float)\n",
    "df = df.reset_index(drop=True)\n",
    "print(df.Rating)"
   ]
  },
  {
   "cell_type": "code",
   "execution_count": 38,
   "metadata": {},
   "outputs": [
    {
     "data": {
      "text/html": [
       "<div>\n",
       "<style scoped>\n",
       "    .dataframe tbody tr th:only-of-type {\n",
       "        vertical-align: middle;\n",
       "    }\n",
       "\n",
       "    .dataframe tbody tr th {\n",
       "        vertical-align: top;\n",
       "    }\n",
       "\n",
       "    .dataframe thead th {\n",
       "        text-align: right;\n",
       "    }\n",
       "</style>\n",
       "<table border=\"1\" class=\"dataframe\">\n",
       "  <thead>\n",
       "    <tr style=\"text-align: right;\">\n",
       "      <th></th>\n",
       "      <th>Name</th>\n",
       "      <th>Brand</th>\n",
       "      <th>Rating</th>\n",
       "      <th>BestSeller</th>\n",
       "      <th>AmazonChoice</th>\n",
       "      <th>Comments</th>\n",
       "      <th>Price</th>\n",
       "      <th>Stars</th>\n",
       "    </tr>\n",
       "  </thead>\n",
       "  <tbody>\n",
       "    <tr>\n",
       "      <th>0</th>\n",
       "      <td>Amazon Ethernet Adapter for Amazon Fire TV Dev...</td>\n",
       "      <td>Amazon</td>\n",
       "      <td>64803.0</td>\n",
       "      <td>0</td>\n",
       "      <td>1</td>\n",
       "      <td>1000+ answered questions</td>\n",
       "      <td>0</td>\n",
       "      <td>4.5</td>\n",
       "    </tr>\n",
       "    <tr>\n",
       "      <th>1</th>\n",
       "      <td>Amazon Basics Dual-Port USB Car Charger Adapte...</td>\n",
       "      <td>Amazon Basics</td>\n",
       "      <td>7851.0</td>\n",
       "      <td>0</td>\n",
       "      <td>1</td>\n",
       "      <td>82 answered questions</td>\n",
       "      <td>0</td>\n",
       "      <td>4.6</td>\n",
       "    </tr>\n",
       "    <tr>\n",
       "      <th>2</th>\n",
       "      <td>Echo Auto- Hands-free Alexa in your car with y...</td>\n",
       "      <td>Amazon</td>\n",
       "      <td>145478.0</td>\n",
       "      <td>0</td>\n",
       "      <td>1</td>\n",
       "      <td>1000+ answered questions</td>\n",
       "      <td>0</td>\n",
       "      <td>4</td>\n",
       "    </tr>\n",
       "    <tr>\n",
       "      <th>3</th>\n",
       "      <td>Echo (4th Gen) | With premium sound, smart hom...</td>\n",
       "      <td>Amazon</td>\n",
       "      <td>117007.0</td>\n",
       "      <td>0</td>\n",
       "      <td>1</td>\n",
       "      <td>1000+ answered questions</td>\n",
       "      <td>0</td>\n",
       "      <td>4.7</td>\n",
       "    </tr>\n",
       "    <tr>\n",
       "      <th>4</th>\n",
       "      <td>Stylus Pencil for Amazon Fire HD 10 Pen, EDIVI...</td>\n",
       "      <td>EDIVIA</td>\n",
       "      <td>82.0</td>\n",
       "      <td>0</td>\n",
       "      <td>1</td>\n",
       "      <td>0</td>\n",
       "      <td>$16.99</td>\n",
       "      <td>4.3</td>\n",
       "    </tr>\n",
       "    <tr>\n",
       "      <th>...</th>\n",
       "      <td>...</td>\n",
       "      <td>...</td>\n",
       "      <td>...</td>\n",
       "      <td>...</td>\n",
       "      <td>...</td>\n",
       "      <td>...</td>\n",
       "      <td>...</td>\n",
       "      <td>...</td>\n",
       "    </tr>\n",
       "    <tr>\n",
       "      <th>5111</th>\n",
       "      <td>American Eagle Gift Card</td>\n",
       "      <td>American Eagle</td>\n",
       "      <td>5999.0</td>\n",
       "      <td>0</td>\n",
       "      <td>0</td>\n",
       "      <td>4 answered questions</td>\n",
       "      <td>$25.00</td>\n",
       "      <td>4.9</td>\n",
       "    </tr>\n",
       "    <tr>\n",
       "      <th>5112</th>\n",
       "      <td>Amazon.com Gift Cards - As a Bookmark</td>\n",
       "      <td>Amazon</td>\n",
       "      <td>3950.0</td>\n",
       "      <td>0</td>\n",
       "      <td>0</td>\n",
       "      <td>15 answered questions</td>\n",
       "      <td>$100.00</td>\n",
       "      <td>4.9</td>\n",
       "    </tr>\n",
       "    <tr>\n",
       "      <th>5113</th>\n",
       "      <td>Amazon.com Gift Card in a Gift Tag</td>\n",
       "      <td>Amazon</td>\n",
       "      <td>7520.0</td>\n",
       "      <td>0</td>\n",
       "      <td>0</td>\n",
       "      <td>12 answered questions</td>\n",
       "      <td>$10.00</td>\n",
       "      <td>4.9</td>\n",
       "    </tr>\n",
       "    <tr>\n",
       "      <th>5114</th>\n",
       "      <td>Amazon.com $10 Gift Cards, Pack of 3 (Holiday ...</td>\n",
       "      <td>Amazon</td>\n",
       "      <td>3014.0</td>\n",
       "      <td>0</td>\n",
       "      <td>0</td>\n",
       "      <td>3 answered questions</td>\n",
       "      <td>$30.00</td>\n",
       "      <td>4.9</td>\n",
       "    </tr>\n",
       "    <tr>\n",
       "      <th>5115</th>\n",
       "      <td>Frito-Lay Baked &amp; Popped Mix Variety Pack, Pac...</td>\n",
       "      <td>Frito-Lay</td>\n",
       "      <td>17706.0</td>\n",
       "      <td>0</td>\n",
       "      <td>0</td>\n",
       "      <td>33 answered questions</td>\n",
       "      <td>$28.00</td>\n",
       "      <td>4.6</td>\n",
       "    </tr>\n",
       "  </tbody>\n",
       "</table>\n",
       "<p>5116 rows × 8 columns</p>\n",
       "</div>"
      ],
      "text/plain": [
       "                                                   Name            Brand  \\\n",
       "0     Amazon Ethernet Adapter for Amazon Fire TV Dev...           Amazon   \n",
       "1     Amazon Basics Dual-Port USB Car Charger Adapte...    Amazon Basics   \n",
       "2     Echo Auto- Hands-free Alexa in your car with y...           Amazon   \n",
       "3     Echo (4th Gen) | With premium sound, smart hom...           Amazon   \n",
       "4     Stylus Pencil for Amazon Fire HD 10 Pen, EDIVI...           EDIVIA   \n",
       "...                                                 ...              ...   \n",
       "5111                           American Eagle Gift Card   American Eagle   \n",
       "5112              Amazon.com Gift Cards - As a Bookmark           Amazon   \n",
       "5113                 Amazon.com Gift Card in a Gift Tag           Amazon   \n",
       "5114  Amazon.com $10 Gift Cards, Pack of 3 (Holiday ...           Amazon   \n",
       "5115  Frito-Lay Baked & Popped Mix Variety Pack, Pac...        Frito-Lay   \n",
       "\n",
       "        Rating  BestSeller  AmazonChoice                  Comments     Price  \\\n",
       "0      64803.0           0             1  1000+ answered questions         0   \n",
       "1       7851.0           0             1     82 answered questions         0   \n",
       "2     145478.0           0             1  1000+ answered questions         0   \n",
       "3     117007.0           0             1  1000+ answered questions         0   \n",
       "4         82.0           0             1                         0   $16.99    \n",
       "...        ...         ...           ...                       ...       ...   \n",
       "5111    5999.0           0             0      4 answered questions   $25.00    \n",
       "5112    3950.0           0             0     15 answered questions  $100.00    \n",
       "5113    7520.0           0             0     12 answered questions   $10.00    \n",
       "5114    3014.0           0             0      3 answered questions   $30.00    \n",
       "5115   17706.0           0             0     33 answered questions   $28.00    \n",
       "\n",
       "     Stars  \n",
       "0      4.5  \n",
       "1      4.6  \n",
       "2        4  \n",
       "3      4.7  \n",
       "4      4.3  \n",
       "...    ...  \n",
       "5111   4.9  \n",
       "5112   4.9  \n",
       "5113   4.9  \n",
       "5114   4.9  \n",
       "5115   4.6  \n",
       "\n",
       "[5116 rows x 8 columns]"
      ]
     },
     "execution_count": 38,
     "metadata": {},
     "output_type": "execute_result"
    }
   ],
   "source": [
    "# Cleaning the Stars ------------------------------------------------------------------\n",
    "#changed to removing the row\n",
    "df.Stars = deleteCharInString(df.Stars, \" out of 5\")\n",
    "ilist = list()\n",
    "for i in df.Stars :\n",
    "    ilist.append(i.replace(\"How confident are you in finding a size that will fit you well?\", '0'))\n",
    "df.Stars = ilist\n",
    "ilist = list()\n",
    "for i in df.Stars :\n",
    "    ilist.append(i.replace(\"|\", '0'))\n",
    "df.Stars = ilist\n",
    "ilist = list()\n",
    "for i in df.Stars :\n",
    "    ilist.append(i.replace(\"confirmed\", '0'))\n",
    "df.Stars = ilist\n",
    "ilist = list()\n",
    "for i in df.Stars :\n",
    "    ilist.append(i.replace(\"4,8 von 5\", '4.8'))\n",
    "df.Stars = ilist\n",
    "\n",
    "df\n",
    "\n"
   ]
  },
  {
   "cell_type": "code",
   "execution_count": 39,
   "metadata": {},
   "outputs": [
    {
     "name": "stdout",
     "output_type": "stream",
     "text": [
      "0         0.00\n",
      "1         0.00\n",
      "2         0.00\n",
      "3         0.00\n",
      "4        16.99\n",
      "         ...  \n",
      "5111     25.00\n",
      "5112    100.00\n",
      "5113     10.00\n",
      "5114     30.00\n",
      "5115     28.00\n",
      "Name: Price, Length: 5116, dtype: float64\n"
     ]
    }
   ],
   "source": [
    "# Cleaning the Price ------------------------------------------------------------------\n",
    "\n",
    "df.Price = deleteCharInString(df.Price, \"$\")\n",
    "df.Price = deleteCharInString(df.Price, \",\")\n",
    "df[\"Price\"] = df.Price.astype(float)\n",
    "df = df.reset_index(drop=True)\n",
    "print(df.Price)"
   ]
  },
  {
   "cell_type": "code",
   "execution_count": 40,
   "metadata": {},
   "outputs": [
    {
     "name": "stdout",
     "output_type": "stream",
     "text": [
      "0       1000.0\n",
      "1         82.0\n",
      "2       1000.0\n",
      "3       1000.0\n",
      "4          0.0\n",
      "         ...  \n",
      "5111       4.0\n",
      "5112      15.0\n",
      "5113      12.0\n",
      "5114       3.0\n",
      "5115      33.0\n",
      "Name: Comments, Length: 5116, dtype: float64\n"
     ]
    }
   ],
   "source": [
    "# Cleaning the Comments ------------------------------------------------------------------\n",
    "\n",
    "df.Comments = deleteCharInString(df.Comments, \"+\")\n",
    "df.Comments = deleteCharInString(df.Comments, \" answered questions\")\n",
    "df[\"Comments\"] = df.Comments.astype(float)\n",
    "df = df.reset_index(drop=True)\n",
    "print(df.Comments)\n"
   ]
  },
  {
   "cell_type": "code",
   "execution_count": 41,
   "metadata": {},
   "outputs": [],
   "source": [
    "df.to_csv('Amazon Items Cleaned.csv',index= None)"
   ]
  },
  {
   "cell_type": "markdown",
   "metadata": {},
   "source": [
    "First look on the data"
   ]
  },
  {
   "cell_type": "code",
   "execution_count": 42,
   "metadata": {},
   "outputs": [
    {
     "name": "stdout",
     "output_type": "stream",
     "text": [
      "<class 'pandas.core.frame.DataFrame'>\n",
      "RangeIndex: 5116 entries, 0 to 5115\n",
      "Data columns (total 8 columns):\n",
      " #   Column        Non-Null Count  Dtype  \n",
      "---  ------        --------------  -----  \n",
      " 0   Name          5116 non-null   object \n",
      " 1   Brand         5116 non-null   object \n",
      " 2   Rating        5116 non-null   float64\n",
      " 3   BestSeller    5116 non-null   int64  \n",
      " 4   AmazonChoice  5116 non-null   int64  \n",
      " 5   Comments      5116 non-null   float64\n",
      " 6   Price         5116 non-null   float64\n",
      " 7   Stars         5116 non-null   object \n",
      "dtypes: float64(3), int64(2), object(3)\n",
      "memory usage: 319.9+ KB\n"
     ]
    }
   ],
   "source": [
    "# Non null means our data is full without missing data\n",
    "\n",
    "df.info()"
   ]
  },
  {
   "cell_type": "markdown",
   "metadata": {},
   "source": [
    "Checking data after cleaning"
   ]
  },
  {
   "cell_type": "code",
   "execution_count": 43,
   "metadata": {},
   "outputs": [
    {
     "data": {
      "text/html": [
       "<div>\n",
       "<style scoped>\n",
       "    .dataframe tbody tr th:only-of-type {\n",
       "        vertical-align: middle;\n",
       "    }\n",
       "\n",
       "    .dataframe tbody tr th {\n",
       "        vertical-align: top;\n",
       "    }\n",
       "\n",
       "    .dataframe thead th {\n",
       "        text-align: right;\n",
       "    }\n",
       "</style>\n",
       "<table border=\"1\" class=\"dataframe\">\n",
       "  <thead>\n",
       "    <tr style=\"text-align: right;\">\n",
       "      <th></th>\n",
       "      <th>Name</th>\n",
       "      <th>Brand</th>\n",
       "      <th>Rating</th>\n",
       "      <th>BestSeller</th>\n",
       "      <th>AmazonChoice</th>\n",
       "      <th>Comments</th>\n",
       "      <th>Price</th>\n",
       "      <th>Stars</th>\n",
       "    </tr>\n",
       "  </thead>\n",
       "  <tbody>\n",
       "    <tr>\n",
       "      <th>count</th>\n",
       "      <td>5116</td>\n",
       "      <td>5116</td>\n",
       "      <td>5116.000000</td>\n",
       "      <td>5116.000000</td>\n",
       "      <td>5116.000000</td>\n",
       "      <td>5116.000000</td>\n",
       "      <td>5116.000000</td>\n",
       "      <td>5116</td>\n",
       "    </tr>\n",
       "    <tr>\n",
       "      <th>unique</th>\n",
       "      <td>4131</td>\n",
       "      <td>1755</td>\n",
       "      <td>NaN</td>\n",
       "      <td>NaN</td>\n",
       "      <td>NaN</td>\n",
       "      <td>NaN</td>\n",
       "      <td>NaN</td>\n",
       "      <td>36</td>\n",
       "    </tr>\n",
       "    <tr>\n",
       "      <th>top</th>\n",
       "      <td>The Franklin Mint Founding Fathers Coin Collec...</td>\n",
       "      <td>0</td>\n",
       "      <td>NaN</td>\n",
       "      <td>NaN</td>\n",
       "      <td>NaN</td>\n",
       "      <td>NaN</td>\n",
       "      <td>NaN</td>\n",
       "      <td>0</td>\n",
       "    </tr>\n",
       "    <tr>\n",
       "      <th>freq</th>\n",
       "      <td>8</td>\n",
       "      <td>1662</td>\n",
       "      <td>NaN</td>\n",
       "      <td>NaN</td>\n",
       "      <td>NaN</td>\n",
       "      <td>NaN</td>\n",
       "      <td>NaN</td>\n",
       "      <td>770</td>\n",
       "    </tr>\n",
       "    <tr>\n",
       "      <th>mean</th>\n",
       "      <td>NaN</td>\n",
       "      <td>NaN</td>\n",
       "      <td>6562.867866</td>\n",
       "      <td>0.020328</td>\n",
       "      <td>0.133503</td>\n",
       "      <td>33.890735</td>\n",
       "      <td>45.650004</td>\n",
       "      <td>NaN</td>\n",
       "    </tr>\n",
       "    <tr>\n",
       "      <th>std</th>\n",
       "      <td>NaN</td>\n",
       "      <td>NaN</td>\n",
       "      <td>30537.459072</td>\n",
       "      <td>0.141135</td>\n",
       "      <td>0.340151</td>\n",
       "      <td>127.248506</td>\n",
       "      <td>182.150969</td>\n",
       "      <td>NaN</td>\n",
       "    </tr>\n",
       "    <tr>\n",
       "      <th>min</th>\n",
       "      <td>NaN</td>\n",
       "      <td>NaN</td>\n",
       "      <td>1.000000</td>\n",
       "      <td>0.000000</td>\n",
       "      <td>0.000000</td>\n",
       "      <td>0.000000</td>\n",
       "      <td>0.000000</td>\n",
       "      <td>NaN</td>\n",
       "    </tr>\n",
       "    <tr>\n",
       "      <th>25%</th>\n",
       "      <td>NaN</td>\n",
       "      <td>NaN</td>\n",
       "      <td>37.000000</td>\n",
       "      <td>0.000000</td>\n",
       "      <td>0.000000</td>\n",
       "      <td>0.000000</td>\n",
       "      <td>0.000000</td>\n",
       "      <td>NaN</td>\n",
       "    </tr>\n",
       "    <tr>\n",
       "      <th>50%</th>\n",
       "      <td>NaN</td>\n",
       "      <td>NaN</td>\n",
       "      <td>312.500000</td>\n",
       "      <td>0.000000</td>\n",
       "      <td>0.000000</td>\n",
       "      <td>0.000000</td>\n",
       "      <td>12.990000</td>\n",
       "      <td>NaN</td>\n",
       "    </tr>\n",
       "    <tr>\n",
       "      <th>75%</th>\n",
       "      <td>NaN</td>\n",
       "      <td>NaN</td>\n",
       "      <td>2308.000000</td>\n",
       "      <td>0.000000</td>\n",
       "      <td>0.000000</td>\n",
       "      <td>10.000000</td>\n",
       "      <td>29.990000</td>\n",
       "      <td>NaN</td>\n",
       "    </tr>\n",
       "    <tr>\n",
       "      <th>max</th>\n",
       "      <td>NaN</td>\n",
       "      <td>NaN</td>\n",
       "      <td>918539.000000</td>\n",
       "      <td>1.000000</td>\n",
       "      <td>1.000000</td>\n",
       "      <td>1000.000000</td>\n",
       "      <td>4636.000000</td>\n",
       "      <td>NaN</td>\n",
       "    </tr>\n",
       "  </tbody>\n",
       "</table>\n",
       "</div>"
      ],
      "text/plain": [
       "                                                     Name Brand  \\\n",
       "count                                                5116  5116   \n",
       "unique                                               4131  1755   \n",
       "top     The Franklin Mint Founding Fathers Coin Collec...     0   \n",
       "freq                                                    8  1662   \n",
       "mean                                                  NaN   NaN   \n",
       "std                                                   NaN   NaN   \n",
       "min                                                   NaN   NaN   \n",
       "25%                                                   NaN   NaN   \n",
       "50%                                                   NaN   NaN   \n",
       "75%                                                   NaN   NaN   \n",
       "max                                                   NaN   NaN   \n",
       "\n",
       "               Rating   BestSeller  AmazonChoice     Comments        Price  \\\n",
       "count     5116.000000  5116.000000   5116.000000  5116.000000  5116.000000   \n",
       "unique            NaN          NaN           NaN          NaN          NaN   \n",
       "top               NaN          NaN           NaN          NaN          NaN   \n",
       "freq              NaN          NaN           NaN          NaN          NaN   \n",
       "mean      6562.867866     0.020328      0.133503    33.890735    45.650004   \n",
       "std      30537.459072     0.141135      0.340151   127.248506   182.150969   \n",
       "min          1.000000     0.000000      0.000000     0.000000     0.000000   \n",
       "25%         37.000000     0.000000      0.000000     0.000000     0.000000   \n",
       "50%        312.500000     0.000000      0.000000     0.000000    12.990000   \n",
       "75%       2308.000000     0.000000      0.000000    10.000000    29.990000   \n",
       "max     918539.000000     1.000000      1.000000  1000.000000  4636.000000   \n",
       "\n",
       "       Stars  \n",
       "count   5116  \n",
       "unique    36  \n",
       "top        0  \n",
       "freq     770  \n",
       "mean     NaN  \n",
       "std      NaN  \n",
       "min      NaN  \n",
       "25%      NaN  \n",
       "50%      NaN  \n",
       "75%      NaN  \n",
       "max      NaN  "
      ]
     },
     "execution_count": 43,
     "metadata": {},
     "output_type": "execute_result"
    }
   ],
   "source": [
    "\n",
    "df.describe(include='all')"
   ]
  },
  {
   "cell_type": "markdown",
   "metadata": {},
   "source": [
    "Frequency table check for best seller items\n",
    "\n",
    "we can see in the pie chart that 2.8% of overall products"
   ]
  },
  {
   "cell_type": "code",
   "execution_count": 44,
   "metadata": {},
   "outputs": [
    {
     "name": "stdout",
     "output_type": "stream",
     "text": [
      "   BestSeller  Frequency          p\n",
      "0           0       5012  97.967162\n",
      "1           1        104   2.032838\n"
     ]
    },
    {
     "data": {
      "text/plain": [
       "<AxesSubplot:ylabel='BestSeller'>"
      ]
     },
     "execution_count": 44,
     "metadata": {},
     "output_type": "execute_result"
    },
    {
     "data": {
      "image/png": "[encoded data removed]",
      "text/plain": [
       "<Figure size 432x288 with 1 Axes>"
      ]
     },
     "metadata": {},
     "output_type": "display_data"
    }
   ],
   "source": [
    "# Show the Frequency of the Best Sellers items with PIE visualization -------------------------------------------------------------------------------\n",
    "\n",
    "counts = df[\"BestSeller\"].value_counts()\n",
    "p = df[\"BestSeller\"].value_counts(normalize = True) * 100\n",
    "index = [0,1]\n",
    "FrequencyDF = pd.DataFrame({\"BestSeller\" : index,\"Frequency\": counts, \"p\" : p})\n",
    "print(FrequencyDF)\n",
    "\n",
    "myColors = ['#F5DC1A', '#179deb']\n",
    "df['BestSeller'].value_counts().plot(kind = 'pie', colors = myColors)\n"
   ]
  },
  {
   "cell_type": "code",
   "execution_count": 45,
   "metadata": {},
   "outputs": [
    {
     "name": "stdout",
     "output_type": "stream",
     "text": [
      "(-4.636, 927.2]     5085\n",
      "(927.2, 1854.4]       17\n",
      "(1854.4, 2781.6]      10\n",
      "(3708.8, 4636.0]       3\n",
      "(2781.6, 3708.8]       1\n",
      "Name: Price, dtype: int64\n"
     ]
    },
    {
     "data": {
      "text/plain": [
       "(array([5.085e+03, 1.700e+01, 1.000e+01, 1.000e+00, 3.000e+00]),\n",
       " array([   0. ,  927.2, 1854.4, 2781.6, 3708.8, 4636. ]),\n",
       " <BarContainer object of 5 artists>)"
      ]
     },
     "execution_count": 45,
     "metadata": {},
     "output_type": "execute_result"
    },
    {
     "data": {
      "image/png": "[encoded data removed]",
      "text/plain": [
       "<Figure size 432x288 with 1 Axes>"
      ]
     },
     "metadata": {
      "needs_background": "light"
     },
     "output_type": "display_data"
    }
   ],
   "source": [
    "# We can see that most of the items in amazon are falling under the first section in the histogram price < 500 ------------------------------------------------\n",
    "\n",
    "import matplotlib as mpl\n",
    "from matplotlib import pyplot as plt\n",
    "%matplotlib inline\n",
    "\n",
    "print(pd.cut(df[\"Price\"], bins=5).value_counts())\n",
    "plt.hist(df[\"Price\"], bins = 5)"
   ]
  },
  {
   "cell_type": "code",
   "execution_count": 46,
   "metadata": {},
   "outputs": [
    {
     "data": {
      "text/plain": [
       "(array([5.085e+03, 1.700e+01, 1.000e+01, 1.000e+00, 3.000e+00]),\n",
       " array([   0. ,  927.2, 1854.4, 2781.6, 3708.8, 4636. ]),\n",
       " <BarContainer object of 5 artists>)"
      ]
     },
     "execution_count": 46,
     "metadata": {},
     "output_type": "execute_result"
    },
    {
     "data": {
      "image/png": "[encoded data removed]",
      "text/plain": [
       "<Figure size 432x288 with 1 Axes>"
      ]
     },
     "metadata": {
      "needs_background": "light"
     },
     "output_type": "display_data"
    }
   ],
   "source": [
    "# Finding the amount of Exception in Price --------------------------------------------\n",
    "\n",
    "plt.hist(df.Price, bins = 5)"
   ]
  },
  {
   "cell_type": "code",
   "execution_count": 47,
   "metadata": {},
   "outputs": [
    {
     "name": "stderr",
     "output_type": "stream",
     "text": [
      "c:\\Users\\Yaniv\\anaconda3\\envs\\datascience\\lib\\site-packages\\seaborn\\_decorators.py:36: FutureWarning: Pass the following variable as a keyword arg: x. From version 0.12, the only valid positional argument will be `data`, and passing other arguments without an explicit keyword will result in an error or misinterpretation.\n",
      "  warnings.warn(\n"
     ]
    },
    {
     "data": {
      "text/plain": [
       "<AxesSubplot:xlabel='Price'>"
      ]
     },
     "execution_count": 47,
     "metadata": {},
     "output_type": "execute_result"
    },
    {
     "data": {
      "image/png": "[encoded data removed]",
      "text/plain": [
       "<Figure size 432x288 with 1 Axes>"
      ]
     },
     "metadata": {
      "needs_background": "light"
     },
     "output_type": "display_data"
    }
   ],
   "source": [
    "import seaborn as sns\n",
    "\n",
    "sns.boxenplot(df.Price)"
   ]
  },
  {
   "cell_type": "code",
   "execution_count": 48,
   "metadata": {},
   "outputs": [
    {
     "name": "stdout",
     "output_type": "stream",
     "text": [
      "count    5116.000000\n",
      "mean       45.650004\n",
      "std       182.150969\n",
      "min         0.000000\n",
      "25%         0.000000\n",
      "50%        12.990000\n",
      "75%        29.990000\n",
      "max      4636.000000\n",
      "Name: Price, dtype: float64\n",
      "5116\n"
     ]
    }
   ],
   "source": [
    "df.Price.describe()\n",
    "\n",
    "\n",
    "print(df[\"Price\"].describe())\n",
    "\n",
    "Q1 = np.percentile(df[\"Price\"], 25)\n",
    "Q3 = np.percentile(df[\"Price\"], 75)\n",
    "IQR = Q3 - Q1\n",
    "\n",
    "fareOutlierRows = df[(df[\"Price\"] < Q1 - 1.5 * IQR) | (df[\"Price\"] > Q3 - 1.5 * IQR )].index\n",
    "print(len(fareOutlierRows))"
   ]
  },
  {
   "cell_type": "code",
   "execution_count": 49,
   "metadata": {},
   "outputs": [
    {
     "data": {
      "text/plain": [
       "<matplotlib.collections.PathCollection at 0x27c14860220>"
      ]
     },
     "execution_count": 49,
     "metadata": {},
     "output_type": "execute_result"
    },
    {
     "data": {
      "image/png": "[encoded data removed]",
      "text/plain": [
       "<Figure size 432x288 with 1 Axes>"
      ]
     },
     "metadata": {
      "needs_background": "light"
     },
     "output_type": "display_data"
    }
   ],
   "source": [
    "# Here we can see that the amount of comments on an item does not affect the stars the item gets\n",
    "\n",
    "# plt.scatter(df.Comments, df.Stars)\n",
    "# plt.scatter(df.Price, df.Stars)\n",
    "plt.scatter(df.Price, df.Comments)\n",
    "# plt.scatter(df.Price, df.BestSeller)\n",
    "# plt.scatter(df.Price, df.Rating)\n",
    "# plt.scatter(df.Comments, df.Rating)\n",
    "# plt.scatter(df.Comments, df.Stars)\n"
   ]
  },
  {
   "cell_type": "code",
   "execution_count": 50,
   "metadata": {},
   "outputs": [
    {
     "name": "stdout",
     "output_type": "stream",
     "text": [
      "55\n"
     ]
    }
   ],
   "source": [
    "df.Price[df.Price < 500].count()/df.Price.count()\n",
    "\n",
    "print(df.Price[df.Price > 500].count())\n",
    "# df.Price[df.Price > 1000] = np.nan\n",
    "\n",
    "# print(df.shape)\n",
    "\n",
    "# df = df.dropna(axis= 0 , thresh= 8)\n",
    "\n",
    "# print(df.shape)\n",
    "\n",
    "# df.Price.describe()\n",
    "\n",
    "\n"
   ]
  },
  {
   "cell_type": "code",
   "execution_count": 51,
   "metadata": {},
   "outputs": [
    {
     "data": {
      "text/plain": [
       "<matplotlib.collections.PathCollection at 0x27c148756a0>"
      ]
     },
     "execution_count": 51,
     "metadata": {},
     "output_type": "execute_result"
    },
    {
     "data": {
      "image/png": "[encoded data removed]",
      "text/plain": [
       "<Figure size 432x288 with 1 Axes>"
      ]
     },
     "metadata": {
      "needs_background": "light"
     },
     "output_type": "display_data"
    }
   ],
   "source": [
    "plt.scatter(df.Price, df.Comments)\n"
   ]
  },
  {
   "cell_type": "code",
   "execution_count": 52,
   "metadata": {},
   "outputs": [
    {
     "data": {
      "text/plain": [
       "5116"
      ]
     },
     "execution_count": 52,
     "metadata": {},
     "output_type": "execute_result"
    }
   ],
   "source": [
    "z_comments = (df['Comments'] - df['Comments'].mean()) / df['Comments'].std()\n",
    "outliers = abs(z_comments) < 1000\n",
    "sum(outliers)\n"
   ]
  },
  {
   "cell_type": "code",
   "execution_count": 53,
   "metadata": {},
   "outputs": [
    {
     "name": "stderr",
     "output_type": "stream",
     "text": [
      "c:\\Users\\Yaniv\\anaconda3\\envs\\datascience\\lib\\site-packages\\seaborn\\_decorators.py:36: FutureWarning: Pass the following variable as a keyword arg: x. From version 0.12, the only valid positional argument will be `data`, and passing other arguments without an explicit keyword will result in an error or misinterpretation.\n",
      "  warnings.warn(\n"
     ]
    },
    {
     "data": {
      "text/plain": [
       "<AxesSubplot:xlabel='Price'>"
      ]
     },
     "execution_count": 53,
     "metadata": {},
     "output_type": "execute_result"
    },
    {
     "data": {
      "image/png": "[encoded data removed]",
      "text/plain": [
       "<Figure size 1296x288 with 1 Axes>"
      ]
     },
     "metadata": {
      "needs_background": "light"
     },
     "output_type": "display_data"
    }
   ],
   "source": [
    "\n",
    "\n",
    "fig = plt.figure(figsize=(18,4))\n",
    "sns.boxplot(df.Price, whis=3)"
   ]
  },
  {
   "cell_type": "code",
   "execution_count": 54,
   "metadata": {},
   "outputs": [
    {
     "name": "stderr",
     "output_type": "stream",
     "text": [
      "c:\\Users\\Yaniv\\anaconda3\\envs\\datascience\\lib\\site-packages\\seaborn\\_decorators.py:36: FutureWarning: Pass the following variables as keyword args: x, y. From version 0.12, the only valid positional argument will be `data`, and passing other arguments without an explicit keyword will result in an error or misinterpretation.\n",
      "  warnings.warn(\n"
     ]
    },
    {
     "data": {
      "text/plain": [
       "<AxesSubplot:xlabel='Price', ylabel='Comments'>"
      ]
     },
     "execution_count": 54,
     "metadata": {},
     "output_type": "execute_result"
    },
    {
     "data": {
      "image/png": "[encoded data removed]",
      "text/plain": [
       "<Figure size 432x288 with 1 Axes>"
      ]
     },
     "metadata": {
      "needs_background": "light"
     },
     "output_type": "display_data"
    }
   ],
   "source": [
    "sns.boxplot(df.Price,df.Comments)"
   ]
  },
  {
   "cell_type": "code",
   "execution_count": 55,
   "metadata": {},
   "outputs": [
    {
     "name": "stderr",
     "output_type": "stream",
     "text": [
      "c:\\Users\\Yaniv\\anaconda3\\envs\\datascience\\lib\\site-packages\\seaborn\\_decorators.py:36: FutureWarning: Pass the following variables as keyword args: x, y. From version 0.12, the only valid positional argument will be `data`, and passing other arguments without an explicit keyword will result in an error or misinterpretation.\n",
      "  warnings.warn(\n"
     ]
    },
    {
     "data": {
      "text/plain": [
       "<AxesSubplot:xlabel='Price', ylabel='Comments'>"
      ]
     },
     "execution_count": 55,
     "metadata": {},
     "output_type": "execute_result"
    },
    {
     "data": {
      "image/png": "[encoded data removed]",
      "text/plain": [
       "<Figure size 432x288 with 1 Axes>"
      ]
     },
     "metadata": {
      "needs_background": "light"
     },
     "output_type": "display_data"
    }
   ],
   "source": [
    "sns.violinplot(df.Price,df.Comments)"
   ]
  }
 ],
 "metadata": {
  "kernelspec": {
   "display_name": "Python 3.8.12",
   "language": "python",
   "name": "python3"
  },
  "language_info": {
   "codemirror_mode": {
    "name": "ipython",
    "version": 3
   },
   "file_extension": ".py",
   "mimetype": "text/x-python",
   "name": "python",
   "nbconvert_exporter": "python",
   "pygments_lexer": "ipython3",
   "version": "3.8.12"
  },
  "orig_nbformat": 4,
  "vscode": {
   "interpreter": {
    "hash": "631f2da9300be9763c746115158d7fda57bb43f84de6a8c2c3474ff6e3fd2b9c"
   }
  }
 },
 "nbformat": 4,
 "nbformat_minor": 2
}
