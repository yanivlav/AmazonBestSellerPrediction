{
 "cells": [
  {
   "cell_type": "code",
   "execution_count": 41,
   "id": "beab1225-fcd1-4013-b210-f35b4c33d3cd",
   "metadata": {},
   "outputs": [
    {
     "name": "stdout",
     "output_type": "stream",
     "text": [
      "https://www.amazon.com/s?k=Amazon Devices  Accessories&crid=38FTQ2MB4WEA&sprefix=laptop%2Caps%2C323&ref=nb_sb_noss_1\n",
      "https://www.amazon.com/s?k=Amazon Launchpad&crid=38FTQ2MB4WEA&sprefix=laptop%2Caps%2C323&ref=nb_sb_noss_1\n",
      "https://www.amazon.com/s?k=Appliances&crid=38FTQ2MB4WEA&sprefix=laptop%2Caps%2C323&ref=nb_sb_noss_1\n",
      "https://www.amazon.com/s?k=Apps  Games&crid=38FTQ2MB4WEA&sprefix=laptop%2Caps%2C323&ref=nb_sb_noss_1\n",
      "https://www.amazon.com/s?k=Arts, Crafts  Sewing&crid=38FTQ2MB4WEA&sprefix=laptop%2Caps%2C323&ref=nb_sb_noss_1\n",
      "https://www.amazon.com/s?k=Audible Books  Originals&crid=38FTQ2MB4WEA&sprefix=laptop%2Caps%2C323&ref=nb_sb_noss_1\n",
      "https://www.amazon.com/s?k=Automotive&crid=38FTQ2MB4WEA&sprefix=laptop%2Caps%2C323&ref=nb_sb_noss_1\n",
      "https://www.amazon.com/s?k=Baby&crid=38FTQ2MB4WEA&sprefix=laptop%2Caps%2C323&ref=nb_sb_noss_1\n",
      "https://www.amazon.com/s?k=Beauty  Personal Care&crid=38FTQ2MB4WEA&sprefix=laptop%2Caps%2C323&ref=nb_sb_noss_1\n",
      "https://www.amazon.com/s?k=Books&crid=38FTQ2MB4WEA&sprefix=laptop%2Caps%2C323&ref=nb_sb_noss_1\n",
      "https://www.amazon.com/s?k=Camera  Photo Products&crid=38FTQ2MB4WEA&sprefix=laptop%2Caps%2C323&ref=nb_sb_noss_1\n",
      "https://www.amazon.com/s?k=CDs  Vinyl&crid=38FTQ2MB4WEA&sprefix=laptop%2Caps%2C323&ref=nb_sb_noss_1\n",
      "https://www.amazon.com/s?k=Cell Phones  Accessories&crid=38FTQ2MB4WEA&sprefix=laptop%2Caps%2C323&ref=nb_sb_noss_1\n",
      "https://www.amazon.com/s?k=Clothing, Shoes  Jewelry&crid=38FTQ2MB4WEA&sprefix=laptop%2Caps%2C323&ref=nb_sb_noss_1\n",
      "https://www.amazon.com/s?k=Collectible Coins&crid=38FTQ2MB4WEA&sprefix=laptop%2Caps%2C323&ref=nb_sb_noss_1\n",
      "https://www.amazon.com/s?k=Computers  Accessories&crid=38FTQ2MB4WEA&sprefix=laptop%2Caps%2C323&ref=nb_sb_noss_1\n",
      "https://www.amazon.com/s?k=Digital Educational Resources&crid=38FTQ2MB4WEA&sprefix=laptop%2Caps%2C323&ref=nb_sb_noss_1\n",
      "https://www.amazon.com/s?k=Digital Music&crid=38FTQ2MB4WEA&sprefix=laptop%2Caps%2C323&ref=nb_sb_noss_1\n",
      "https://www.amazon.com/s?k=Electronics&crid=38FTQ2MB4WEA&sprefix=laptop%2Caps%2C323&ref=nb_sb_noss_1\n",
      "https://www.amazon.com/s?k=Entertainment Collectibles&crid=38FTQ2MB4WEA&sprefix=laptop%2Caps%2C323&ref=nb_sb_noss_1\n",
      "https://www.amazon.com/s?k=Gift Cards&crid=38FTQ2MB4WEA&sprefix=laptop%2Caps%2C323&ref=nb_sb_noss_1\n",
      "https://www.amazon.com/s?k=Grocery  Gourmet Food&crid=38FTQ2MB4WEA&sprefix=laptop%2Caps%2C323&ref=nb_sb_noss_1\n",
      "https://www.amazon.com/s?k=Handmade Products&crid=38FTQ2MB4WEA&sprefix=laptop%2Caps%2C323&ref=nb_sb_noss_1\n",
      "https://www.amazon.com/s?k=Health  Household&crid=38FTQ2MB4WEA&sprefix=laptop%2Caps%2C323&ref=nb_sb_noss_1\n",
      "https://www.amazon.com/s?k=Home  Kitchen&crid=38FTQ2MB4WEA&sprefix=laptop%2Caps%2C323&ref=nb_sb_noss_1\n",
      "https://www.amazon.com/s?k=Industrial  Scientific&crid=38FTQ2MB4WEA&sprefix=laptop%2Caps%2C323&ref=nb_sb_noss_1\n",
      "https://www.amazon.com/s?k=Kindle Store&crid=38FTQ2MB4WEA&sprefix=laptop%2Caps%2C323&ref=nb_sb_noss_1\n",
      "https://www.amazon.com/s?k=Kitchen  Dining&crid=38FTQ2MB4WEA&sprefix=laptop%2Caps%2C323&ref=nb_sb_noss_1\n",
      "https://www.amazon.com/s?k=Magazine Subscriptions&crid=38FTQ2MB4WEA&sprefix=laptop%2Caps%2C323&ref=nb_sb_noss_1\n",
      "https://www.amazon.com/s?k=Movies  TV&crid=38FTQ2MB4WEA&sprefix=laptop%2Caps%2C323&ref=nb_sb_noss_1\n",
      "https://www.amazon.com/s?k=Musical Instruments&crid=38FTQ2MB4WEA&sprefix=laptop%2Caps%2C323&ref=nb_sb_noss_1\n",
      "https://www.amazon.com/s?k=Office Products&crid=38FTQ2MB4WEA&sprefix=laptop%2Caps%2C323&ref=nb_sb_noss_1\n",
      "https://www.amazon.com/s?k=Patio, Lawn  Garden&crid=38FTQ2MB4WEA&sprefix=laptop%2Caps%2C323&ref=nb_sb_noss_1\n",
      "https://www.amazon.com/s?k=Pet Supplies&crid=38FTQ2MB4WEA&sprefix=laptop%2Caps%2C323&ref=nb_sb_noss_1\n",
      "https://www.amazon.com/s?k=Software&crid=38FTQ2MB4WEA&sprefix=laptop%2Caps%2C323&ref=nb_sb_noss_1\n",
      "https://www.amazon.com/s?k=Sports  Outdoors&crid=38FTQ2MB4WEA&sprefix=laptop%2Caps%2C323&ref=nb_sb_noss_1\n",
      "https://www.amazon.com/s?k=Sports Collectibles&crid=38FTQ2MB4WEA&sprefix=laptop%2Caps%2C323&ref=nb_sb_noss_1\n",
      "https://www.amazon.com/s?k=Tools  Home Improvement&crid=38FTQ2MB4WEA&sprefix=laptop%2Caps%2C323&ref=nb_sb_noss_1\n",
      "https://www.amazon.com/s?k=Toys  Games&crid=38FTQ2MB4WEA&sprefix=laptop%2Caps%2C323&ref=nb_sb_noss_1\n",
      "https://www.amazon.com/s?k=Video Games&crid=38FTQ2MB4WEA&sprefix=laptop%2Caps%2C323&ref=nb_sb_noss_1\n"
     ]
    }
   ],
   "source": [
    "from bs4 import BeautifulSoup\n",
    "import pandas as pd\n",
    "import numpy as np\n",
    "import requests\n",
    "import csv\n",
    "\n",
    "from webdriver_manager.chrome import ChromeDriverManager\n",
    "from selenium import webdriver\n",
    "from selenium.webdriver.common.by import By\n",
    "import time\n",
    "\n",
    "\n",
    "URL = 'https://www.amazon.com/Best-Sellers/zgbs'\n",
    "header = {'user-agent': 'Mozilla/5.0 (Windows NT 10.0; Win64; x64) AppleWebKit/537.36 (KHTML, like Gecko) Chrome/102.0.5005.63 Safari/537.36','referer': 'https://www.amazon.com/'}\n",
    "html = requests.get(URL, headers=header)\n",
    "soup = BeautifulSoup(html.content, 'html.parser')\n",
    "category = soup(\"div\", attrs={\n",
    "                'class': '_p13n-zg-nav-tree-all_style_zg-browse-item__1rdKf _p13n-zg-nav-tree-all_style_zg-browse-height-small__nleKL'})\n",
    "\n",
    "\n",
    "categoryNames = list()\n",
    "\n",
    "\n",
    "#categoryURL = list()\n",
    "\n",
    "for name in category:\n",
    "    categoryNames.append(name.get_text())\n",
    "\n",
    "# -----------------------------------------------------------------------------------------------------------------------------------------\n",
    "\n",
    "# template = \"https://www.amazon.com/s?k={q}&crid=SQLSKT8LVCGV&sprefix=%2Caps%2C254&ref=nb_sb_ss_recent_1_0_recent\"\n",
    "template = \"https://www.amazon.com/s?k={q}&crid=38FTQ2MB4WEA&sprefix=laptop%2Caps%2C323&ref=nb_sb_noss_1\"\n",
    "\n",
    "searchTerms = list()\n",
    "\n",
    "for i in categoryNames:\n",
    "    i = i.replace('&', '')\n",
    "    searchTerms.append(i)\n",
    "\n",
    "\n",
    "\n",
    "SearchLinks = list()\n",
    "for i in searchTerms:\n",
    "    SearchLinks.append(template.format(q=i))\n",
    "\n",
    "for i in SearchLinks:\n",
    "    print(i)\n",
    "\n",
    "\n"
   ]
  },
  {
   "cell_type": "code",
   "execution_count": 67,
   "id": "fbdcf446",
   "metadata": {},
   "outputs": [],
   "source": [
    "def getNextPageUrl(TAG):\n",
    "    for i in range(0, len(nextPageTag)):\n",
    "        return nextPageTag[i].get_attribute('href')\n"
   ]
  },
  {
   "cell_type": "code",
   "execution_count": 72,
   "id": "1bec8496",
   "metadata": {},
   "outputs": [
    {
     "name": "stderr",
     "output_type": "stream",
     "text": [
      "\n",
      "\n",
      "====== WebDriver manager ======\n",
      "Current google-chrome version is 102.0.5005\n",
      "Get LATEST chromedriver version for 102.0.5005 google-chrome\n",
      "Driver [C:\\Users\\Yaniv\\.wdm\\drivers\\chromedriver\\win32\\102.0.5005.61\\chromedriver.exe] found in cache\n",
      "C:\\Users\\Yaniv\\AppData\\Local\\Temp/ipykernel_3472/838564664.py:1: DeprecationWarning: executable_path has been deprecated, please pass in a Service object\n",
      "  driver = webdriver.Chrome(ChromeDriverManager().install())\n",
      "C:\\Users\\Yaniv\\AppData\\Local\\Temp/ipykernel_3472/838564664.py:31: DeprecationWarning: find_elements_by_* commands are deprecated. Please use find_elements() instead\n",
      "  nextPageTag = driver.find_elements_by_xpath(\"//a[contains(@class, 's-pagination-next')]\")\n",
      "C:\\Users\\Yaniv\\AppData\\Local\\Temp/ipykernel_3472/838564664.py:36: DeprecationWarning: find_elements_by_* commands are deprecated. Please use find_elements() instead\n",
      "  nextPageTag = driver.find_elements_by_xpath(\"//a[contains(@class, 's-pagination-next')]\")\n"
     ]
    },
    {
     "name": "stdout",
     "output_type": "stream",
     "text": [
      "https://www.amazon.com/s?k=Amazon+Devices+Accessories&page=2&crid=38FTQ2MB4WEA&qid=1655811075&sprefix=laptop%2Caps%2C323&ref=sr_pg_1\n",
      "https://www.amazon.com/s?k=Amazon+Devices+Accessories&page=3&crid=38FTQ2MB4WEA&qid=1655811079&sprefix=laptop%2Caps%2C323&ref=sr_pg_2\n",
      "https://www.amazon.com/s?k=Amazon+Devices+Accessories&page=4&crid=38FTQ2MB4WEA&qid=1655811086&sprefix=laptop%2Caps%2C323&ref=sr_pg_3\n",
      "https://www.amazon.com/s?k=Amazon+Devices+Accessories&page=5&crid=38FTQ2MB4WEA&qid=1655811096&sprefix=laptop%2Caps%2C323&ref=sr_pg_4\n",
      "https://www.amazon.com/s?k=Amazon+Devices+Accessories&page=6&crid=38FTQ2MB4WEA&qid=1655811101&sprefix=laptop%2Caps%2C323&ref=sr_pg_5\n",
      "https://www.amazon.com/s?k=Amazon+Devices+Accessories&page=7&crid=38FTQ2MB4WEA&qid=1655811109&sprefix=laptop%2Caps%2C323&ref=sr_pg_6\n",
      "https://www.amazon.com/s?k=Amazon+Devices+Accessories&page=8&crid=38FTQ2MB4WEA&qid=1655811116&sprefix=laptop%2Caps%2C323&ref=sr_pg_7\n",
      "https://www.amazon.com/s?k=Amazon+Devices+Accessories&page=9&crid=38FTQ2MB4WEA&qid=1655811121&sprefix=laptop%2Caps%2C323&ref=sr_pg_8\n",
      "https://www.amazon.com/s?k=Amazon+Devices+Accessories&page=10&crid=38FTQ2MB4WEA&qid=1655811127&sprefix=laptop%2Caps%2C323&ref=sr_pg_9\n",
      "https://www.amazon.com/s?k=Amazon+Devices+Accessories&page=11&crid=38FTQ2MB4WEA&qid=1655811132&sprefix=laptop%2Caps%2C323&ref=sr_pg_10\n",
      "https://www.amazon.com/s?k=Amazon+Devices+Accessories&page=12&crid=38FTQ2MB4WEA&qid=1655811138&sprefix=laptop%2Caps%2C323&ref=sr_pg_11\n",
      "https://www.amazon.com/s?k=Amazon+Devices+Accessories&page=13&crid=38FTQ2MB4WEA&qid=1655811143&sprefix=laptop%2Caps%2C323&ref=sr_pg_12\n",
      "https://www.amazon.com/s?k=Amazon+Devices+Accessories&page=14&crid=38FTQ2MB4WEA&qid=1655811149&sprefix=laptop%2Caps%2C323&ref=sr_pg_13\n",
      "https://www.amazon.com/s?k=Amazon+Devices+Accessories&page=15&crid=38FTQ2MB4WEA&qid=1655811156&sprefix=laptop%2Caps%2C323&ref=sr_pg_14\n",
      "https://www.amazon.com/s?k=Amazon+Devices+Accessories&page=16&crid=38FTQ2MB4WEA&qid=1655811163&sprefix=laptop%2Caps%2C323&ref=sr_pg_15\n",
      "https://www.amazon.com/s?k=Amazon+Devices+Accessories&page=17&crid=38FTQ2MB4WEA&qid=1655811169&sprefix=laptop%2Caps%2C323&ref=sr_pg_16\n",
      "https://www.amazon.com/s?k=Amazon+Devices+Accessories&page=18&crid=38FTQ2MB4WEA&qid=1655811176&sprefix=laptop%2Caps%2C323&ref=sr_pg_17\n",
      "https://www.amazon.com/s?k=Amazon+Devices+Accessories&page=19&crid=38FTQ2MB4WEA&qid=1655811182&sprefix=laptop%2Caps%2C323&ref=sr_pg_18\n",
      "https://www.amazon.com/s?k=Amazon+Devices+Accessories&page=20&crid=38FTQ2MB4WEA&qid=1655811188&sprefix=laptop%2Caps%2C323&ref=sr_pg_19\n",
      "https://www.amazon.com/s?k=Appliances&page=2&crid=38FTQ2MB4WEA&qid=1655811204&sprefix=laptop%2Caps%2C323&ref=sr_pg_1\n",
      "https://www.amazon.com/s?k=Appliances&page=3&crid=38FTQ2MB4WEA&qid=1655811210&sprefix=laptop%2Caps%2C323&ref=sr_pg_2\n",
      "https://www.amazon.com/s?k=Appliances&page=4&crid=38FTQ2MB4WEA&qid=1655811217&sprefix=laptop%2Caps%2C323&ref=sr_pg_3\n",
      "https://www.amazon.com/s?k=Appliances&page=5&crid=38FTQ2MB4WEA&qid=1655811222&sprefix=laptop%2Caps%2C323&ref=sr_pg_4\n",
      "https://www.amazon.com/s?k=Appliances&page=6&crid=38FTQ2MB4WEA&qid=1655811229&sprefix=laptop%2Caps%2C323&ref=sr_pg_5\n",
      "https://www.amazon.com/s?k=Appliances&page=7&crid=38FTQ2MB4WEA&qid=1655811235&sprefix=laptop%2Caps%2C323&ref=sr_pg_6\n"
     ]
    },
    {
     "ename": "KeyboardInterrupt",
     "evalue": "",
     "output_type": "error",
     "traceback": [
      "\u001b[1;31m---------------------------------------------------------------------------\u001b[0m",
      "\u001b[1;31mKeyboardInterrupt\u001b[0m                         Traceback (most recent call last)",
      "\u001b[1;32m~\\AppData\\Local\\Temp/ipykernel_3472/838564664.py\u001b[0m in \u001b[0;36m<module>\u001b[1;34m\u001b[0m\n\u001b[0;32m     33\u001b[0m         \u001b[0mnextPageUrl\u001b[0m \u001b[1;33m=\u001b[0m \u001b[0mgetNextPageUrl\u001b[0m\u001b[1;33m(\u001b[0m\u001b[0mnextPageTag\u001b[0m\u001b[1;33m)\u001b[0m\u001b[1;33m\u001b[0m\u001b[1;33m\u001b[0m\u001b[0m\n\u001b[0;32m     34\u001b[0m         \u001b[0mdriver\u001b[0m\u001b[1;33m.\u001b[0m\u001b[0mget\u001b[0m\u001b[1;33m(\u001b[0m\u001b[0mnextPageUrl\u001b[0m\u001b[1;33m)\u001b[0m\u001b[1;33m\u001b[0m\u001b[1;33m\u001b[0m\u001b[0m\n\u001b[1;32m---> 35\u001b[1;33m         \u001b[0mtime\u001b[0m\u001b[1;33m.\u001b[0m\u001b[0msleep\u001b[0m\u001b[1;33m(\u001b[0m\u001b[1;36m2\u001b[0m\u001b[1;33m)\u001b[0m\u001b[1;33m\u001b[0m\u001b[1;33m\u001b[0m\u001b[0m\n\u001b[0m\u001b[0;32m     36\u001b[0m         \u001b[0mnextPageTag\u001b[0m \u001b[1;33m=\u001b[0m \u001b[0mdriver\u001b[0m\u001b[1;33m.\u001b[0m\u001b[0mfind_elements_by_xpath\u001b[0m\u001b[1;33m(\u001b[0m\u001b[1;34m\"//a[contains(@class, 's-pagination-next')]\"\u001b[0m\u001b[1;33m)\u001b[0m\u001b[1;33m\u001b[0m\u001b[1;33m\u001b[0m\u001b[0m\n\u001b[0;32m     37\u001b[0m \u001b[1;33m\u001b[0m\u001b[0m\n",
      "\u001b[1;31mKeyboardInterrupt\u001b[0m: "
     ]
    }
   ],
   "source": [
    "driver = webdriver.Chrome(ChromeDriverManager().install())\n",
    "Name = list()\n",
    "Brand = list()  # a id=bylineInfo\n",
    "Rating = list()  # span id=\"acrCustomerReviewText\" /\n",
    "Comments = list()  # a id=askATFLink > span class=\"a-size-base\"\n",
    "#AnswersAmount = list() #\n",
    "# <i class=\"a-icon a-icon-addon p13n-best-seller-badge\">#1 Best Seller</i>\n",
    "BestSeller = list()\n",
    "Price = list()  # has to be from last stage\n",
    "iCategory = list()  # span class=\"ac-keyword-link\"\n",
    "#IsFreeShipping = list()  #\n",
    "Discount = list()  # div class=\"a-section a-spacing-medium tradein-price-block\"\n",
    "AmazonChoice = list()  # span class=\"ac-badge-text-primary ac-white\"\n",
    "Stars = list()  # span id=acrPopover\n",
    "\n",
    "\n",
    "\n",
    "\n",
    "for link in SearchLinks:\n",
    "    driver.get(link)\n",
    "    time.sleep(2)\n",
    "    \n",
    "    # iNames = driver.find_elements_by_xpath(\"//span[contains(@class, 'a-size-medium a-color-base a-text-normal')]\")\n",
    "    # for i in range(0,len(iNames)):\n",
    "    #     Name.append(iNames[i].text)\n",
    "\n",
    "    #all other attr\n",
    "\n",
    "    # get next page url\n",
    "    \n",
    "    nextPageTag = driver.find_elements_by_xpath(\"//a[contains(@class, 's-pagination-next')]\")\n",
    "    while nextPageTag:\n",
    "        nextPageUrl = getNextPageUrl(nextPageTag)\n",
    "        driver.get(nextPageUrl)\n",
    "        time.sleep(2)\n",
    "        nextPageTag = driver.find_elements_by_xpath(\"//a[contains(@class, 's-pagination-next')]\")\n",
    "    \n",
    "        # iNames = driver.find_elements_by_xpath(\n",
    "        #     \"//span[contains(@class, 'a-size-medium a-color-base a-text-normal')]\")\n",
    "        # for i in range(0, len(iNames)):\n",
    "        #     Name.append(iNames[i].text)\n",
    "        print(nextPageUrl)\n",
    "\n",
    "        \n",
    "\n",
    "        \n",
    "\n",
    "\n",
    "\n",
    "\n",
    "\n",
    "print(Name)\n",
    "\n",
    "\n"
   ]
  },
  {
   "cell_type": "code",
   "execution_count": null,
   "id": "dfb1825b-e298-4452-960d-bdeb9871a9a9",
   "metadata": {},
   "outputs": [],
   "source": [
    "\n",
    "    \n",
    "\n"
   ]
  },
  {
   "cell_type": "markdown",
   "id": "f3bcae78",
   "metadata": {},
   "source": []
  },
  {
   "cell_type": "code",
   "execution_count": null,
   "id": "3c24654e-a545-4a9d-bebf-6e5459e96f60",
   "metadata": {},
   "outputs": [
    {
     "ename": "SyntaxError",
     "evalue": "invalid syntax (Temp/ipykernel_3472/754539470.py, line 7)",
     "output_type": "error",
     "traceback": [
      "\u001b[1;36m  File \u001b[1;32m\"C:\\Users\\Yaniv\\AppData\\Local\\Temp/ipykernel_3472/754539470.py\"\u001b[1;36m, line \u001b[1;32m7\u001b[0m\n\u001b[1;33m    items =\u001b[0m\n\u001b[1;37m            ^\u001b[0m\n\u001b[1;31mSyntaxError\u001b[0m\u001b[1;31m:\u001b[0m invalid syntax\n"
     ]
    }
   ],
   "source": [
    "for i in range(1,10):\n",
    "    url = 'https://www.amazon.com' + linkToNextPage[0]\n",
    "    print(url)\n",
    "    response = requests.get(url,headers=user_agent)\n",
    "    soup = BeautifulSoup(response.content, \"html.parser\")\n",
    "    mtag=soup.find(\"span\",attrs={\"class\":\"s-pagination-strip\"})\n",
    "    items = \n",
    "    linkToNextPage = [t['href'] for t in mtag.findAll(\"a\")]\n",
    "    \n",
    "    print(linkToNextPage[0])\n"
   ]
  },
  {
   "cell_type": "code",
   "execution_count": null,
   "id": "b4d255f2-1e3f-41c9-9944-939636ad25f5",
   "metadata": {},
   "outputs": [],
   "source": []
  },
  {
   "cell_type": "code",
   "execution_count": null,
   "id": "8f5632c3",
   "metadata": {},
   "outputs": [],
   "source": []
  },
  {
   "cell_type": "code",
   "execution_count": null,
   "id": "75761900",
   "metadata": {},
   "outputs": [],
   "source": []
  }
 ],
 "metadata": {
  "interpreter": {
   "hash": "631f2da9300be9763c746115158d7fda57bb43f84de6a8c2c3474ff6e3fd2b9c"
  },
  "kernelspec": {
   "display_name": "Python 3.8.12",
   "language": "python",
   "name": "python3"
  },
  "language_info": {
   "codemirror_mode": {
    "name": "ipython",
    "version": 3
   },
   "file_extension": ".py",
   "mimetype": "text/x-python",
   "name": "python",
   "nbconvert_exporter": "python",
   "pygments_lexer": "ipython3",
   "version": "3.8.12"
  }
 },
 "nbformat": 4,
 "nbformat_minor": 5
}
