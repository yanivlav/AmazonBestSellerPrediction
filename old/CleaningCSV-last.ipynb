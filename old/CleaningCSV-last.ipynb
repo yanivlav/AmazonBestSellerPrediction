{
 "cells": [
  {
   "cell_type": "code",
   "execution_count": 68,
   "metadata": {},
   "outputs": [
    {
     "name": "stdout",
     "output_type": "stream",
     "text": [
      "(13134, 8)\n",
      "(5230, 8)\n",
      "(5116, 8)\n"
     ]
    }
   ],
   "source": [
    "from bs4 import BeautifulSoup\n",
    "import pandas as pd\n",
    "import numpy as np\n",
    "import requests\n",
    "import csv\n",
    "\n",
    "df = pd.read_csv(\"Amazon Items Scraped.csv\")\n",
    "print(df.shape)\n",
    "\n",
    "# Remove Corrupted Rows ---------------------------------------------------------------------\n",
    "df = df.dropna(axis = 0, thresh=8)\n",
    "print(df.shape)\n",
    "\n",
    "# Drop Duplicates --------------------------------------------------------------------------\n",
    "df = df.drop_duplicates(subset = None, keep = 'first')\n",
    "print(df.shape)"
   ]
  },
  {
   "cell_type": "code",
   "execution_count": 69,
   "metadata": {},
   "outputs": [],
   "source": [
    "# Function - Delete char in string ---------------------------------------------------------\n",
    "\n",
    "def deleteCharInString(df, c) :\n",
    "    ilist = list()\n",
    "    for i in df :\n",
    "        ilist.append(i.replace(c, ''))\n",
    "    df = ilist\n",
    "    return df"
   ]
  },
  {
   "cell_type": "code",
   "execution_count": 70,
   "metadata": {},
   "outputs": [
    {
     "name": "stdout",
     "output_type": "stream",
     "text": [
      "0                 Amazon\n",
      "4          Amazon Basics\n",
      "5                 Amazon\n",
      "7                 Amazon\n",
      "8                 EDIVIA\n",
      "              ...       \n",
      "12972     American Eagle\n",
      "12991             Amazon\n",
      "13002             Amazon\n",
      "13031             Amazon\n",
      "13117          Frito-Lay\n",
      "Name: Brand, Length: 5116, dtype: object\n"
     ]
    }
   ],
   "source": [
    "# Cleaning the Brand name ------------------------------------------------------------------\n",
    "\n",
    "df.Brand = deleteCharInString(df.Brand, \"Brand:\")\n",
    "df.Brand = deleteCharInString(df.Brand, \"Visit the \")\n",
    "df.Brand = deleteCharInString(df.Brand, \" Store\")\n",
    "\n",
    "print(df.Brand)"
   ]
  },
  {
   "cell_type": "code",
   "execution_count": 71,
   "metadata": {},
   "outputs": [
    {
     "name": "stdout",
     "output_type": "stream",
     "text": [
      "0         64803.0\n",
      "4          7851.0\n",
      "5        145478.0\n",
      "7        117007.0\n",
      "8            82.0\n",
      "           ...   \n",
      "12972      5999.0\n",
      "12991      3950.0\n",
      "13002      7520.0\n",
      "13031      3014.0\n",
      "13117     17706.0\n",
      "Name: Rating, Length: 5116, dtype: float64\n"
     ]
    }
   ],
   "source": [
    "# Cleaning the Ratings ------------------------------------------------------------------\n",
    "\n",
    "df.Rating = deleteCharInString(df.Rating, \" ratings\")\n",
    "df.Rating = deleteCharInString(df.Rating, \" rating\")\n",
    "df.Rating = deleteCharInString(df.Rating, \",\")\n",
    "df[\"Rating\"] = df.Rating.astype(float)\n",
    "print(df.Rating)"
   ]
  },
  {
   "cell_type": "code",
   "execution_count": 72,
   "metadata": {},
   "outputs": [
    {
     "data": {
      "text/plain": [
       "0        4.5\n",
       "4        4.6\n",
       "5        4.0\n",
       "7        4.7\n",
       "8        4.3\n",
       "        ... \n",
       "12972    4.9\n",
       "12991    4.9\n",
       "13002    4.9\n",
       "13031    4.9\n",
       "13117    4.6\n",
       "Name: Stars, Length: 5116, dtype: float64"
      ]
     },
     "execution_count": 72,
     "metadata": {},
     "output_type": "execute_result"
    }
   ],
   "source": [
    "# Cleaning the Stars ------------------------------------------------------------------\n",
    "\n",
    "df.Stars = deleteCharInString(df.Stars, \" out of 5\")\n",
    "\n",
    "ilist = list()\n",
    "for i in df.Stars :\n",
    "    ilist.append(i.replace(\"How confident are you in finding a size that will fit you well?\", '0'))\n",
    "df.Stars = ilist\n",
    "ilist = list()\n",
    "for i in df.Stars :\n",
    "    ilist.append(i.replace(\"|\", '0'))\n",
    "df.Stars = ilist\n",
    "ilist = list()\n",
    "for i in df.Stars :\n",
    "    ilist.append(i.replace(\"confirmed\", '0'))\n",
    "df.Stars = ilist\n",
    "ilist = list()\n",
    "for i in df.Stars :\n",
    "    ilist.append(i.replace(\"4,8 von 5\", '4.8'))\n",
    "df.Stars = ilist\n",
    "\n",
    "df[\"Stars\"] = df.Stars.astype(float)\n",
    "df.loc[df['Stars'] == 0, 'Stars'] = np.nan\n",
    "\n",
    "\n",
    "df.Stars\n",
    "\n"
   ]
  },
  {
   "cell_type": "code",
   "execution_count": 73,
   "metadata": {},
   "outputs": [
    {
     "name": "stdout",
     "output_type": "stream",
     "text": [
      "8         16.99\n",
      "10        13.95\n",
      "12        29.88\n",
      "16        30.40\n",
      "17        14.44\n",
      "          ...  \n",
      "12972     25.00\n",
      "12991    100.00\n",
      "13002     10.00\n",
      "13031     30.00\n",
      "13117     28.00\n",
      "Name: Price, Length: 2799, dtype: float64\n"
     ]
    }
   ],
   "source": [
    "# Cleaning the Price ------------------------------------------------------------------\n",
    "\n",
    "df.Price = deleteCharInString(df.Price, \"$\")\n",
    "df.Price = deleteCharInString(df.Price, \",\")\n",
    "\n",
    "iPrice = list()\n",
    "\n",
    "for i in df.Price :\n",
    "    if i == \"0\" :\n",
    "        iPrice.append(np.nan)\n",
    "    else :\n",
    "        iPrice.append(i)\n",
    "\n",
    "df.Price = iPrice\n",
    "df = df.dropna(axis = 0, thresh=8)\n",
    "df[\"Price\"] = df.Price.astype(float)\n",
    "print(df.Price)"
   ]
  },
  {
   "cell_type": "code",
   "execution_count": 74,
   "metadata": {},
   "outputs": [
    {
     "name": "stdout",
     "output_type": "stream",
     "text": [
      "8           NaN\n",
      "10         28.0\n",
      "12       1000.0\n",
      "16          NaN\n",
      "17        277.0\n",
      "          ...  \n",
      "12972       4.0\n",
      "12991      15.0\n",
      "13002      12.0\n",
      "13031       3.0\n",
      "13117      33.0\n",
      "Name: Comments, Length: 2799, dtype: float64\n"
     ]
    }
   ],
   "source": [
    "# Cleaning the Comments ------------------------------------------------------------------\n",
    "\n",
    "df.Comments = deleteCharInString(df.Comments, \"+\")\n",
    "df.Comments = deleteCharInString(df.Comments, \" answered questions\")\n",
    "df[\"Comments\"] = df.Comments.astype(float)\n",
    "df.loc[df['Comments'] == 0, 'Comments'] = np.nan\n",
    "print(df.Comments)\n"
   ]
  },
  {
   "cell_type": "code",
   "execution_count": 75,
   "metadata": {},
   "outputs": [
    {
     "data": {
      "text/plain": [
       "(1648, 8)"
      ]
     },
     "execution_count": 75,
     "metadata": {},
     "output_type": "execute_result"
    }
   ],
   "source": [
    "# Reset DataFrame Index and delete NaN rows ---------------------------------------------------------------\n",
    "\n",
    "df = df.dropna(axis = 0, thresh=8)\n",
    "df = df.reset_index(drop=True)\n",
    "\n",
    "df.to_csv(\"Amazon Items Cleaned.csv\", index = None)\n",
    "df.shape"
   ]
  }
 ],
 "metadata": {
  "kernelspec": {
   "display_name": "Python 3.9.12 ('base': conda)",
   "language": "python",
   "name": "python3"
  },
  "language_info": {
   "codemirror_mode": {
    "name": "ipython",
    "version": 3
   },
   "file_extension": ".py",
   "mimetype": "text/x-python",
   "name": "python",
   "nbconvert_exporter": "python",
   "pygments_lexer": "ipython3",
   "version": "3.9.12"
  },
  "orig_nbformat": 4,
  "vscode": {
   "interpreter": {
    "hash": "b1033470e0b4c0c47bb671831259dca1bba40f761453c636f88a32d8508b3ea7"
   }
  }
 },
 "nbformat": 4,
 "nbformat_minor": 2
}
