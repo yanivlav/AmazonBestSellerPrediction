{
 "cells": [
  {
   "cell_type": "markdown",
   "id": "71404515",
   "metadata": {},
   "source": [
    "# Amazon has a lot of products and categories, therefore our goal is to predict a best seller item by it's features. \n",
    "\n",
    "# Data Acquisition"
   ]
  },
  {
   "cell_type": "markdown",
   "id": "ca1ba51b",
   "metadata": {},
   "source": [
    "To start collecting the data we will try to get as much data possible from amazon's best sellers page sorted by categories.\n",
    "https://www.amazon.com/Best-Sellers/zgbs\n",
    "\n",
    "The main problem is that each page for category in this url gives only 100 top best sellers per category, we should be able to collect also non-bestsellers so the idea is:\n",
    "1. To get the categories names using bs4 from the link above ^.\n",
    "2. Generate a template of a simple search url for each category name (this way we include also non-bestsellers).\n",
    "3. Using Selenium we iterate all pages per category and collect all item links in page. Storing link to each item in a txt file itemsUrls.txt.\n",
    "4. Reading the itemsUrls.txt.txt iterate each link and by using selenium collecting all the features we can.\n",
    "5. After getting all features in lists we are creating a data frame and exporting it to csv file named 'Amazon Items Scraped.csv'."
   ]
  },
  {
   "cell_type": "markdown",
   "id": "e6457536",
   "metadata": {},
   "source": [
    "Starting with getting the products categories from amazon, making a template url to run on each category."
   ]
  },
  {
   "cell_type": "code",
   "execution_count": null,
   "id": "f76a00ca",
   "metadata": {},
   "outputs": [
    {
     "name": "stdout",
     "output_type": "stream",
     "text": [
      "https://www.amazon.com/s?k=Amazon Devices  Accessories&crid=38FTQ2MB4WEA&sprefix=laptop%2Caps%2C323&ref=nb_sb_noss_1\n",
      "https://www.amazon.com/s?k=Amazon Launchpad&crid=38FTQ2MB4WEA&sprefix=laptop%2Caps%2C323&ref=nb_sb_noss_1\n",
      "https://www.amazon.com/s?k=Appliances&crid=38FTQ2MB4WEA&sprefix=laptop%2Caps%2C323&ref=nb_sb_noss_1\n",
      "https://www.amazon.com/s?k=Apps  Games&crid=38FTQ2MB4WEA&sprefix=laptop%2Caps%2C323&ref=nb_sb_noss_1\n",
      "https://www.amazon.com/s?k=Arts, Crafts  Sewing&crid=38FTQ2MB4WEA&sprefix=laptop%2Caps%2C323&ref=nb_sb_noss_1\n",
      "https://www.amazon.com/s?k=Audible Books  Originals&crid=38FTQ2MB4WEA&sprefix=laptop%2Caps%2C323&ref=nb_sb_noss_1\n",
      "https://www.amazon.com/s?k=Automotive&crid=38FTQ2MB4WEA&sprefix=laptop%2Caps%2C323&ref=nb_sb_noss_1\n",
      "https://www.amazon.com/s?k=Baby&crid=38FTQ2MB4WEA&sprefix=laptop%2Caps%2C323&ref=nb_sb_noss_1\n",
      "https://www.amazon.com/s?k=Beauty  Personal Care&crid=38FTQ2MB4WEA&sprefix=laptop%2Caps%2C323&ref=nb_sb_noss_1\n",
      "https://www.amazon.com/s?k=Books&crid=38FTQ2MB4WEA&sprefix=laptop%2Caps%2C323&ref=nb_sb_noss_1\n",
      "https://www.amazon.com/s?k=Camera  Photo Products&crid=38FTQ2MB4WEA&sprefix=laptop%2Caps%2C323&ref=nb_sb_noss_1\n",
      "https://www.amazon.com/s?k=CDs  Vinyl&crid=38FTQ2MB4WEA&sprefix=laptop%2Caps%2C323&ref=nb_sb_noss_1\n",
      "https://www.amazon.com/s?k=Cell Phones  Accessories&crid=38FTQ2MB4WEA&sprefix=laptop%2Caps%2C323&ref=nb_sb_noss_1\n",
      "https://www.amazon.com/s?k=Clothing, Shoes  Jewelry&crid=38FTQ2MB4WEA&sprefix=laptop%2Caps%2C323&ref=nb_sb_noss_1\n",
      "https://www.amazon.com/s?k=Collectible Coins&crid=38FTQ2MB4WEA&sprefix=laptop%2Caps%2C323&ref=nb_sb_noss_1\n",
      "https://www.amazon.com/s?k=Computers  Accessories&crid=38FTQ2MB4WEA&sprefix=laptop%2Caps%2C323&ref=nb_sb_noss_1\n",
      "https://www.amazon.com/s?k=Digital Educational Resources&crid=38FTQ2MB4WEA&sprefix=laptop%2Caps%2C323&ref=nb_sb_noss_1\n",
      "https://www.amazon.com/s?k=Digital Music&crid=38FTQ2MB4WEA&sprefix=laptop%2Caps%2C323&ref=nb_sb_noss_1\n",
      "https://www.amazon.com/s?k=Electronics&crid=38FTQ2MB4WEA&sprefix=laptop%2Caps%2C323&ref=nb_sb_noss_1\n",
      "https://www.amazon.com/s?k=Entertainment Collectibles&crid=38FTQ2MB4WEA&sprefix=laptop%2Caps%2C323&ref=nb_sb_noss_1\n",
      "https://www.amazon.com/s?k=Gift Cards&crid=38FTQ2MB4WEA&sprefix=laptop%2Caps%2C323&ref=nb_sb_noss_1\n",
      "https://www.amazon.com/s?k=Grocery  Gourmet Food&crid=38FTQ2MB4WEA&sprefix=laptop%2Caps%2C323&ref=nb_sb_noss_1\n",
      "https://www.amazon.com/s?k=Handmade Products&crid=38FTQ2MB4WEA&sprefix=laptop%2Caps%2C323&ref=nb_sb_noss_1\n",
      "https://www.amazon.com/s?k=Health  Household&crid=38FTQ2MB4WEA&sprefix=laptop%2Caps%2C323&ref=nb_sb_noss_1\n",
      "https://www.amazon.com/s?k=Home  Kitchen&crid=38FTQ2MB4WEA&sprefix=laptop%2Caps%2C323&ref=nb_sb_noss_1\n",
      "https://www.amazon.com/s?k=Industrial  Scientific&crid=38FTQ2MB4WEA&sprefix=laptop%2Caps%2C323&ref=nb_sb_noss_1\n",
      "https://www.amazon.com/s?k=Kindle Store&crid=38FTQ2MB4WEA&sprefix=laptop%2Caps%2C323&ref=nb_sb_noss_1\n",
      "https://www.amazon.com/s?k=Kitchen  Dining&crid=38FTQ2MB4WEA&sprefix=laptop%2Caps%2C323&ref=nb_sb_noss_1\n",
      "https://www.amazon.com/s?k=Magazine Subscriptions&crid=38FTQ2MB4WEA&sprefix=laptop%2Caps%2C323&ref=nb_sb_noss_1\n",
      "https://www.amazon.com/s?k=Movies  TV&crid=38FTQ2MB4WEA&sprefix=laptop%2Caps%2C323&ref=nb_sb_noss_1\n",
      "https://www.amazon.com/s?k=Musical Instruments&crid=38FTQ2MB4WEA&sprefix=laptop%2Caps%2C323&ref=nb_sb_noss_1\n",
      "https://www.amazon.com/s?k=Office Products&crid=38FTQ2MB4WEA&sprefix=laptop%2Caps%2C323&ref=nb_sb_noss_1\n",
      "https://www.amazon.com/s?k=Patio, Lawn  Garden&crid=38FTQ2MB4WEA&sprefix=laptop%2Caps%2C323&ref=nb_sb_noss_1\n",
      "https://www.amazon.com/s?k=Pet Supplies&crid=38FTQ2MB4WEA&sprefix=laptop%2Caps%2C323&ref=nb_sb_noss_1\n",
      "https://www.amazon.com/s?k=Software&crid=38FTQ2MB4WEA&sprefix=laptop%2Caps%2C323&ref=nb_sb_noss_1\n",
      "https://www.amazon.com/s?k=Sports  Outdoors&crid=38FTQ2MB4WEA&sprefix=laptop%2Caps%2C323&ref=nb_sb_noss_1\n",
      "https://www.amazon.com/s?k=Sports Collectibles&crid=38FTQ2MB4WEA&sprefix=laptop%2Caps%2C323&ref=nb_sb_noss_1\n",
      "https://www.amazon.com/s?k=Tools  Home Improvement&crid=38FTQ2MB4WEA&sprefix=laptop%2Caps%2C323&ref=nb_sb_noss_1\n",
      "https://www.amazon.com/s?k=Toys  Games&crid=38FTQ2MB4WEA&sprefix=laptop%2Caps%2C323&ref=nb_sb_noss_1\n",
      "https://www.amazon.com/s?k=Video Games&crid=38FTQ2MB4WEA&sprefix=laptop%2Caps%2C323&ref=nb_sb_noss_1\n"
     ]
    }
   ],
   "source": [
    "from bs4 import BeautifulSoup\n",
    "import pandas as pd\n",
    "import numpy as np\n",
    "import requests\n",
    "import csv\n",
    "\n",
    "from webdriver_manager.chrome import ChromeDriverManager\n",
    "from selenium import webdriver\n",
    "from selenium.webdriver.common.by import By\n",
    "import time\n",
    "\n",
    "\n",
    "URL = 'https://www.amazon.com/Best-Sellers/zgbs'\n",
    "header = {'user-agent': 'Mozilla/5.0 (Windows NT 10.0; Win64; x64) AppleWebKit/537.36 (KHTML, like Gecko) Chrome/102.0.5005.63 Safari/537.36','referer': 'https://www.amazon.com/'}\n",
    "html = requests.get(URL, headers=header)\n",
    "soup = BeautifulSoup(html.content, 'html.parser')\n",
    "category = soup(\"div\", attrs={\n",
    "                'class': '_p13n-zg-nav-tree-all_style_zg-browse-item__1rdKf _p13n-zg-nav-tree-all_style_zg-browse-height-small__nleKL'})\n",
    "\n",
    "\n",
    "categoryNames = list()\n",
    "\n",
    "\n",
    "#categoryURL = list()\n",
    "\n",
    "for name in category:\n",
    "    categoryNames.append(name.get_text())\n",
    "\n",
    "\n",
    "# -----------------------------------------------------------------------------------------------------------------------------------------\n",
    "\n",
    "# template = \"https://www.amazon.com/s?k={q}&crid=SQLSKT8LVCGV&sprefix=%2Caps%2C254&ref=nb_sb_ss_recent_1_0_recent\"\n",
    "template = \"https://www.amazon.com/s?k={q}&crid=38FTQ2MB4WEA&sprefix=laptop%2Caps%2C323&ref=nb_sb_noss_1\"\n",
    "\n",
    "searchTerms = list()\n",
    "\n",
    "for i in categoryNames:\n",
    "    i = i.replace('&', '')\n",
    "    searchTerms.append(i)\n",
    "\n",
    "\n",
    "\n",
    "SearchLinks = list()\n",
    "for i in searchTerms: #we are getting blocked for to many requests so we did it in 2 steps [:29] - [29:]\n",
    "    SearchLinks.append(template.format(q=i))\n",
    "\n",
    "for i in SearchLinks:\n",
    "    print(i)\n",
    "\n",
    "\n"
   ]
  },
  {
   "cell_type": "markdown",
   "id": "4f7d48e5",
   "metadata": {},
   "source": [
    "From now on we are going to use Selenium to extract our data due to blockings we've got trying to pull all data at once.\n",
    "\n",
    "Starting with writing a few helpful functions to extract the actual text for features from a web object that is returned by the find_elements Selenium's method."
   ]
  },
  {
   "cell_type": "code",
   "execution_count": null,
   "id": "fbdcf446",
   "metadata": {},
   "outputs": [],
   "source": [
    "#selenium web object extraction get text\n",
    "\n",
    "def getNextPageUrl(nextPageTag):#TAG\n",
    "    for i in range(0, len(nextPageTag)):\n",
    "        return nextPageTag[i].get_attribute('href')\n",
    "\n",
    "def getItemText(obj):\n",
    "    for i in range(0, len(obj)):\n",
    "        return obj[i].text\n",
    "\n",
    "\n",
    "def getItemLink(obj):\n",
    "    for i in range(0, len(obj)):\n",
    "        return obj[i].get_attribute('href')"
   ]
  },
  {
   "cell_type": "markdown",
   "id": "5226e420",
   "metadata": {},
   "source": [
    "After we got the urls for each category we iterate the pages in each category and collecting the url for each product."
   ]
  },
  {
   "cell_type": "code",
   "execution_count": null,
   "id": "1bec8496",
   "metadata": {},
   "outputs": [],
   "source": [
    "\n",
    "#opens a webdriver \n",
    "driver = webdriver.Chrome(ChromeDriverManager().install())\n",
    "\n",
    "# used for getting items' urls in each category link (SearchLinks) from previous stage\n",
    "itemsLinks = list()\n",
    "\n",
    "for link in SearchLinks:\n",
    "    driver.get(link)\n",
    "    time.sleep(2)\n",
    "    \n",
    "    #link tag of each item\n",
    "    LinkTag = driver.find_elements_by_xpath(\"//a[contains(@class, 'a-link-normal s-underline-text s-underline-link-text s-link-style a-text-normal')]\")\n",
    "    # itemsLinks.append(getItemLink(LinkTag))\n",
    "    for i in range(0, len(LinkTag)):\n",
    "        itemsLinks.append(LinkTag[i].get_attribute('href'))\n",
    "\n",
    "    # get next page url\n",
    "    nextPageTag = driver.find_elements_by_xpath(\"//a[contains(@class, 's-pagination-next')]\")\n",
    "    while nextPageTag:\n",
    "        nextPageUrl = getNextPageUrl(nextPageTag)\n",
    "        driver.get(nextPageUrl)\n",
    "        time.sleep(2)\n",
    "        nextPageTag = driver.find_elements_by_xpath(\"//a[contains(@class, 's-pagination-next')]\")\n",
    "        LinkTag = driver.find_elements_by_xpath(\"//a[contains(@class, 'a-link-normal s-underline-text s-underline-link-text s-link-style a-text-normal')]\")\n",
    "        # itemsLinks.append(getItemLink(LinkTag))\n",
    "        for i in range(0, len(LinkTag)):\n",
    "            itemsLinks.append(LinkTag[i].get_attribute('href'))\n",
    "\n"
   ]
  },
  {
   "cell_type": "markdown",
   "id": "d323dd86",
   "metadata": {},
   "source": [
    "Writing each item link to a file itemsUrls.txt."
   ]
  },
  {
   "cell_type": "code",
   "execution_count": null,
   "id": "dfb1825b-e298-4452-960d-bdeb9871a9a9",
   "metadata": {},
   "outputs": [
    {
     "name": "stdout",
     "output_type": "stream",
     "text": [
      "Done copying urls to a file\n",
      "Total links after removing duplicates 3972\n"
     ]
    }
   ],
   "source": [
    "\n",
    "#writes the items urls to file_name.txt\n",
    "with open('itemsUrls.txt', 'w') as f:\n",
    "    for i in itemsLinks:\n",
    "            # write each item on a new line\n",
    "        f.write(\"%s\\n\" % i)\n",
    "    print('Done copying urls to a file')"
   ]
  },
  {
   "cell_type": "markdown",
   "id": "2c29fdba",
   "metadata": {},
   "source": [
    "Now let's remove duplicates in itemsUrls.txt and start pulling our data foreach product."
   ]
  },
  {
   "cell_type": "code",
   "execution_count": null,
   "id": "1cdcc0d8",
   "metadata": {},
   "outputs": [],
   "source": [
    "#removing duplicates\n",
    "itemsLinks = list(dict.fromkeys(itemsLinks))\n",
    "# print(len(list(dict.fromkeys(itemsLinks))))\n",
    "print('Total links after removing duplicates ' + str(len(itemsLinks)))\n"
   ]
  },
  {
   "cell_type": "markdown",
   "id": "a98d9d87",
   "metadata": {},
   "source": [
    "Opening the itemsUrls.txt file and collecting the features for each item url in file."
   ]
  },
  {
   "cell_type": "code",
   "execution_count": null,
   "id": "3c24654e-a545-4a9d-bebf-6e5459e96f60",
   "metadata": {},
   "outputs": [],
   "source": [
    "# from bs4 import BeautifulSoup\n",
    "import pandas as pd\n",
    "import numpy as np\n",
    "# import requests\n",
    "import csv\n",
    "import warnings\n",
    "from webdriver_manager.chrome import ChromeDriverManager\n",
    "from selenium import webdriver\n",
    "from selenium.webdriver.common.by import By\n",
    "import time\n",
    "warnings.filterwarnings('ignore')\n",
    "\n",
    "#go to each item in itemsUrls file and get it's fields , inserting to lists and making a dataframe\n",
    "\n",
    "driver = webdriver.Chrome(ChromeDriverManager().install())\n",
    "#opens the url file\n",
    "with open(\"itemsUrls.txt\") as file:\n",
    "    lines = file.readlines()\n",
    "    lines = [line.rstrip() for line in lines]\n",
    "\n",
    "# lines = itemsLinks\n",
    "\n",
    "Name = list()\n",
    "Brand = list()  # a id=bylineInfo\n",
    "Rating = list()  # span id=\"acrCustomerReviewText\" /\n",
    "Comments = list()  # a id=askATFLink > span class=\"a-size-base\"\n",
    "#AnswersAmount = list() #\n",
    "# <i class=\"a-icon a-icon-addon p13n-best-seller-badge\">#1 Best Seller</i>\n",
    "BestSeller = list()\n",
    "Price = list()  # has to be from last stage\n",
    "# iCategory = list()  # span class=\"ac-keyword-link\"\n",
    "#IsFreeShipping = list()  #\n",
    "Discount = list()  # div class=\"a-section a-spacing-medium tradein-price-block\"\n",
    "AmazonChoice = list()  # span class=\"ac-badge-text-primary ac-white\"\n",
    "Stars = list()  # span id=acrPopover\n",
    "\n",
    "filename = 'items.csv'\n",
    "#run for each item's url and collect the data\n",
    "\n",
    "for line in lines[1255:]:#for line in lines[-10700:-5000]:\n",
    "    driver.get(line)\n",
    "    \n",
    "    iNames = driver.find_elements_by_xpath(\"//span[contains(@id, 'productTitle')]\") \n",
    "    if iNames:\n",
    "        Name.append(getItemText(iNames))\n",
    "    else:\n",
    "        iNames = 'NaN'\n",
    "        Name.append(iNames)\n",
    "\n",
    "    iBrand = driver.find_elements_by_xpath(\"//a[contains(@id, 'bylineInfo')]\")\n",
    "    if iBrand:\n",
    "        Brand.append(getItemText(iBrand))\n",
    "    else:\n",
    "        iBrand = 'NaN'\n",
    "        Brand.append(iBrand)\n",
    "\n",
    "    iRating = driver.find_elements_by_xpath(\"//span[contains(@id, 'acrCustomerReviewText')]\")\n",
    "    if iRating:\n",
    "        Rating.append(getItemText(iRating))\n",
    "    else:\n",
    "        iRating = 'NaN'\n",
    "        Rating.append(iRating)\n",
    "\n",
    "    iBestSeller = driver.find_elements_by_xpath(\"//i[contains(@class, 'a-icon a-icon-addon p13n-best-seller-badge')]\")\n",
    "    if iBestSeller:\n",
    "        BestSeller.append(1)\n",
    "    else:\n",
    "        \n",
    "        BestSeller.append(0)\n",
    "\n",
    "    iAmazonChoice = driver.find_elements_by_xpath(\"//span[contains(@class, 'ac-badge-text-primary ac-white')]\")\n",
    "    if iAmazonChoice:\n",
    "        AmazonChoice.append(1)\n",
    "    else:\n",
    "        AmazonChoice.append(0)\n",
    "\n",
    "    iComments = driver.find_elements_by_xpath(\"//a[contains(@id, 'askATFLink')]\")\n",
    "    if iComments:\n",
    "        Comments.append(getItemText(iComments))\n",
    "    else:\n",
    "        iComments = 'NaN'\n",
    "        Comments.append(iComments)\n",
    "\n",
    "    iPrice = driver.find_elements_by_xpath(\"//span[contains(@class, 'a-price a-text-price a-size-medium apexPriceToPay')]\")\n",
    "    if iPrice:\n",
    "        Price.append(getItemText(iPrice))\n",
    "    else:\n",
    "        Price.append('NaN')\n",
    "\n",
    "    iStars = driver.find_elements_by_xpath(\"//span[contains(@class, 'a-size-medium a-color-base')]\")\n",
    "    if iStars:\n",
    "        Stars.append(getItemText(iStars))\n",
    "    else:\n",
    "        iStars = 'NaN'\n",
    "        Stars.append(iStars)"
   ]
  },
  {
   "cell_type": "markdown",
   "id": "050ccd52",
   "metadata": {},
   "source": [
    "Some checkings after pulling the features for items and exporting our new dataframe to a csv file."
   ]
  },
  {
   "cell_type": "code",
   "execution_count": null,
   "id": "b4d255f2-1e3f-41c9-9944-939636ad25f5",
   "metadata": {},
   "outputs": [
    {
     "name": "stdout",
     "output_type": "stream",
     "text": [
      "7120\n",
      "7120\n",
      "7120\n",
      "7120\n",
      "7120\n",
      "7120\n",
      "7120\n",
      "7120\n"
     ]
    }
   ],
   "source": [
    "print(len(Name))\n",
    "print(len(Brand))\n",
    "print(len(Rating))\n",
    "print(len(BestSeller))\n",
    "print(len(AmazonChoice))\n",
    "print(len(Comments))\n",
    "print(len(Price))\n",
    "print(len(Stars))"
   ]
  },
  {
   "cell_type": "code",
   "execution_count": null,
   "id": "8f5632c3",
   "metadata": {},
   "outputs": [],
   "source": [
    "rows = list()\n",
    "\n",
    "df = pd.DataFrame({'Name': Name, 'Brand': Brand, 'Rating': Rating, 'BestSeller': BestSeller,\n",
    "                  'AmazonChoice': AmazonChoice, 'Comments': Comments, 'Price': Price, 'Stars': Stars})\n",
    "\n",
    "df.to_csv('Amazon Items Scraped.csv', index=False)"
   ]
  },
  {
   "cell_type": "code",
   "execution_count": null,
   "id": "30a30280",
   "metadata": {},
   "outputs": [],
   "source": [
    "# for i in rows:\n",
    "#     print(i)\n",
    "\n",
    "# with open('2380_dataFrame_new.csv', 'w') as f:\n",
    "#     # f.write(Details)\n",
    "#     for i in rows:\n",
    "#         f.write(i)"
   ]
  },
  {
   "cell_type": "markdown",
   "metadata": {},
   "source": [
    "# Data Handling\n",
    "\n",
    "Loading the dataset from the csv, removing duplicates and corrupted values."
   ]
  },
  {
   "cell_type": "code",
   "execution_count": null,
   "metadata": {},
   "outputs": [
    {
     "name": "stdout",
     "output_type": "stream",
     "text": [
      "Shape before cleaning: (13134, 8)\n",
      "Shape after removing corrupted: (5230, 8)\n",
      "Shape after removing duplicates: (5116, 8)\n"
     ]
    }
   ],
   "source": [
    "from bs4 import BeautifulSoup\n",
    "import pandas as pd\n",
    "import numpy as np\n",
    "import requests\n",
    "import csv\n",
    "\n",
    "df = pd.read_csv(\"Amazon Items Scraped.csv\")\n",
    "print('Shape before cleaning: ' + str(df.shape))\n",
    "\n",
    "# Remove Corrupted Rows ---------------------------------------------------------------------\n",
    "df = df.dropna(axis = 0, thresh=8)\n",
    "print('Shape after removing corrupted: ' + str(df.shape))\n",
    "\n",
    "# Drop Duplicates --------------------------------------------------------------------------\n",
    "df = df.drop_duplicates(subset = None, keep = 'first')\n",
    "print('Shape after removing duplicates: ' + str(df.shape))\n"
   ]
  },
  {
   "cell_type": "markdown",
   "metadata": {},
   "source": [
    "Cleaning and normalizing the data\n",
    "\n",
    "The data we've got has non-informational data so we have to clean each feature to fit our needs. (For example: for the 'Price' field we have to remove the $)."
   ]
  },
  {
   "cell_type": "code",
   "execution_count": null,
   "metadata": {},
   "outputs": [],
   "source": [
    "# Function - Delete char in string ---------------------------------------------------------\n",
    "\n",
    "def deleteCharInString(df, c) :\n",
    "    ilist = list()\n",
    "    for i in df :\n",
    "        ilist.append(i.replace(c, ''))\n",
    "    df = ilist\n",
    "    return df"
   ]
  },
  {
   "cell_type": "code",
   "execution_count": null,
   "metadata": {},
   "outputs": [
    {
     "name": "stdout",
     "output_type": "stream",
     "text": [
      "0                 Amazon\n",
      "4          Amazon Basics\n",
      "5                 Amazon\n",
      "7                 Amazon\n",
      "8                 EDIVIA\n",
      "              ...       \n",
      "12972     American Eagle\n",
      "12991             Amazon\n",
      "13002             Amazon\n",
      "13031             Amazon\n",
      "13117          Frito-Lay\n",
      "Name: Brand, Length: 3454, dtype: object\n"
     ]
    }
   ],
   "source": [
    "# Cleaning the Brand name ------------------------------------------------------------------\n",
    "\n",
    "df.Brand = deleteCharInString(df.Brand, \"Brand:\")\n",
    "df.Brand = deleteCharInString(df.Brand, \"Visit the \")\n",
    "df.Brand = deleteCharInString(df.Brand, \" Store\")\n",
    "\n",
    "iBrand = list()\n",
    "for i in df.Brand :\n",
    "    if i == \"0\" :\n",
    "        iBrand.append(np.nan)\n",
    "    else :\n",
    "        iBrand.append(i)\n",
    "\n",
    "df.Brand = iBrand\n",
    "df = df.dropna(axis = 0, thresh=8)\n",
    "\n",
    "print(df.Brand)"
   ]
  },
  {
   "cell_type": "code",
   "execution_count": null,
   "metadata": {},
   "outputs": [
    {
     "name": "stdout",
     "output_type": "stream",
     "text": [
      "0         64803.0\n",
      "4          7851.0\n",
      "5        145478.0\n",
      "7        117007.0\n",
      "8            82.0\n",
      "           ...   \n",
      "12972      5999.0\n",
      "12991      3950.0\n",
      "13002      7520.0\n",
      "13031      3014.0\n",
      "13117     17706.0\n",
      "Name: Rating, Length: 3454, dtype: float64\n"
     ]
    }
   ],
   "source": [
    "# Cleaning the Ratings ------------------------------------------------------------------\n",
    "\n",
    "df.Rating = deleteCharInString(df.Rating, \" ratings\")\n",
    "df.Rating = deleteCharInString(df.Rating, \" rating\")\n",
    "df.Rating = deleteCharInString(df.Rating, \",\")\n",
    "df[\"Rating\"] = df.Rating.astype(float)\n",
    "print(df.Rating)"
   ]
  },
  {
   "cell_type": "code",
   "execution_count": null,
   "metadata": {},
   "outputs": [
    {
     "data": {
      "text/plain": [
       "0        4.5\n",
       "4        4.6\n",
       "5        4.0\n",
       "7        4.7\n",
       "8        4.3\n",
       "        ... \n",
       "12972    4.9\n",
       "12991    4.9\n",
       "13002    4.9\n",
       "13031    4.9\n",
       "13117    4.6\n",
       "Name: Stars, Length: 3454, dtype: float64"
      ]
     },
     "metadata": {},
     "output_type": "display_data"
    }
   ],
   "source": [
    "# Cleaning the Stars ------------------------------------------------------------------\n",
    "\n",
    "df.Stars = deleteCharInString(df.Stars, \" out of 5\")\n",
    "\n",
    "ilist = list()\n",
    "for i in df.Stars :\n",
    "    ilist.append(i.replace(\"How confident are you in finding a size that will fit you well?\", '0'))\n",
    "df.Stars = ilist\n",
    "ilist = list()\n",
    "for i in df.Stars :\n",
    "    ilist.append(i.replace(\"|\", '0'))\n",
    "df.Stars = ilist\n",
    "ilist = list()\n",
    "for i in df.Stars :\n",
    "    ilist.append(i.replace(\"confirmed\", '0'))\n",
    "df.Stars = ilist\n",
    "ilist = list()\n",
    "for i in df.Stars :\n",
    "    ilist.append(i.replace(\"4,8 von 5\", '4.8'))\n",
    "df.Stars = ilist\n",
    "\n",
    "df[\"Stars\"] = df.Stars.astype(float)\n",
    "df.loc[df['Stars'] == 0, 'Stars'] = np.nan\n",
    "\n",
    "\n",
    "df.Stars\n",
    "\n"
   ]
  },
  {
   "cell_type": "code",
   "execution_count": null,
   "metadata": {},
   "outputs": [
    {
     "name": "stdout",
     "output_type": "stream",
     "text": [
      "8         16.99\n",
      "10        13.95\n",
      "12        29.88\n",
      "16        30.40\n",
      "17        14.44\n",
      "          ...  \n",
      "12972     25.00\n",
      "12991    100.00\n",
      "13002     10.00\n",
      "13031     30.00\n",
      "13117     28.00\n",
      "Name: Price, Length: 2706, dtype: float64\n"
     ]
    }
   ],
   "source": [
    "# Cleaning the Price ------------------------------------------------------------------\n",
    "\n",
    "df.Price = deleteCharInString(df.Price, \"$\")\n",
    "df.Price = deleteCharInString(df.Price, \",\")\n",
    "\n",
    "iPrice = list()\n",
    "\n",
    "for i in df.Price :\n",
    "    if i == \"0\" :\n",
    "        iPrice.append(np.nan)\n",
    "    else :\n",
    "        iPrice.append(i)\n",
    "\n",
    "df.Price = iPrice\n",
    "df = df.dropna(axis = 0, thresh=8)\n",
    "df[\"Price\"] = df.Price.astype(float)\n",
    "print(df.Price)"
   ]
  },
  {
   "cell_type": "code",
   "execution_count": null,
   "metadata": {},
   "outputs": [
    {
     "name": "stdout",
     "output_type": "stream",
     "text": [
      "8           NaN\n",
      "10         28.0\n",
      "12       1000.0\n",
      "16          NaN\n",
      "17        277.0\n",
      "          ...  \n",
      "12972       4.0\n",
      "12991      15.0\n",
      "13002      12.0\n",
      "13031       3.0\n",
      "13117      33.0\n",
      "Name: Comments, Length: 2706, dtype: float64\n"
     ]
    }
   ],
   "source": [
    "# Cleaning the Comments ------------------------------------------------------------------\n",
    "\n",
    "df.Comments = deleteCharInString(df.Comments, \"+\")\n",
    "df.Comments = deleteCharInString(df.Comments, \" answered questions\")\n",
    "df[\"Comments\"] = df.Comments.astype(float)\n",
    "df.loc[df['Comments'] == 0, 'Comments'] = np.nan\n",
    "print(df.Comments)\n"
   ]
  },
  {
   "cell_type": "markdown",
   "metadata": {},
   "source": [
    "Creating a cleaned csv file 'Amazon Items Cleaned.csv'"
   ]
  },
  {
   "cell_type": "code",
   "execution_count": null,
   "metadata": {},
   "outputs": [
    {
     "data": {
      "text/plain": [
       "(1636, 8)"
      ]
     },
     "metadata": {},
     "output_type": "display_data"
    }
   ],
   "source": [
    "# Reset DataFrame Index and delete NaN rows ---------------------------------------------------------------\n",
    "\n",
    "df = df.dropna(axis = 0, thresh=8)\n",
    "df = df.reset_index(drop=True)\n",
    "\n",
    "df.to_csv(\"Amazon Items Cleaned.csv\", index = None)\n",
    "df.shape"
   ]
  },
  {
   "cell_type": "markdown",
   "metadata": {},
   "source": [
    "# Exploratory Data Analysis"
   ]
  },
  {
   "cell_type": "markdown",
   "metadata": {},
   "source": [
    "In this section we will get familiar with our extracted cleaned data and try to visualize some useful information.\n",
    "\n",
    "Starting with using shape to get rows cols length and looking at the actual data frame."
   ]
  },
  {
   "cell_type": "code",
   "execution_count": 2,
   "metadata": {},
   "outputs": [
    {
     "name": "stdout",
     "output_type": "stream",
     "text": [
      "(1636, 8)\n"
     ]
    },
    {
     "data": {
      "text/html": [
       "<div>\n",
       "<style scoped>\n",
       "    .dataframe tbody tr th:only-of-type {\n",
       "        vertical-align: middle;\n",
       "    }\n",
       "\n",
       "    .dataframe tbody tr th {\n",
       "        vertical-align: top;\n",
       "    }\n",
       "\n",
       "    .dataframe thead th {\n",
       "        text-align: right;\n",
       "    }\n",
       "</style>\n",
       "<table border=\"1\" class=\"dataframe\">\n",
       "  <thead>\n",
       "    <tr style=\"text-align: right;\">\n",
       "      <th></th>\n",
       "      <th>Name</th>\n",
       "      <th>Brand</th>\n",
       "      <th>Rating</th>\n",
       "      <th>BestSeller</th>\n",
       "      <th>AmazonChoice</th>\n",
       "      <th>Comments</th>\n",
       "      <th>Price</th>\n",
       "      <th>Stars</th>\n",
       "    </tr>\n",
       "  </thead>\n",
       "  <tbody>\n",
       "    <tr>\n",
       "      <th>0</th>\n",
       "      <td>NOCO NUSB211NA 10W USB Power Adapter, 2.1A 5V ...</td>\n",
       "      <td>NOCO</td>\n",
       "      <td>3869.0</td>\n",
       "      <td>0</td>\n",
       "      <td>0</td>\n",
       "      <td>28.0</td>\n",
       "      <td>13.95</td>\n",
       "      <td>4.7</td>\n",
       "    </tr>\n",
       "    <tr>\n",
       "      <th>1</th>\n",
       "      <td>Amazfit Band 5 Activity Fitness Tracker with A...</td>\n",
       "      <td>Amazfit</td>\n",
       "      <td>21158.0</td>\n",
       "      <td>0</td>\n",
       "      <td>0</td>\n",
       "      <td>1000.0</td>\n",
       "      <td>29.88</td>\n",
       "      <td>4.1</td>\n",
       "    </tr>\n",
       "    <tr>\n",
       "      <th>2</th>\n",
       "      <td>Amazon Basics Universal Travel Case Organizer ...</td>\n",
       "      <td>AmazonBasics</td>\n",
       "      <td>16242.0</td>\n",
       "      <td>0</td>\n",
       "      <td>1</td>\n",
       "      <td>277.0</td>\n",
       "      <td>14.44</td>\n",
       "      <td>4.6</td>\n",
       "    </tr>\n",
       "    <tr>\n",
       "      <th>3</th>\n",
       "      <td>Amazon Glow with Tangram Bits | Learn, Play, R...</td>\n",
       "      <td>Amazon</td>\n",
       "      <td>215.0</td>\n",
       "      <td>0</td>\n",
       "      <td>1</td>\n",
       "      <td>31.0</td>\n",
       "      <td>329.98</td>\n",
       "      <td>4.4</td>\n",
       "    </tr>\n",
       "    <tr>\n",
       "      <th>4</th>\n",
       "      <td>Echo Show 5 (2nd Gen, 2021 release) - Deep Sea...</td>\n",
       "      <td>Amazon</td>\n",
       "      <td>928.0</td>\n",
       "      <td>0</td>\n",
       "      <td>1</td>\n",
       "      <td>21.0</td>\n",
       "      <td>114.98</td>\n",
       "      <td>4.7</td>\n",
       "    </tr>\n",
       "    <tr>\n",
       "      <th>...</th>\n",
       "      <td>...</td>\n",
       "      <td>...</td>\n",
       "      <td>...</td>\n",
       "      <td>...</td>\n",
       "      <td>...</td>\n",
       "      <td>...</td>\n",
       "      <td>...</td>\n",
       "      <td>...</td>\n",
       "    </tr>\n",
       "    <tr>\n",
       "      <th>1631</th>\n",
       "      <td>American Eagle Gift Card</td>\n",
       "      <td>American Eagle</td>\n",
       "      <td>5999.0</td>\n",
       "      <td>0</td>\n",
       "      <td>0</td>\n",
       "      <td>4.0</td>\n",
       "      <td>25.00</td>\n",
       "      <td>4.9</td>\n",
       "    </tr>\n",
       "    <tr>\n",
       "      <th>1632</th>\n",
       "      <td>Amazon.com Gift Cards - As a Bookmark</td>\n",
       "      <td>Amazon</td>\n",
       "      <td>3950.0</td>\n",
       "      <td>0</td>\n",
       "      <td>0</td>\n",
       "      <td>15.0</td>\n",
       "      <td>100.00</td>\n",
       "      <td>4.9</td>\n",
       "    </tr>\n",
       "    <tr>\n",
       "      <th>1633</th>\n",
       "      <td>Amazon.com Gift Card in a Gift Tag</td>\n",
       "      <td>Amazon</td>\n",
       "      <td>7520.0</td>\n",
       "      <td>0</td>\n",
       "      <td>0</td>\n",
       "      <td>12.0</td>\n",
       "      <td>10.00</td>\n",
       "      <td>4.9</td>\n",
       "    </tr>\n",
       "    <tr>\n",
       "      <th>1634</th>\n",
       "      <td>Amazon.com $10 Gift Cards, Pack of 3 (Holiday ...</td>\n",
       "      <td>Amazon</td>\n",
       "      <td>3014.0</td>\n",
       "      <td>0</td>\n",
       "      <td>0</td>\n",
       "      <td>3.0</td>\n",
       "      <td>30.00</td>\n",
       "      <td>4.9</td>\n",
       "    </tr>\n",
       "    <tr>\n",
       "      <th>1635</th>\n",
       "      <td>Frito-Lay Baked &amp; Popped Mix Variety Pack, Pac...</td>\n",
       "      <td>Frito-Lay</td>\n",
       "      <td>17706.0</td>\n",
       "      <td>0</td>\n",
       "      <td>0</td>\n",
       "      <td>33.0</td>\n",
       "      <td>28.00</td>\n",
       "      <td>4.6</td>\n",
       "    </tr>\n",
       "  </tbody>\n",
       "</table>\n",
       "<p>1636 rows × 8 columns</p>\n",
       "</div>"
      ],
      "text/plain": [
       "                                                   Name            Brand  \\\n",
       "0     NOCO NUSB211NA 10W USB Power Adapter, 2.1A 5V ...             NOCO   \n",
       "1     Amazfit Band 5 Activity Fitness Tracker with A...          Amazfit   \n",
       "2     Amazon Basics Universal Travel Case Organizer ...     AmazonBasics   \n",
       "3     Amazon Glow with Tangram Bits | Learn, Play, R...           Amazon   \n",
       "4     Echo Show 5 (2nd Gen, 2021 release) - Deep Sea...           Amazon   \n",
       "...                                                 ...              ...   \n",
       "1631                           American Eagle Gift Card   American Eagle   \n",
       "1632              Amazon.com Gift Cards - As a Bookmark           Amazon   \n",
       "1633                 Amazon.com Gift Card in a Gift Tag           Amazon   \n",
       "1634  Amazon.com $10 Gift Cards, Pack of 3 (Holiday ...           Amazon   \n",
       "1635  Frito-Lay Baked & Popped Mix Variety Pack, Pac...        Frito-Lay   \n",
       "\n",
       "       Rating  BestSeller  AmazonChoice  Comments   Price  Stars  \n",
       "0      3869.0           0             0      28.0   13.95    4.7  \n",
       "1     21158.0           0             0    1000.0   29.88    4.1  \n",
       "2     16242.0           0             1     277.0   14.44    4.6  \n",
       "3       215.0           0             1      31.0  329.98    4.4  \n",
       "4       928.0           0             1      21.0  114.98    4.7  \n",
       "...       ...         ...           ...       ...     ...    ...  \n",
       "1631   5999.0           0             0       4.0   25.00    4.9  \n",
       "1632   3950.0           0             0      15.0  100.00    4.9  \n",
       "1633   7520.0           0             0      12.0   10.00    4.9  \n",
       "1634   3014.0           0             0       3.0   30.00    4.9  \n",
       "1635  17706.0           0             0      33.0   28.00    4.6  \n",
       "\n",
       "[1636 rows x 8 columns]"
      ]
     },
     "execution_count": 2,
     "metadata": {},
     "output_type": "execute_result"
    }
   ],
   "source": [
    "from bs4 import BeautifulSoup\n",
    "import pandas as pd\n",
    "import numpy as np\n",
    "import requests\n",
    "import csv\n",
    "import seaborn as sns\n",
    "\n",
    "\n",
    "df = pd.read_csv(\"Amazon Items Cleaned.csv\" )\n",
    "print(df.shape)\n",
    "df"
   ]
  },
  {
   "cell_type": "markdown",
   "metadata": {},
   "source": [
    "First look on the data, using info we can tell the type for each feature."
   ]
  },
  {
   "cell_type": "code",
   "execution_count": 6,
   "metadata": {},
   "outputs": [
    {
     "name": "stdout",
     "output_type": "stream",
     "text": [
      "<class 'pandas.core.frame.DataFrame'>\n",
      "RangeIndex: 1605 entries, 0 to 1604\n",
      "Data columns (total 8 columns):\n",
      " #   Column        Non-Null Count  Dtype  \n",
      "---  ------        --------------  -----  \n",
      " 0   Name          1605 non-null   object \n",
      " 1   Brand         1605 non-null   object \n",
      " 2   Rating        1605 non-null   float64\n",
      " 3   BestSeller    1605 non-null   int64  \n",
      " 4   AmazonChoice  1605 non-null   int64  \n",
      " 5   Comments      1605 non-null   float64\n",
      " 6   Price         1605 non-null   float64\n",
      " 7   Stars         1605 non-null   float64\n",
      "dtypes: float64(4), int64(2), object(2)\n",
      "memory usage: 100.4+ KB\n"
     ]
    }
   ],
   "source": [
    "# Non null means our data is full without missing data\n",
    "\n",
    "df.info()"
   ]
  },
  {
   "cell_type": "markdown",
   "metadata": {},
   "source": [
    "Checking data after cleaning using describe can give you useful information about unique values, means frequent values and so on."
   ]
  },
  {
   "cell_type": "code",
   "execution_count": 5,
   "metadata": {},
   "outputs": [
    {
     "data": {
      "text/html": [
       "<div>\n",
       "<style scoped>\n",
       "    .dataframe tbody tr th:only-of-type {\n",
       "        vertical-align: middle;\n",
       "    }\n",
       "\n",
       "    .dataframe tbody tr th {\n",
       "        vertical-align: top;\n",
       "    }\n",
       "\n",
       "    .dataframe thead th {\n",
       "        text-align: right;\n",
       "    }\n",
       "</style>\n",
       "<table border=\"1\" class=\"dataframe\">\n",
       "  <thead>\n",
       "    <tr style=\"text-align: right;\">\n",
       "      <th></th>\n",
       "      <th>Name</th>\n",
       "      <th>Brand</th>\n",
       "      <th>Rating</th>\n",
       "      <th>BestSeller</th>\n",
       "      <th>AmazonChoice</th>\n",
       "      <th>Comments</th>\n",
       "      <th>Price</th>\n",
       "      <th>Stars</th>\n",
       "    </tr>\n",
       "  </thead>\n",
       "  <tbody>\n",
       "    <tr>\n",
       "      <th>count</th>\n",
       "      <td>1636</td>\n",
       "      <td>1636</td>\n",
       "      <td>1636.000000</td>\n",
       "      <td>1636.000000</td>\n",
       "      <td>1636.000000</td>\n",
       "      <td>1636.000000</td>\n",
       "      <td>1636.000000</td>\n",
       "      <td>1636.000000</td>\n",
       "    </tr>\n",
       "    <tr>\n",
       "      <th>unique</th>\n",
       "      <td>1442</td>\n",
       "      <td>789</td>\n",
       "      <td>NaN</td>\n",
       "      <td>NaN</td>\n",
       "      <td>NaN</td>\n",
       "      <td>NaN</td>\n",
       "      <td>NaN</td>\n",
       "      <td>NaN</td>\n",
       "    </tr>\n",
       "    <tr>\n",
       "      <th>top</th>\n",
       "      <td>The Franklin Mint Founding Fathers Coin Collec...</td>\n",
       "      <td>Amazon</td>\n",
       "      <td>NaN</td>\n",
       "      <td>NaN</td>\n",
       "      <td>NaN</td>\n",
       "      <td>NaN</td>\n",
       "      <td>NaN</td>\n",
       "      <td>NaN</td>\n",
       "    </tr>\n",
       "    <tr>\n",
       "      <th>freq</th>\n",
       "      <td>4</td>\n",
       "      <td>71</td>\n",
       "      <td>NaN</td>\n",
       "      <td>NaN</td>\n",
       "      <td>NaN</td>\n",
       "      <td>NaN</td>\n",
       "      <td>NaN</td>\n",
       "      <td>NaN</td>\n",
       "    </tr>\n",
       "    <tr>\n",
       "      <th>mean</th>\n",
       "      <td>NaN</td>\n",
       "      <td>NaN</td>\n",
       "      <td>7168.836797</td>\n",
       "      <td>0.028117</td>\n",
       "      <td>0.267726</td>\n",
       "      <td>73.822738</td>\n",
       "      <td>84.398833</td>\n",
       "      <td>4.468521</td>\n",
       "    </tr>\n",
       "    <tr>\n",
       "      <th>std</th>\n",
       "      <td>NaN</td>\n",
       "      <td>NaN</td>\n",
       "      <td>25972.522900</td>\n",
       "      <td>0.165359</td>\n",
       "      <td>0.442909</td>\n",
       "      <td>164.568799</td>\n",
       "      <td>211.353176</td>\n",
       "      <td>0.308997</td>\n",
       "    </tr>\n",
       "    <tr>\n",
       "      <th>min</th>\n",
       "      <td>NaN</td>\n",
       "      <td>NaN</td>\n",
       "      <td>1.000000</td>\n",
       "      <td>0.000000</td>\n",
       "      <td>0.000000</td>\n",
       "      <td>3.000000</td>\n",
       "      <td>2.120000</td>\n",
       "      <td>1.000000</td>\n",
       "    </tr>\n",
       "    <tr>\n",
       "      <th>25%</th>\n",
       "      <td>NaN</td>\n",
       "      <td>NaN</td>\n",
       "      <td>94.750000</td>\n",
       "      <td>0.000000</td>\n",
       "      <td>0.000000</td>\n",
       "      <td>7.000000</td>\n",
       "      <td>14.997500</td>\n",
       "      <td>4.300000</td>\n",
       "    </tr>\n",
       "    <tr>\n",
       "      <th>50%</th>\n",
       "      <td>NaN</td>\n",
       "      <td>NaN</td>\n",
       "      <td>624.000000</td>\n",
       "      <td>0.000000</td>\n",
       "      <td>0.000000</td>\n",
       "      <td>19.000000</td>\n",
       "      <td>26.980000</td>\n",
       "      <td>4.500000</td>\n",
       "    </tr>\n",
       "    <tr>\n",
       "      <th>75%</th>\n",
       "      <td>NaN</td>\n",
       "      <td>NaN</td>\n",
       "      <td>3637.250000</td>\n",
       "      <td>0.000000</td>\n",
       "      <td>1.000000</td>\n",
       "      <td>57.250000</td>\n",
       "      <td>59.952500</td>\n",
       "      <td>4.700000</td>\n",
       "    </tr>\n",
       "    <tr>\n",
       "      <th>max</th>\n",
       "      <td>NaN</td>\n",
       "      <td>NaN</td>\n",
       "      <td>461320.000000</td>\n",
       "      <td>1.000000</td>\n",
       "      <td>1.000000</td>\n",
       "      <td>1000.000000</td>\n",
       "      <td>2309.500000</td>\n",
       "      <td>5.000000</td>\n",
       "    </tr>\n",
       "  </tbody>\n",
       "</table>\n",
       "</div>"
      ],
      "text/plain": [
       "                                                     Name    Brand  \\\n",
       "count                                                1636     1636   \n",
       "unique                                               1442      789   \n",
       "top     The Franklin Mint Founding Fathers Coin Collec...   Amazon   \n",
       "freq                                                    4       71   \n",
       "mean                                                  NaN      NaN   \n",
       "std                                                   NaN      NaN   \n",
       "min                                                   NaN      NaN   \n",
       "25%                                                   NaN      NaN   \n",
       "50%                                                   NaN      NaN   \n",
       "75%                                                   NaN      NaN   \n",
       "max                                                   NaN      NaN   \n",
       "\n",
       "               Rating   BestSeller  AmazonChoice     Comments        Price  \\\n",
       "count     1636.000000  1636.000000   1636.000000  1636.000000  1636.000000   \n",
       "unique            NaN          NaN           NaN          NaN          NaN   \n",
       "top               NaN          NaN           NaN          NaN          NaN   \n",
       "freq              NaN          NaN           NaN          NaN          NaN   \n",
       "mean      7168.836797     0.028117      0.267726    73.822738    84.398833   \n",
       "std      25972.522900     0.165359      0.442909   164.568799   211.353176   \n",
       "min          1.000000     0.000000      0.000000     3.000000     2.120000   \n",
       "25%         94.750000     0.000000      0.000000     7.000000    14.997500   \n",
       "50%        624.000000     0.000000      0.000000    19.000000    26.980000   \n",
       "75%       3637.250000     0.000000      1.000000    57.250000    59.952500   \n",
       "max     461320.000000     1.000000      1.000000  1000.000000  2309.500000   \n",
       "\n",
       "              Stars  \n",
       "count   1636.000000  \n",
       "unique          NaN  \n",
       "top             NaN  \n",
       "freq            NaN  \n",
       "mean       4.468521  \n",
       "std        0.308997  \n",
       "min        1.000000  \n",
       "25%        4.300000  \n",
       "50%        4.500000  \n",
       "75%        4.700000  \n",
       "max        5.000000  "
      ]
     },
     "execution_count": 5,
     "metadata": {},
     "output_type": "execute_result"
    }
   ],
   "source": [
    "df.describe(include='all')"
   ]
  },
  {
   "cell_type": "markdown",
   "metadata": {},
   "source": [
    "Back to our research question, let's focus on the bestseller field and generate a frequency table for best seller items."
   ]
  },
  {
   "cell_type": "code",
   "execution_count": 6,
   "metadata": {},
   "outputs": [
    {
     "name": "stdout",
     "output_type": "stream",
     "text": [
      "   BestSeller  Frequency          p\n",
      "0           0       1590  97.188264\n",
      "1           1         46   2.811736\n"
     ]
    },
    {
     "data": {
      "text/plain": [
       "<AxesSubplot:ylabel='BestSeller'>"
      ]
     },
     "execution_count": 6,
     "metadata": {},
     "output_type": "execute_result"
    },
    {
     "data": {
      "image/png": "[encoded data removed]",
      "text/plain": [
       "<Figure size 432x288 with 1 Axes>"
      ]
     },
     "metadata": {},
     "output_type": "display_data"
    }
   ],
   "source": [
    "# Show the Frequency of the Best Sellers items with PIE visualization -------------------------------------------------------------------------------\n",
    "\n",
    "counts = df[\"BestSeller\"].value_counts()\n",
    "p = df[\"BestSeller\"].value_counts(normalize = True) * 100\n",
    "index = [0,1]\n",
    "FrequencyDF = pd.DataFrame({\"BestSeller\" : index,\"Frequency\": counts, \"p\" : p})\n",
    "print(FrequencyDF)\n",
    "\n",
    "myColors = ['#F5DC1A', '#179deb']\n",
    "df['BestSeller'].value_counts().plot(kind = 'pie', colors = myColors)"
   ]
  },
  {
   "cell_type": "markdown",
   "metadata": {},
   "source": [
    "As you can see about 2.8% are best sellers."
   ]
  },
  {
   "cell_type": "markdown",
   "metadata": {},
   "source": [
    "Checking for outliers on price with an histogram"
   ]
  },
  {
   "cell_type": "code",
   "execution_count": 7,
   "metadata": {},
   "outputs": [
    {
     "data": {
      "text/plain": [
       "Text(0, 0.5, 'Amount')"
      ]
     },
     "execution_count": 7,
     "metadata": {},
     "output_type": "execute_result"
    },
    {
     "data": {
      "image/png": "[encoded data removed]",
      "text/plain": [
       "<Figure size 432x288 with 1 Axes>"
      ]
     },
     "metadata": {
      "needs_background": "light"
     },
     "output_type": "display_data"
    }
   ],
   "source": [
    "# We can see that most of the items in amazon are falling under the first section in the histogram price < 500 ------------------------------------------------\n",
    "\n",
    "import matplotlib as mpl\n",
    "from matplotlib import pyplot as plt\n",
    "%matplotlib inline\n",
    "\n",
    "plt.hist(df.Price, bins = 5)\n",
    "plt.xlabel(\"Price\")\n",
    "plt.ylabel(\"Amount\")"
   ]
  },
  {
   "cell_type": "markdown",
   "metadata": {},
   "source": [
    "Let's check if the items above 700 USD are Best Selleers"
   ]
  },
  {
   "cell_type": "code",
   "execution_count": 8,
   "metadata": {},
   "outputs": [
    {
     "name": "stdout",
     "output_type": "stream",
     "text": [
      "31\n"
     ]
    }
   ],
   "source": [
    "print(sum(df.Price > 700))\n"
   ]
  },
  {
   "cell_type": "markdown",
   "metadata": {},
   "source": [
    "Let's use a boxplot to visualize outliers values for price."
   ]
  },
  {
   "cell_type": "code",
   "execution_count": 9,
   "metadata": {},
   "outputs": [
    {
     "name": "stderr",
     "output_type": "stream",
     "text": [
      "c:\\Users\\Yaniv\\anaconda3\\envs\\datascience\\lib\\site-packages\\seaborn\\_decorators.py:36: FutureWarning: Pass the following variable as a keyword arg: x. From version 0.12, the only valid positional argument will be `data`, and passing other arguments without an explicit keyword will result in an error or misinterpretation.\n",
      "  warnings.warn(\n"
     ]
    },
    {
     "data": {
      "text/plain": [
       "<AxesSubplot:xlabel='Price'>"
      ]
     },
     "execution_count": 9,
     "metadata": {},
     "output_type": "execute_result"
    },
    {
     "data": {
      "image/png": "[encoded data removed]",
      "text/plain": [
       "<Figure size 1296x288 with 1 Axes>"
      ]
     },
     "metadata": {
      "needs_background": "light"
     },
     "output_type": "display_data"
    }
   ],
   "source": [
    "fig = plt.figure(figsize=(18,4))\n",
    "sns.boxplot(df.Price, whis=3)"
   ]
  },
  {
   "cell_type": "code",
   "execution_count": 12,
   "metadata": {},
   "outputs": [],
   "source": [
    "#('Outliers that are also a bestsellers'+ str(sum(df.Price > 700 and df.BestSeller == 1)))"
   ]
  },
  {
   "cell_type": "markdown",
   "metadata": {},
   "source": [
    "Checking the outliers with IQR variable"
   ]
  },
  {
   "cell_type": "code",
   "execution_count": 13,
   "metadata": {},
   "outputs": [
    {
     "name": "stdout",
     "output_type": "stream",
     "text": [
      "The amount of outliers by IQR : 232\n",
      "We found that there are 52 items above 700 USD\n"
     ]
    },
    {
     "name": "stderr",
     "output_type": "stream",
     "text": [
      "C:\\Users\\Yaniv\\AppData\\Local\\Temp/ipykernel_23792/461335230.py:14: SettingWithCopyWarning: \n",
      "A value is trying to be set on a copy of a slice from a DataFrame\n",
      "\n",
      "See the caveats in the documentation: https://pandas.pydata.org/pandas-docs/stable/user_guide/indexing.html#returning-a-view-versus-a-copy\n",
      "  df.Price[df.Price > 700] = np.nan\n"
     ]
    }
   ],
   "source": [
    "Q1 = np.percentile(df[\"Price\"], 25)\n",
    "Q3 = np.percentile(df[\"Price\"], 75)\n",
    "IQR = Q3 - Q1\n",
    "\n",
    "fareOutlierRows = df[(df[\"Price\"] < Q1 - 1.5 * IQR) | (df[\"Price\"] > Q3 + 1.5 * IQR )].index\n",
    "\n",
    "print(\"The amount of outliers by IQR : \" + str(len(fareOutlierRows)))\n",
    "\n",
    "z_price = (df['Price'] - df['Price'].mean()) / df['Price'].std()\n",
    "outliers = abs(z_price) > 3\n",
    "print(\"We found that there are \" + str(sum(outliers)) + \" items above 700 USD\")\n",
    "\n",
    "min(df.Price[outliers])\n",
    "df.Price[df.Price > 700] = np.nan\n",
    "df = df.dropna(axis=0, thresh=8)\n",
    "df[\"Price\"].describe()\n",
    "\n",
    "df.to_csv(\"Amazon Items Cleaned.csv\", index=None)\n"
   ]
  },
  {
   "cell_type": "markdown",
   "metadata": {},
   "source": [
    "It is clear that we don't need the 31 outliers also because non of them is a best seller."
   ]
  },
  {
   "cell_type": "markdown",
   "metadata": {},
   "source": [
    "After droping all prices outliers we can see the new boxplot which looks much better now."
   ]
  },
  {
   "cell_type": "code",
   "execution_count": 14,
   "metadata": {},
   "outputs": [
    {
     "name": "stderr",
     "output_type": "stream",
     "text": [
      "c:\\Users\\Yaniv\\anaconda3\\envs\\datascience\\lib\\site-packages\\seaborn\\_decorators.py:36: FutureWarning: Pass the following variable as a keyword arg: x. From version 0.12, the only valid positional argument will be `data`, and passing other arguments without an explicit keyword will result in an error or misinterpretation.\n",
      "  warnings.warn(\n"
     ]
    },
    {
     "data": {
      "text/plain": [
       "<AxesSubplot:xlabel='Price'>"
      ]
     },
     "execution_count": 14,
     "metadata": {},
     "output_type": "execute_result"
    },
    {
     "data": {
      "image/png": "[encoded data removed]",
      "text/plain": [
       "<Figure size 1296x288 with 1 Axes>"
      ]
     },
     "metadata": {
      "needs_background": "light"
     },
     "output_type": "display_data"
    }
   ],
   "source": [
    "fig = plt.figure(figsize=(18,4))\n",
    "sns.boxplot(df.Price, whis=3)"
   ]
  },
  {
   "cell_type": "markdown",
   "metadata": {},
   "source": [
    "Checking for some correlation on Price and Comments values."
   ]
  },
  {
   "cell_type": "code",
   "execution_count": 15,
   "metadata": {},
   "outputs": [
    {
     "data": {
      "text/plain": [
       "Text(0, 0.5, 'Comments')"
      ]
     },
     "execution_count": 15,
     "metadata": {},
     "output_type": "execute_result"
    },
    {
     "data": {
      "image/png": "[encoded data removed]",
      "text/plain": [
       "<Figure size 432x288 with 1 Axes>"
      ]
     },
     "metadata": {
      "needs_background": "light"
     },
     "output_type": "display_data"
    }
   ],
   "source": [
    "plt.scatter(df.Price, df.Comments)\n",
    "plt.xlabel(\"Price\")\n",
    "plt.ylabel(\"Comments\")"
   ]
  },
  {
   "cell_type": "markdown",
   "metadata": {},
   "source": [
    "We don't see any linear pattern between prices and amount of comments on an item but we can see that items with price > 400 usd has less amount of comments generally."
   ]
  },
  {
   "cell_type": "markdown",
   "metadata": {},
   "source": [
    "Scaterring - Best Seller and Rating values"
   ]
  },
  {
   "cell_type": "code",
   "execution_count": 16,
   "metadata": {},
   "outputs": [
    {
     "name": "stderr",
     "output_type": "stream",
     "text": [
      "c:\\Users\\Yaniv\\anaconda3\\envs\\datascience\\lib\\site-packages\\seaborn\\_decorators.py:36: FutureWarning: Pass the following variables as keyword args: x, y. From version 0.12, the only valid positional argument will be `data`, and passing other arguments without an explicit keyword will result in an error or misinterpretation.\n",
      "  warnings.warn(\n"
     ]
    },
    {
     "data": {
      "text/plain": [
       "<AxesSubplot:xlabel='BestSeller', ylabel='Rating'>"
      ]
     },
     "execution_count": 16,
     "metadata": {},
     "output_type": "execute_result"
    },
    {
     "data": {
      "image/png": "[encoded data removed]",
      "text/plain": [
       "<Figure size 432x288 with 1 Axes>"
      ]
     },
     "metadata": {
      "needs_background": "light"
     },
     "output_type": "display_data"
    }
   ],
   "source": [
    "sns.boxplot(df.BestSeller, df.Rating)"
   ]
  },
  {
   "cell_type": "markdown",
   "metadata": {},
   "source": [
    "Here we can see that the amount of ratings not always indicates if an item is a best seller or not."
   ]
  },
  {
   "cell_type": "markdown",
   "metadata": {},
   "source": [
    "Same thing on comments versus best seller."
   ]
  },
  {
   "cell_type": "code",
   "execution_count": 17,
   "metadata": {},
   "outputs": [
    {
     "name": "stderr",
     "output_type": "stream",
     "text": [
      "c:\\Users\\Yaniv\\anaconda3\\envs\\datascience\\lib\\site-packages\\seaborn\\_decorators.py:36: FutureWarning: Pass the following variables as keyword args: x, y. From version 0.12, the only valid positional argument will be `data`, and passing other arguments without an explicit keyword will result in an error or misinterpretation.\n",
      "  warnings.warn(\n"
     ]
    },
    {
     "data": {
      "text/plain": [
       "<AxesSubplot:xlabel='BestSeller', ylabel='Comments'>"
      ]
     },
     "execution_count": 17,
     "metadata": {},
     "output_type": "execute_result"
    },
    {
     "data": {
      "image/png": "[encoded data removed]",
      "text/plain": [
       "<Figure size 432x288 with 1 Axes>"
      ]
     },
     "metadata": {
      "needs_background": "light"
     },
     "output_type": "display_data"
    }
   ],
   "source": [
    "sns.boxplot(df.BestSeller, df.Comments)"
   ]
  },
  {
   "cell_type": "markdown",
   "metadata": {},
   "source": [
    "We can see that the majority of bestsellers are with 0-300 comments, that indicates that comment alone is not a good indicator for finding bestseller among the items."
   ]
  },
  {
   "cell_type": "markdown",
   "metadata": {},
   "source": [
    "Price / Bestseller"
   ]
  },
  {
   "cell_type": "code",
   "execution_count": 18,
   "metadata": {},
   "outputs": [
    {
     "name": "stderr",
     "output_type": "stream",
     "text": [
      "c:\\Users\\Yaniv\\anaconda3\\envs\\datascience\\lib\\site-packages\\seaborn\\_decorators.py:36: FutureWarning: Pass the following variables as keyword args: x, y. From version 0.12, the only valid positional argument will be `data`, and passing other arguments without an explicit keyword will result in an error or misinterpretation.\n",
      "  warnings.warn(\n"
     ]
    },
    {
     "data": {
      "text/plain": [
       "<AxesSubplot:xlabel='BestSeller', ylabel='Price'>"
      ]
     },
     "execution_count": 18,
     "metadata": {},
     "output_type": "execute_result"
    },
    {
     "data": {
      "image/png": "[encoded data removed]",
      "text/plain": [
       "<Figure size 432x288 with 1 Axes>"
      ]
     },
     "metadata": {
      "needs_background": "light"
     },
     "output_type": "display_data"
    }
   ],
   "source": [
    "sns.boxplot(df.BestSeller, df.Price)\n"
   ]
  },
  {
   "cell_type": "markdown",
   "metadata": {},
   "source": [
    "The majority are with price 0-100$"
   ]
  },
  {
   "cell_type": "markdown",
   "metadata": {},
   "source": [
    "Let's try same thing with Stars - Best Seller -> Stars"
   ]
  },
  {
   "cell_type": "code",
   "execution_count": 19,
   "metadata": {},
   "outputs": [
    {
     "name": "stderr",
     "output_type": "stream",
     "text": [
      "c:\\Users\\Yaniv\\anaconda3\\envs\\datascience\\lib\\site-packages\\seaborn\\_decorators.py:36: FutureWarning: Pass the following variables as keyword args: x, y. From version 0.12, the only valid positional argument will be `data`, and passing other arguments without an explicit keyword will result in an error or misinterpretation.\n",
      "  warnings.warn(\n"
     ]
    },
    {
     "data": {
      "text/plain": [
       "<AxesSubplot:xlabel='BestSeller', ylabel='Stars'>"
      ]
     },
     "execution_count": 19,
     "metadata": {},
     "output_type": "execute_result"
    },
    {
     "data": {
      "image/png": "[encoded data removed]",
      "text/plain": [
       "<Figure size 432x288 with 1 Axes>"
      ]
     },
     "metadata": {
      "needs_background": "light"
     },
     "output_type": "display_data"
    }
   ],
   "source": [
    "sns.boxplot(df.BestSeller, df.Stars)\n"
   ]
  },
  {
   "cell_type": "markdown",
   "metadata": {},
   "source": [
    "Another way to look is using cross tabulation."
   ]
  },
  {
   "cell_type": "code",
   "execution_count": 20,
   "metadata": {},
   "outputs": [
    {
     "data": {
      "text/html": [
       "<div>\n",
       "<style scoped>\n",
       "    .dataframe tbody tr th:only-of-type {\n",
       "        vertical-align: middle;\n",
       "    }\n",
       "\n",
       "    .dataframe tbody tr th {\n",
       "        vertical-align: top;\n",
       "    }\n",
       "\n",
       "    .dataframe thead th {\n",
       "        text-align: right;\n",
       "    }\n",
       "</style>\n",
       "<table border=\"1\" class=\"dataframe\">\n",
       "  <thead>\n",
       "    <tr style=\"text-align: right;\">\n",
       "      <th>BestSeller</th>\n",
       "      <th>0</th>\n",
       "      <th>1</th>\n",
       "    </tr>\n",
       "    <tr>\n",
       "      <th>Stars</th>\n",
       "      <th></th>\n",
       "      <th></th>\n",
       "    </tr>\n",
       "  </thead>\n",
       "  <tbody>\n",
       "    <tr>\n",
       "      <th>1.0</th>\n",
       "      <td>1</td>\n",
       "      <td>0</td>\n",
       "    </tr>\n",
       "    <tr>\n",
       "      <th>2.1</th>\n",
       "      <td>2</td>\n",
       "      <td>0</td>\n",
       "    </tr>\n",
       "    <tr>\n",
       "      <th>2.8</th>\n",
       "      <td>2</td>\n",
       "      <td>0</td>\n",
       "    </tr>\n",
       "    <tr>\n",
       "      <th>3.0</th>\n",
       "      <td>2</td>\n",
       "      <td>0</td>\n",
       "    </tr>\n",
       "    <tr>\n",
       "      <th>3.2</th>\n",
       "      <td>1</td>\n",
       "      <td>0</td>\n",
       "    </tr>\n",
       "    <tr>\n",
       "      <th>3.3</th>\n",
       "      <td>2</td>\n",
       "      <td>0</td>\n",
       "    </tr>\n",
       "    <tr>\n",
       "      <th>3.4</th>\n",
       "      <td>5</td>\n",
       "      <td>0</td>\n",
       "    </tr>\n",
       "    <tr>\n",
       "      <th>3.5</th>\n",
       "      <td>1</td>\n",
       "      <td>0</td>\n",
       "    </tr>\n",
       "    <tr>\n",
       "      <th>3.6</th>\n",
       "      <td>8</td>\n",
       "      <td>3</td>\n",
       "    </tr>\n",
       "    <tr>\n",
       "      <th>3.7</th>\n",
       "      <td>16</td>\n",
       "      <td>0</td>\n",
       "    </tr>\n",
       "    <tr>\n",
       "      <th>3.8</th>\n",
       "      <td>10</td>\n",
       "      <td>0</td>\n",
       "    </tr>\n",
       "    <tr>\n",
       "      <th>3.9</th>\n",
       "      <td>29</td>\n",
       "      <td>0</td>\n",
       "    </tr>\n",
       "    <tr>\n",
       "      <th>4.0</th>\n",
       "      <td>50</td>\n",
       "      <td>0</td>\n",
       "    </tr>\n",
       "    <tr>\n",
       "      <th>4.1</th>\n",
       "      <td>60</td>\n",
       "      <td>1</td>\n",
       "    </tr>\n",
       "    <tr>\n",
       "      <th>4.2</th>\n",
       "      <td>80</td>\n",
       "      <td>5</td>\n",
       "    </tr>\n",
       "    <tr>\n",
       "      <th>4.3</th>\n",
       "      <td>122</td>\n",
       "      <td>6</td>\n",
       "    </tr>\n",
       "    <tr>\n",
       "      <th>4.4</th>\n",
       "      <td>233</td>\n",
       "      <td>3</td>\n",
       "    </tr>\n",
       "    <tr>\n",
       "      <th>4.5</th>\n",
       "      <td>260</td>\n",
       "      <td>7</td>\n",
       "    </tr>\n",
       "    <tr>\n",
       "      <th>4.6</th>\n",
       "      <td>237</td>\n",
       "      <td>10</td>\n",
       "    </tr>\n",
       "    <tr>\n",
       "      <th>4.7</th>\n",
       "      <td>235</td>\n",
       "      <td>3</td>\n",
       "    </tr>\n",
       "    <tr>\n",
       "      <th>4.8</th>\n",
       "      <td>129</td>\n",
       "      <td>6</td>\n",
       "    </tr>\n",
       "    <tr>\n",
       "      <th>4.9</th>\n",
       "      <td>64</td>\n",
       "      <td>2</td>\n",
       "    </tr>\n",
       "    <tr>\n",
       "      <th>5.0</th>\n",
       "      <td>10</td>\n",
       "      <td>0</td>\n",
       "    </tr>\n",
       "  </tbody>\n",
       "</table>\n",
       "</div>"
      ],
      "text/plain": [
       "BestSeller    0   1\n",
       "Stars              \n",
       "1.0           1   0\n",
       "2.1           2   0\n",
       "2.8           2   0\n",
       "3.0           2   0\n",
       "3.2           1   0\n",
       "3.3           2   0\n",
       "3.4           5   0\n",
       "3.5           1   0\n",
       "3.6           8   3\n",
       "3.7          16   0\n",
       "3.8          10   0\n",
       "3.9          29   0\n",
       "4.0          50   0\n",
       "4.1          60   1\n",
       "4.2          80   5\n",
       "4.3         122   6\n",
       "4.4         233   3\n",
       "4.5         260   7\n",
       "4.6         237  10\n",
       "4.7         235   3\n",
       "4.8         129   6\n",
       "4.9          64   2\n",
       "5.0          10   0"
      ]
     },
     "execution_count": 20,
     "metadata": {},
     "output_type": "execute_result"
    }
   ],
   "source": [
    "ct1 = pd.crosstab(df[\"Stars\"], df[\"BestSeller\"])\n",
    "ct1"
   ]
  },
  {
   "cell_type": "markdown",
   "metadata": {},
   "source": [
    "We can see that majority Best Seller items must have above 4.0 stars\n",
    "\n",
    "Let's make a plot."
   ]
  },
  {
   "cell_type": "code",
   "execution_count": 21,
   "metadata": {},
   "outputs": [
    {
     "data": {
      "text/plain": [
       "Text(0, 0.5, 'Best Seller')"
      ]
     },
     "execution_count": 21,
     "metadata": {},
     "output_type": "execute_result"
    },
    {
     "data": {
      "image/png": "[encoded data removed]",
      "text/plain": [
       "<Figure size 720x288 with 1 Axes>"
      ]
     },
     "metadata": {
      "needs_background": "light"
     },
     "output_type": "display_data"
    }
   ],
   "source": [
    "ct2 = pd.crosstab(df[\"Stars\"], df[\"BestSeller\"], normalize=\"index\")\n",
    "ct2.plot(kind = 'bar', figsize = (10,4))\n",
    "plt.title('Best Seller vs Stars', fontsize = 10)\n",
    "plt.xlabel('Stars')\n",
    "plt.ylabel('Best Seller')"
   ]
  },
  {
   "cell_type": "markdown",
   "metadata": {},
   "source": [
    "We found that there is some correlation, the majority of bestseller items has above 4.0 Stars \n",
    "\n",
    "Let's check our base assumption with the - Chi Test -"
   ]
  },
  {
   "cell_type": "markdown",
   "metadata": {},
   "source": [
    "H0 = There is no correlation between Best Seller and Stars"
   ]
  },
  {
   "cell_type": "code",
   "execution_count": 22,
   "metadata": {},
   "outputs": [
    {
     "data": {
      "text/plain": [
       "(38.90817150084312,\n",
       " 0.014457635946154766,\n",
       " 22,\n",
       " array([[9.71339564e-01, 2.86604361e-02],\n",
       "        [1.94267913e+00, 5.73208723e-02],\n",
       "        [1.94267913e+00, 5.73208723e-02],\n",
       "        [1.94267913e+00, 5.73208723e-02],\n",
       "        [9.71339564e-01, 2.86604361e-02],\n",
       "        [1.94267913e+00, 5.73208723e-02],\n",
       "        [4.85669782e+00, 1.43302181e-01],\n",
       "        [9.71339564e-01, 2.86604361e-02],\n",
       "        [1.06847352e+01, 3.15264798e-01],\n",
       "        [1.55414330e+01, 4.58566978e-01],\n",
       "        [9.71339564e+00, 2.86604361e-01],\n",
       "        [2.81688474e+01, 8.31152648e-01],\n",
       "        [4.85669782e+01, 1.43302181e+00],\n",
       "        [5.92517134e+01, 1.74828660e+00],\n",
       "        [8.25638629e+01, 2.43613707e+00],\n",
       "        [1.24331464e+02, 3.66853583e+00],\n",
       "        [2.29236137e+02, 6.76386293e+00],\n",
       "        [2.59347664e+02, 7.65233645e+00],\n",
       "        [2.39920872e+02, 7.07912773e+00],\n",
       "        [2.31178816e+02, 6.82118380e+00],\n",
       "        [1.31130841e+02, 3.86915888e+00],\n",
       "        [6.41084112e+01, 1.89158879e+00],\n",
       "        [9.71339564e+00, 2.86604361e-01]]))"
      ]
     },
     "execution_count": 22,
     "metadata": {},
     "output_type": "execute_result"
    }
   ],
   "source": [
    "from scipy.stats import chi2_contingency\n",
    "chi2_contingency(ct1)"
   ]
  },
  {
   "cell_type": "markdown",
   "metadata": {},
   "source": [
    "P value < 0.05 therefore H0 is wrong and we do have a connection between Best Seller and Stars and we pick the H1"
   ]
  },
  {
   "cell_type": "code",
   "execution_count": 23,
   "metadata": {},
   "outputs": [
    {
     "data": {
      "text/plain": [
       "<AxesSubplot:xlabel='Price', ylabel='Stars'>"
      ]
     },
     "execution_count": 23,
     "metadata": {},
     "output_type": "execute_result"
    },
    {
     "data": {
      "image/png": "[encoded data removed]",
      "text/plain": [
       "<Figure size 864x504 with 1 Axes>"
      ]
     },
     "metadata": {
      "needs_background": "light"
     },
     "output_type": "display_data"
    }
   ],
   "source": [
    "fig = plt.figure(figsize = (12,7))\n",
    "sns.scatterplot(x = 'Price', y = 'Stars', s = 70, hue = 'BestSeller', data = df)"
   ]
  },
  {
   "cell_type": "markdown",
   "metadata": {},
   "source": [
    "Here we see that if the price is low the item is most likely to be a best seller\n",
    "\n",
    "3D scatter on Rating, Comments, Price values"
   ]
  },
  {
   "cell_type": "code",
   "execution_count": 24,
   "metadata": {},
   "outputs": [
    {
     "data": {
      "text/plain": [
       "<mpl_toolkits.mplot3d.art3d.Path3DCollection at 0x230dc9b08b0>"
      ]
     },
     "execution_count": 24,
     "metadata": {},
     "output_type": "execute_result"
    },
    {
     "data": {
      "image/png": "[encoded data removed]",
      "text/plain": [
       "<Figure size 432x288 with 1 Axes>"
      ]
     },
     "metadata": {
      "needs_background": "light"
     },
     "output_type": "display_data"
    }
   ],
   "source": [
    "from mpl_toolkits.mplot3d import Axes3D\n",
    "ax = plt.axes(projection = '3d')\n",
    "\n",
    "xdata = df.Rating\n",
    "ydata = df.Comments\n",
    "zdata = df.Price\n",
    "\n",
    "plt.xlabel('Rating')\n",
    "plt.ylabel('Comments')\n",
    "\n",
    "ax.scatter3D(xdata,ydata,zdata,c = zdata,depthshade = False)"
   ]
  },
  {
   "cell_type": "markdown",
   "metadata": {},
   "source": [
    "Pair plot for our useful fields."
   ]
  },
  {
   "cell_type": "code",
   "execution_count": 25,
   "metadata": {},
   "outputs": [
    {
     "data": {
      "text/plain": [
       "<seaborn.axisgrid.PairGrid at 0x230db627610>"
      ]
     },
     "execution_count": 25,
     "metadata": {},
     "output_type": "execute_result"
    },
    {
     "data": {
      "image/png": "[encoded data removed]",
      "text/plain": [
       "<Figure size 1080x1080 with 42 Axes>"
      ]
     },
     "metadata": {
      "needs_background": "light"
     },
     "output_type": "display_data"
    }
   ],
   "source": [
    "sns.pairplot(df[['Rating', 'BestSeller', 'AmazonChoice' ,'Comments', 'Stars', 'Price']])"
   ]
  },
  {
   "cell_type": "markdown",
   "metadata": {},
   "source": [
    "# Supervised Learning \n",
    "\n",
    "Our approach here is to use classification by running the Logistic Regression algorithm with our BestSeller column out of the df.\n",
    "1. load the data from 'Amazon Items Cleaned.csv' to a data frame.\n",
    "2. Split the data to X and y where X containing all relevant features and y is our BestSeller column.\n",
    "3. Split the data into train and test subsets: X_train, X_test, y_train, y_test. We will use random pick and default size of 25%.\n",
    "4. Run the algorithm to train the model with fit()."
   ]
  },
  {
   "cell_type": "code",
   "execution_count": 13,
   "metadata": {},
   "outputs": [
    {
     "data": {
      "text/html": [
       "<div>\n",
       "<style scoped>\n",
       "    .dataframe tbody tr th:only-of-type {\n",
       "        vertical-align: middle;\n",
       "    }\n",
       "\n",
       "    .dataframe tbody tr th {\n",
       "        vertical-align: top;\n",
       "    }\n",
       "\n",
       "    .dataframe thead th {\n",
       "        text-align: right;\n",
       "    }\n",
       "</style>\n",
       "<table border=\"1\" class=\"dataframe\">\n",
       "  <thead>\n",
       "    <tr style=\"text-align: right;\">\n",
       "      <th></th>\n",
       "      <th>Name</th>\n",
       "      <th>Brand</th>\n",
       "      <th>Rating</th>\n",
       "      <th>BestSeller</th>\n",
       "      <th>AmazonChoice</th>\n",
       "      <th>Comments</th>\n",
       "      <th>Price</th>\n",
       "      <th>Stars</th>\n",
       "    </tr>\n",
       "  </thead>\n",
       "  <tbody>\n",
       "    <tr>\n",
       "      <th>0</th>\n",
       "      <td>NOCO NUSB211NA 10W USB Power Adapter, 2.1A 5V ...</td>\n",
       "      <td>NOCO</td>\n",
       "      <td>3869.0</td>\n",
       "      <td>0</td>\n",
       "      <td>0</td>\n",
       "      <td>28.0</td>\n",
       "      <td>13.95</td>\n",
       "      <td>4.7</td>\n",
       "    </tr>\n",
       "    <tr>\n",
       "      <th>1</th>\n",
       "      <td>Amazfit Band 5 Activity Fitness Tracker with A...</td>\n",
       "      <td>Amazfit</td>\n",
       "      <td>21158.0</td>\n",
       "      <td>0</td>\n",
       "      <td>0</td>\n",
       "      <td>1000.0</td>\n",
       "      <td>29.88</td>\n",
       "      <td>4.1</td>\n",
       "    </tr>\n",
       "    <tr>\n",
       "      <th>2</th>\n",
       "      <td>Amazon Basics Universal Travel Case Organizer ...</td>\n",
       "      <td>AmazonBasics</td>\n",
       "      <td>16242.0</td>\n",
       "      <td>0</td>\n",
       "      <td>1</td>\n",
       "      <td>277.0</td>\n",
       "      <td>14.44</td>\n",
       "      <td>4.6</td>\n",
       "    </tr>\n",
       "    <tr>\n",
       "      <th>3</th>\n",
       "      <td>Amazon Glow with Tangram Bits | Learn, Play, R...</td>\n",
       "      <td>Amazon</td>\n",
       "      <td>215.0</td>\n",
       "      <td>0</td>\n",
       "      <td>1</td>\n",
       "      <td>31.0</td>\n",
       "      <td>329.98</td>\n",
       "      <td>4.4</td>\n",
       "    </tr>\n",
       "    <tr>\n",
       "      <th>4</th>\n",
       "      <td>Echo Show 5 (2nd Gen, 2021 release) - Deep Sea...</td>\n",
       "      <td>Amazon</td>\n",
       "      <td>928.0</td>\n",
       "      <td>0</td>\n",
       "      <td>1</td>\n",
       "      <td>21.0</td>\n",
       "      <td>114.98</td>\n",
       "      <td>4.7</td>\n",
       "    </tr>\n",
       "    <tr>\n",
       "      <th>...</th>\n",
       "      <td>...</td>\n",
       "      <td>...</td>\n",
       "      <td>...</td>\n",
       "      <td>...</td>\n",
       "      <td>...</td>\n",
       "      <td>...</td>\n",
       "      <td>...</td>\n",
       "      <td>...</td>\n",
       "    </tr>\n",
       "    <tr>\n",
       "      <th>1631</th>\n",
       "      <td>American Eagle Gift Card</td>\n",
       "      <td>American Eagle</td>\n",
       "      <td>5999.0</td>\n",
       "      <td>0</td>\n",
       "      <td>0</td>\n",
       "      <td>4.0</td>\n",
       "      <td>25.00</td>\n",
       "      <td>4.9</td>\n",
       "    </tr>\n",
       "    <tr>\n",
       "      <th>1632</th>\n",
       "      <td>Amazon.com Gift Cards - As a Bookmark</td>\n",
       "      <td>Amazon</td>\n",
       "      <td>3950.0</td>\n",
       "      <td>0</td>\n",
       "      <td>0</td>\n",
       "      <td>15.0</td>\n",
       "      <td>100.00</td>\n",
       "      <td>4.9</td>\n",
       "    </tr>\n",
       "    <tr>\n",
       "      <th>1633</th>\n",
       "      <td>Amazon.com Gift Card in a Gift Tag</td>\n",
       "      <td>Amazon</td>\n",
       "      <td>7520.0</td>\n",
       "      <td>0</td>\n",
       "      <td>0</td>\n",
       "      <td>12.0</td>\n",
       "      <td>10.00</td>\n",
       "      <td>4.9</td>\n",
       "    </tr>\n",
       "    <tr>\n",
       "      <th>1634</th>\n",
       "      <td>Amazon.com $10 Gift Cards, Pack of 3 (Holiday ...</td>\n",
       "      <td>Amazon</td>\n",
       "      <td>3014.0</td>\n",
       "      <td>0</td>\n",
       "      <td>0</td>\n",
       "      <td>3.0</td>\n",
       "      <td>30.00</td>\n",
       "      <td>4.9</td>\n",
       "    </tr>\n",
       "    <tr>\n",
       "      <th>1635</th>\n",
       "      <td>Frito-Lay Baked &amp; Popped Mix Variety Pack, Pac...</td>\n",
       "      <td>Frito-Lay</td>\n",
       "      <td>17706.0</td>\n",
       "      <td>0</td>\n",
       "      <td>0</td>\n",
       "      <td>33.0</td>\n",
       "      <td>28.00</td>\n",
       "      <td>4.6</td>\n",
       "    </tr>\n",
       "  </tbody>\n",
       "</table>\n",
       "<p>1636 rows × 8 columns</p>\n",
       "</div>"
      ],
      "text/plain": [
       "                                                   Name            Brand  \\\n",
       "0     NOCO NUSB211NA 10W USB Power Adapter, 2.1A 5V ...             NOCO   \n",
       "1     Amazfit Band 5 Activity Fitness Tracker with A...          Amazfit   \n",
       "2     Amazon Basics Universal Travel Case Organizer ...     AmazonBasics   \n",
       "3     Amazon Glow with Tangram Bits | Learn, Play, R...           Amazon   \n",
       "4     Echo Show 5 (2nd Gen, 2021 release) - Deep Sea...           Amazon   \n",
       "...                                                 ...              ...   \n",
       "1631                           American Eagle Gift Card   American Eagle   \n",
       "1632              Amazon.com Gift Cards - As a Bookmark           Amazon   \n",
       "1633                 Amazon.com Gift Card in a Gift Tag           Amazon   \n",
       "1634  Amazon.com $10 Gift Cards, Pack of 3 (Holiday ...           Amazon   \n",
       "1635  Frito-Lay Baked & Popped Mix Variety Pack, Pac...        Frito-Lay   \n",
       "\n",
       "       Rating  BestSeller  AmazonChoice  Comments   Price  Stars  \n",
       "0      3869.0           0             0      28.0   13.95    4.7  \n",
       "1     21158.0           0             0    1000.0   29.88    4.1  \n",
       "2     16242.0           0             1     277.0   14.44    4.6  \n",
       "3       215.0           0             1      31.0  329.98    4.4  \n",
       "4       928.0           0             1      21.0  114.98    4.7  \n",
       "...       ...         ...           ...       ...     ...    ...  \n",
       "1631   5999.0           0             0       4.0   25.00    4.9  \n",
       "1632   3950.0           0             0      15.0  100.00    4.9  \n",
       "1633   7520.0           0             0      12.0   10.00    4.9  \n",
       "1634   3014.0           0             0       3.0   30.00    4.9  \n",
       "1635  17706.0           0             0      33.0   28.00    4.6  \n",
       "\n",
       "[1636 rows x 8 columns]"
      ]
     },
     "execution_count": 13,
     "metadata": {},
     "output_type": "execute_result"
    }
   ],
   "source": [
    "import pandas as pd\n",
    "import numpy as np\n",
    "import sklearn\n",
    "from sklearn import preprocessing, linear_model, model_selection, metrics\n",
    "from sklearn.preprocessing import StandardScaler, MinMaxScaler\n",
    "from sklearn.linear_model import LogisticRegression, LinearRegression\n",
    "from sklearn.model_selection import train_test_split\n",
    "from sklearn.metrics import r2_score, f1_score\n",
    "\n",
    "df1 = pd.read_csv(\"Amazon Items Cleaned.csv\")\n",
    "df1\n",
    "\n",
    "# import matplotlib.pyplot as plt\n",
    "# %matplotlib inline  \n",
    "# plt.rcParams['figure.figsize'] = (10, 6)\n",
    "\n",
    "# lrm = linear_model.LogisticRegression()\n",
    "# lrm.fit(df[[\"Stars\"]],df[\"BestSeller\"])\n",
    "# df.plot.scatter(x='Stars',y='BestSeller',s=30)\n",
    "# x = np.linspace(df['Stars'].min(),df['Stars'].max(),1000)\n",
    "# y_pred_p=lrm.predict_proba(np.reshape(x, (-1, 1)))\n",
    "# y_pred_p1=[y[1] for y in y_pred_p]\n",
    "# plt.plot(x,y_pred_p1,color='Black')\n",
    "# plt.plot(x,[0.5]*len(x),color=\"red\")\n",
    "# plt.show()"
   ]
  },
  {
   "cell_type": "markdown",
   "metadata": {},
   "source": [
    "Split dataset into feature vector (X) and target value (y) series"
   ]
  },
  {
   "cell_type": "code",
   "execution_count": 14,
   "metadata": {},
   "outputs": [
    {
     "data": {
      "text/html": [
       "<div>\n",
       "<style scoped>\n",
       "    .dataframe tbody tr th:only-of-type {\n",
       "        vertical-align: middle;\n",
       "    }\n",
       "\n",
       "    .dataframe tbody tr th {\n",
       "        vertical-align: top;\n",
       "    }\n",
       "\n",
       "    .dataframe thead th {\n",
       "        text-align: right;\n",
       "    }\n",
       "</style>\n",
       "<table border=\"1\" class=\"dataframe\">\n",
       "  <thead>\n",
       "    <tr style=\"text-align: right;\">\n",
       "      <th></th>\n",
       "      <th>Rating</th>\n",
       "      <th>AmazonChoice</th>\n",
       "      <th>Comments</th>\n",
       "      <th>Price</th>\n",
       "      <th>Stars</th>\n",
       "    </tr>\n",
       "  </thead>\n",
       "  <tbody>\n",
       "    <tr>\n",
       "      <th>0</th>\n",
       "      <td>3869.0</td>\n",
       "      <td>0</td>\n",
       "      <td>28.0</td>\n",
       "      <td>13.95</td>\n",
       "      <td>4.7</td>\n",
       "    </tr>\n",
       "    <tr>\n",
       "      <th>1</th>\n",
       "      <td>21158.0</td>\n",
       "      <td>0</td>\n",
       "      <td>1000.0</td>\n",
       "      <td>29.88</td>\n",
       "      <td>4.1</td>\n",
       "    </tr>\n",
       "    <tr>\n",
       "      <th>2</th>\n",
       "      <td>16242.0</td>\n",
       "      <td>1</td>\n",
       "      <td>277.0</td>\n",
       "      <td>14.44</td>\n",
       "      <td>4.6</td>\n",
       "    </tr>\n",
       "    <tr>\n",
       "      <th>3</th>\n",
       "      <td>215.0</td>\n",
       "      <td>1</td>\n",
       "      <td>31.0</td>\n",
       "      <td>329.98</td>\n",
       "      <td>4.4</td>\n",
       "    </tr>\n",
       "    <tr>\n",
       "      <th>4</th>\n",
       "      <td>928.0</td>\n",
       "      <td>1</td>\n",
       "      <td>21.0</td>\n",
       "      <td>114.98</td>\n",
       "      <td>4.7</td>\n",
       "    </tr>\n",
       "    <tr>\n",
       "      <th>...</th>\n",
       "      <td>...</td>\n",
       "      <td>...</td>\n",
       "      <td>...</td>\n",
       "      <td>...</td>\n",
       "      <td>...</td>\n",
       "    </tr>\n",
       "    <tr>\n",
       "      <th>1631</th>\n",
       "      <td>5999.0</td>\n",
       "      <td>0</td>\n",
       "      <td>4.0</td>\n",
       "      <td>25.00</td>\n",
       "      <td>4.9</td>\n",
       "    </tr>\n",
       "    <tr>\n",
       "      <th>1632</th>\n",
       "      <td>3950.0</td>\n",
       "      <td>0</td>\n",
       "      <td>15.0</td>\n",
       "      <td>100.00</td>\n",
       "      <td>4.9</td>\n",
       "    </tr>\n",
       "    <tr>\n",
       "      <th>1633</th>\n",
       "      <td>7520.0</td>\n",
       "      <td>0</td>\n",
       "      <td>12.0</td>\n",
       "      <td>10.00</td>\n",
       "      <td>4.9</td>\n",
       "    </tr>\n",
       "    <tr>\n",
       "      <th>1634</th>\n",
       "      <td>3014.0</td>\n",
       "      <td>0</td>\n",
       "      <td>3.0</td>\n",
       "      <td>30.00</td>\n",
       "      <td>4.9</td>\n",
       "    </tr>\n",
       "    <tr>\n",
       "      <th>1635</th>\n",
       "      <td>17706.0</td>\n",
       "      <td>0</td>\n",
       "      <td>33.0</td>\n",
       "      <td>28.00</td>\n",
       "      <td>4.6</td>\n",
       "    </tr>\n",
       "  </tbody>\n",
       "</table>\n",
       "<p>1636 rows × 5 columns</p>\n",
       "</div>"
      ],
      "text/plain": [
       "       Rating  AmazonChoice  Comments   Price  Stars\n",
       "0      3869.0             0      28.0   13.95    4.7\n",
       "1     21158.0             0    1000.0   29.88    4.1\n",
       "2     16242.0             1     277.0   14.44    4.6\n",
       "3       215.0             1      31.0  329.98    4.4\n",
       "4       928.0             1      21.0  114.98    4.7\n",
       "...       ...           ...       ...     ...    ...\n",
       "1631   5999.0             0       4.0   25.00    4.9\n",
       "1632   3950.0             0      15.0  100.00    4.9\n",
       "1633   7520.0             0      12.0   10.00    4.9\n",
       "1634   3014.0             0       3.0   30.00    4.9\n",
       "1635  17706.0             0      33.0   28.00    4.6\n",
       "\n",
       "[1636 rows x 5 columns]"
      ]
     },
     "execution_count": 14,
     "metadata": {},
     "output_type": "execute_result"
    }
   ],
   "source": [
    "df = df1.copy()\n",
    "X = df\n",
    "y = df[\"BestSeller\"]\n",
    "X.pop(\"BestSeller\")\n",
    "X.pop(\"Name\")\n",
    "X.pop(\"Brand\")\n",
    "\n",
    "X\n"
   ]
  },
  {
   "cell_type": "code",
   "execution_count": 30,
   "metadata": {},
   "outputs": [
    {
     "data": {
      "text/plain": [
       "0       0\n",
       "1       0\n",
       "2       0\n",
       "3       0\n",
       "4       0\n",
       "       ..\n",
       "1600    0\n",
       "1601    0\n",
       "1602    0\n",
       "1603    0\n",
       "1604    0\n",
       "Name: BestSeller, Length: 1605, dtype: int64"
      ]
     },
     "execution_count": 30,
     "metadata": {},
     "output_type": "execute_result"
    }
   ],
   "source": [
    "y"
   ]
  },
  {
   "cell_type": "markdown",
   "metadata": {},
   "source": [
    "Setting a function for splitting into train and test"
   ]
  },
  {
   "cell_type": "code",
   "execution_count": 98,
   "metadata": {},
   "outputs": [],
   "source": [
    "# Function - Spliting the dataset into test and train\n",
    "# test_size = default 0.25\n",
    "# random_state = default np.random\n",
    "\n",
    "def split_to_train_and_test(X, y):\n",
    "    X_train, X_test, y_train, y_test = train_test_split(X, y)\n",
    "    return X_train, X_test, y_train, y_test"
   ]
  },
  {
   "cell_type": "markdown",
   "metadata": {},
   "source": [
    "Splitting the data into train and test subsets"
   ]
  },
  {
   "cell_type": "code",
   "execution_count": 115,
   "metadata": {},
   "outputs": [],
   "source": [
    "X_train, X_test, y_train, y_test = split_to_train_and_test(X,y)"
   ]
  },
  {
   "cell_type": "code",
   "execution_count": 116,
   "metadata": {},
   "outputs": [],
   "source": [
    "# function - MinMax Scaler\n",
    "\n",
    "def scale_features(X_train):\n",
    "    scaler = MinMaxScaler(feature_range=(0, 1)) # StandardScaler()\n",
    "    X_train_scaled = scaler.fit_transform(X_train)\n",
    "    return X_train_scaled"
   ]
  },
  {
   "cell_type": "markdown",
   "metadata": {},
   "source": [
    "Linear Regression - not helpful for us\n",
    "\n",
    "1. Defining 2 functions to help us return a predicted model.\n",
    "2. Running the fit()\n",
    "3. Evaluation using r2_score"
   ]
  },
  {
   "cell_type": "code",
   "execution_count": 141,
   "metadata": {},
   "outputs": [],
   "source": [
    "# def train_1st_model(X_train, y_train):\n",
    "#     reg = LinearRegression(fit_intercept = True)\n",
    "#     reg.fit(X_train, y_train)\n",
    "#     return reg\n",
    "\n",
    "# def predict_1st(trained_1st_model, X_test):\n",
    "#     y_pred = trained_1st_model.predict(X_test)\n",
    "#     return y_pred\n",
    "\n",
    "# trained_model_1st = train_1st_model(X_train, y_train)\n",
    "# y_pred = predict_1st(trained_model_1st, X_test)\n",
    "\n",
    "# evaluatePer = metrics.r2_score(y_test, y_pred)\n",
    "# print(evaluatePer)"
   ]
  },
  {
   "cell_type": "markdown",
   "metadata": {},
   "source": [
    "R2 value is very low, hence we will not use Linear Regression"
   ]
  },
  {
   "cell_type": "markdown",
   "metadata": {},
   "source": [
    "Scaling X_train"
   ]
  },
  {
   "cell_type": "code",
   "execution_count": 139,
   "metadata": {},
   "outputs": [],
   "source": [
    "# X_train_scaled = scale_features(X_train)\n",
    "# print(X_train_scaled)\n",
    "# print(\"\\n\")\n",
    "# print(\"Min Value: \", X_train_scaled.min(axis=0))\n",
    "# print(\"Max Value: \", X_train_scaled.max(axis=0))"
   ]
  },
  {
   "cell_type": "markdown",
   "metadata": {},
   "source": [
    "Scaling X_test"
   ]
  },
  {
   "cell_type": "code",
   "execution_count": 140,
   "metadata": {},
   "outputs": [],
   "source": [
    "# X_test_scaled = scale_features(X_test)\n",
    "# print(X_test_scaled)\n",
    "# print(\"\\n\")\n",
    "# print(\"Min Value: \", X_test_scaled.min(axis=0))\n",
    "# print(\"Max Value: \", X_test_scaled.max(axis=0))"
   ]
  },
  {
   "cell_type": "markdown",
   "metadata": {},
   "source": [
    "Logistic Regression - Evaluation using r2_score"
   ]
  },
  {
   "cell_type": "code",
   "execution_count": 120,
   "metadata": {},
   "outputs": [
    {
     "name": "stdout",
     "output_type": "stream",
     "text": [
      "Index of predicted products: [90, 39]\n",
      "Name            USB C Female to USB A Male Adapter Compatible ...\n",
      "Brand                                              Amazon Renewed\n",
      "Rating                                                   293390.0\n",
      "BestSeller                                                      0\n",
      "AmazonChoice                                                    0\n",
      "Comments                                                    102.0\n",
      "Price                                                       209.0\n",
      "Stars                                                         4.3\n",
      "Name: 90, dtype: object\n",
      "Name            Terasako Magnetic Charging Cable 6-Pack [1ft/3...\n",
      "Brand                                                    Terasako\n",
      "Rating                                                   461320.0\n",
      "BestSeller                                                      0\n",
      "AmazonChoice                                                    0\n",
      "Comments                                                     19.0\n",
      "Price                                                       19.99\n",
      "Stars                                                         4.0\n",
      "Name: 39, dtype: object\n"
     ]
    }
   ],
   "source": [
    "clf_model = LogisticRegression().fit(X_train, y_train)\n",
    "clf_model\n",
    "y_pred=clf_model.predict(X_test)\n",
    "\n",
    "resDF = pd.DataFrame({\"Actual\":y_test,\"Predicted\":y_pred})\n",
    "resDF.to_csv(\"Amazon Predict.csv\", index = None)\n",
    "indexes = resDF[resDF['Predicted'] == True].index.tolist()\n",
    "print('Index of predicted products: ' + str(resDF[resDF['Predicted'] == True].index.tolist()))\n",
    "for i in indexes:\n",
    "    print(df1.loc[i])\n"
   ]
  },
  {
   "cell_type": "markdown",
   "metadata": {},
   "source": [
    "Let's look at the actual product that was predicted to become a bestseller.\n",
    "\n",
    "We can see some indication we saw before:\n",
    "1. Ratings - > 100k \n",
    "2. Amazon's choice - 0 negligible.\n",
    "3. Comments - negligible.\n",
    "4. Price - 0-200$ like we saw in the EDA section where the majority of Bestsellers was.\n",
    "5. Stars - > 4 Stars like we predicted before."
   ]
  },
  {
   "cell_type": "code",
   "execution_count": 121,
   "metadata": {},
   "outputs": [
    {
     "name": "stdout",
     "output_type": "stream",
     "text": [
      "2\n"
     ]
    }
   ],
   "source": [
    "# Count number of predicted items\n",
    "\n",
    "count = 0\n",
    "for i in resDF[\"Predicted\"] :\n",
    "    if i == 1 :\n",
    "        count = count + 1\n",
    "print(count)"
   ]
  },
  {
   "cell_type": "markdown",
   "metadata": {},
   "source": [
    "We tried to predict if an item will be a Best Seller on amazon via logistic regression.\n",
    "\n",
    "We found a correlation between the result to the actual bestsellers characteristics, but yet a lot of other items stand in the same criteria and not predicted also.\n",
    "\n",
    "Note: Our prediction not always gives output.\n",
    "\n",
    "We will try to use another Classifier - KNN"
   ]
  },
  {
   "cell_type": "code",
   "execution_count": 122,
   "metadata": {},
   "outputs": [
    {
     "data": {
      "text/html": [
       "<div>\n",
       "<style scoped>\n",
       "    .dataframe tbody tr th:only-of-type {\n",
       "        vertical-align: middle;\n",
       "    }\n",
       "\n",
       "    .dataframe tbody tr th {\n",
       "        vertical-align: top;\n",
       "    }\n",
       "\n",
       "    .dataframe thead th {\n",
       "        text-align: right;\n",
       "    }\n",
       "</style>\n",
       "<table border=\"1\" class=\"dataframe\">\n",
       "  <thead>\n",
       "    <tr style=\"text-align: right;\">\n",
       "      <th></th>\n",
       "      <th>k</th>\n",
       "      <th>train_accuracy</th>\n",
       "      <th>test_accuracy</th>\n",
       "    </tr>\n",
       "  </thead>\n",
       "  <tbody>\n",
       "    <tr>\n",
       "      <th>0</th>\n",
       "      <td>1</td>\n",
       "      <td>0.996885</td>\n",
       "      <td>0.931464</td>\n",
       "    </tr>\n",
       "    <tr>\n",
       "      <th>1</th>\n",
       "      <td>2</td>\n",
       "      <td>0.975857</td>\n",
       "      <td>0.953271</td>\n",
       "    </tr>\n",
       "    <tr>\n",
       "      <th>2</th>\n",
       "      <td>3</td>\n",
       "      <td>0.975078</td>\n",
       "      <td>0.947040</td>\n",
       "    </tr>\n",
       "    <tr>\n",
       "      <th>3</th>\n",
       "      <td>4</td>\n",
       "      <td>0.975857</td>\n",
       "      <td>0.953271</td>\n",
       "    </tr>\n",
       "    <tr>\n",
       "      <th>4</th>\n",
       "      <td>5</td>\n",
       "      <td>0.975857</td>\n",
       "      <td>0.953271</td>\n",
       "    </tr>\n",
       "    <tr>\n",
       "      <th>5</th>\n",
       "      <td>6</td>\n",
       "      <td>0.975857</td>\n",
       "      <td>0.953271</td>\n",
       "    </tr>\n",
       "    <tr>\n",
       "      <th>6</th>\n",
       "      <td>7</td>\n",
       "      <td>0.975857</td>\n",
       "      <td>0.953271</td>\n",
       "    </tr>\n",
       "    <tr>\n",
       "      <th>7</th>\n",
       "      <td>8</td>\n",
       "      <td>0.975857</td>\n",
       "      <td>0.953271</td>\n",
       "    </tr>\n",
       "    <tr>\n",
       "      <th>8</th>\n",
       "      <td>9</td>\n",
       "      <td>0.975857</td>\n",
       "      <td>0.953271</td>\n",
       "    </tr>\n",
       "    <tr>\n",
       "      <th>9</th>\n",
       "      <td>10</td>\n",
       "      <td>0.975857</td>\n",
       "      <td>0.953271</td>\n",
       "    </tr>\n",
       "    <tr>\n",
       "      <th>10</th>\n",
       "      <td>11</td>\n",
       "      <td>0.975857</td>\n",
       "      <td>0.953271</td>\n",
       "    </tr>\n",
       "    <tr>\n",
       "      <th>11</th>\n",
       "      <td>12</td>\n",
       "      <td>0.975857</td>\n",
       "      <td>0.953271</td>\n",
       "    </tr>\n",
       "    <tr>\n",
       "      <th>12</th>\n",
       "      <td>13</td>\n",
       "      <td>0.975857</td>\n",
       "      <td>0.953271</td>\n",
       "    </tr>\n",
       "    <tr>\n",
       "      <th>13</th>\n",
       "      <td>14</td>\n",
       "      <td>0.975857</td>\n",
       "      <td>0.953271</td>\n",
       "    </tr>\n",
       "    <tr>\n",
       "      <th>14</th>\n",
       "      <td>15</td>\n",
       "      <td>0.975857</td>\n",
       "      <td>0.953271</td>\n",
       "    </tr>\n",
       "    <tr>\n",
       "      <th>15</th>\n",
       "      <td>16</td>\n",
       "      <td>0.975857</td>\n",
       "      <td>0.953271</td>\n",
       "    </tr>\n",
       "    <tr>\n",
       "      <th>16</th>\n",
       "      <td>17</td>\n",
       "      <td>0.975857</td>\n",
       "      <td>0.953271</td>\n",
       "    </tr>\n",
       "    <tr>\n",
       "      <th>17</th>\n",
       "      <td>18</td>\n",
       "      <td>0.975857</td>\n",
       "      <td>0.953271</td>\n",
       "    </tr>\n",
       "    <tr>\n",
       "      <th>18</th>\n",
       "      <td>19</td>\n",
       "      <td>0.975857</td>\n",
       "      <td>0.953271</td>\n",
       "    </tr>\n",
       "    <tr>\n",
       "      <th>19</th>\n",
       "      <td>20</td>\n",
       "      <td>0.975857</td>\n",
       "      <td>0.953271</td>\n",
       "    </tr>\n",
       "  </tbody>\n",
       "</table>\n",
       "</div>"
      ],
      "text/plain": [
       "     k  train_accuracy  test_accuracy\n",
       "0    1        0.996885       0.931464\n",
       "1    2        0.975857       0.953271\n",
       "2    3        0.975078       0.947040\n",
       "3    4        0.975857       0.953271\n",
       "4    5        0.975857       0.953271\n",
       "5    6        0.975857       0.953271\n",
       "6    7        0.975857       0.953271\n",
       "7    8        0.975857       0.953271\n",
       "8    9        0.975857       0.953271\n",
       "9   10        0.975857       0.953271\n",
       "10  11        0.975857       0.953271\n",
       "11  12        0.975857       0.953271\n",
       "12  13        0.975857       0.953271\n",
       "13  14        0.975857       0.953271\n",
       "14  15        0.975857       0.953271\n",
       "15  16        0.975857       0.953271\n",
       "16  17        0.975857       0.953271\n",
       "17  18        0.975857       0.953271\n",
       "18  19        0.975857       0.953271\n",
       "19  20        0.975857       0.953271"
      ]
     },
     "execution_count": 122,
     "metadata": {},
     "output_type": "execute_result"
    }
   ],
   "source": [
    "df"
   ]
  },
  {
   "cell_type": "markdown",
   "metadata": {},
   "source": [
    "Let's run KNN to try to classify our best sellers within the items.\n",
    "\n",
    "We'll take a look only on the Stars and Rating from features."
   ]
  },
  {
   "cell_type": "code",
   "execution_count": 15,
   "metadata": {},
   "outputs": [
    {
     "data": {
      "image/png": "[encoded data removed]",
      "text/plain": [
       "<Figure size 720x576 with 1 Axes>"
      ]
     },
     "metadata": {
      "needs_background": "light"
     },
     "output_type": "display_data"
    }
   ],
   "source": [
    "from sklearn.neighbors import KNeighborsClassifier\n",
    "from sklearn import metrics\n",
    "from sklearn.model_selection import train_test_split\n",
    "from sklearn.model_selection import cross_val_score\n",
    "import matplotlib.pyplot as plt\n",
    "from matplotlib.colors import ListedColormap\n",
    "\n",
    "\n",
    "X = X[['Stars', 'Rating']]\n",
    "# y = y\n",
    "\n",
    "# Create color maps\n",
    "cmap_light = ListedColormap(['#FFAAAA', '#AAFFAA', '#AAAAFF'])\n",
    "cmap_bold = ListedColormap(['#FF0000', '#00FF00', '#0000FF'])\n",
    "\n",
    "# plot data\n",
    "plt.figure(figsize=(10, 8))\n",
    "plt.scatter(X.Stars, X.Rating, c=y,  marker=\"o\", cmap=cmap_bold, s=200)\n",
    "\n",
    "\n",
    "x_min, x_max = X.Stars.min() - 1, X.Stars.max() + 1\n",
    "y_min, y_max = X.Rating.min() - 1, X.Rating.max() + 1\n",
    "plt.xlim(x_min, x_max)\n",
    "plt.ylim(y_min, y_max)\n",
    "plt.title('Amazon dataset')\n",
    "plt.xlabel('Stars')\n",
    "plt.ylabel('Rating')\n",
    "plt.show()\n"
   ]
  },
  {
   "cell_type": "markdown",
   "metadata": {},
   "source": [
    "The blue dots above uses as indicators for bestsellers.\n",
    "\n",
    "Now let's train the KNN classifier on the train set and try to asses it's performance by printing the confusion matrix, followed by the accuracy score."
   ]
  },
  {
   "cell_type": "code",
   "execution_count": 16,
   "metadata": {},
   "outputs": [
    {
     "name": "stdout",
     "output_type": "stream",
     "text": [
      "[[317   2]\n",
      " [  9   0]]\n",
      "Accuracy =  0.9664634146341463\n"
     ]
    }
   ],
   "source": [
    "\n",
    "\n",
    "# Split into training and test sets\n",
    "XTrain, XTest, yTrain, yTest = train_test_split(\n",
    "    X, y, random_state=1, test_size=0.2)\n",
    "\n",
    "# set up the model, k-NN classification with k = ?\n",
    "k = 3\n",
    "clf = KNeighborsClassifier(n_neighbors=k)\n",
    "clf.fit(XTrain, yTrain)\n",
    "\n",
    "y_pred = clf.predict(XTest)\n",
    "\n",
    "print(metrics.confusion_matrix(y_true=yTest, y_pred=y_pred))\n",
    "\n",
    "print('Accuracy = ', metrics.accuracy_score(y_true=yTest, y_pred=y_pred))\n"
   ]
  },
  {
   "cell_type": "markdown",
   "metadata": {},
   "source": [
    "Now we are running a test for various values of k to check which value of k (the amount of k = number of categories) gives the best result "
   ]
  },
  {
   "cell_type": "code",
   "execution_count": 17,
   "metadata": {},
   "outputs": [
    {
     "data": {
      "text/html": [
       "<div>\n",
       "<style scoped>\n",
       "    .dataframe tbody tr th:only-of-type {\n",
       "        vertical-align: middle;\n",
       "    }\n",
       "\n",
       "    .dataframe tbody tr th {\n",
       "        vertical-align: top;\n",
       "    }\n",
       "\n",
       "    .dataframe thead th {\n",
       "        text-align: right;\n",
       "    }\n",
       "</style>\n",
       "<table border=\"1\" class=\"dataframe\">\n",
       "  <thead>\n",
       "    <tr style=\"text-align: right;\">\n",
       "      <th></th>\n",
       "      <th>k</th>\n",
       "      <th>train_accuracy</th>\n",
       "      <th>test_accuracy</th>\n",
       "    </tr>\n",
       "  </thead>\n",
       "  <tbody>\n",
       "    <tr>\n",
       "      <th>0</th>\n",
       "      <td>1</td>\n",
       "      <td>0.999235</td>\n",
       "      <td>0.954268</td>\n",
       "    </tr>\n",
       "    <tr>\n",
       "      <th>1</th>\n",
       "      <td>2</td>\n",
       "      <td>0.971713</td>\n",
       "      <td>0.972561</td>\n",
       "    </tr>\n",
       "    <tr>\n",
       "      <th>2</th>\n",
       "      <td>3</td>\n",
       "      <td>0.972477</td>\n",
       "      <td>0.966463</td>\n",
       "    </tr>\n",
       "    <tr>\n",
       "      <th>3</th>\n",
       "      <td>4</td>\n",
       "      <td>0.971713</td>\n",
       "      <td>0.972561</td>\n",
       "    </tr>\n",
       "    <tr>\n",
       "      <th>4</th>\n",
       "      <td>5</td>\n",
       "      <td>0.971713</td>\n",
       "      <td>0.972561</td>\n",
       "    </tr>\n",
       "    <tr>\n",
       "      <th>5</th>\n",
       "      <td>6</td>\n",
       "      <td>0.971713</td>\n",
       "      <td>0.972561</td>\n",
       "    </tr>\n",
       "    <tr>\n",
       "      <th>6</th>\n",
       "      <td>7</td>\n",
       "      <td>0.971713</td>\n",
       "      <td>0.972561</td>\n",
       "    </tr>\n",
       "    <tr>\n",
       "      <th>7</th>\n",
       "      <td>8</td>\n",
       "      <td>0.971713</td>\n",
       "      <td>0.972561</td>\n",
       "    </tr>\n",
       "    <tr>\n",
       "      <th>8</th>\n",
       "      <td>9</td>\n",
       "      <td>0.971713</td>\n",
       "      <td>0.972561</td>\n",
       "    </tr>\n",
       "    <tr>\n",
       "      <th>9</th>\n",
       "      <td>10</td>\n",
       "      <td>0.971713</td>\n",
       "      <td>0.972561</td>\n",
       "    </tr>\n",
       "    <tr>\n",
       "      <th>10</th>\n",
       "      <td>11</td>\n",
       "      <td>0.971713</td>\n",
       "      <td>0.972561</td>\n",
       "    </tr>\n",
       "    <tr>\n",
       "      <th>11</th>\n",
       "      <td>12</td>\n",
       "      <td>0.971713</td>\n",
       "      <td>0.972561</td>\n",
       "    </tr>\n",
       "    <tr>\n",
       "      <th>12</th>\n",
       "      <td>13</td>\n",
       "      <td>0.971713</td>\n",
       "      <td>0.972561</td>\n",
       "    </tr>\n",
       "    <tr>\n",
       "      <th>13</th>\n",
       "      <td>14</td>\n",
       "      <td>0.971713</td>\n",
       "      <td>0.972561</td>\n",
       "    </tr>\n",
       "    <tr>\n",
       "      <th>14</th>\n",
       "      <td>15</td>\n",
       "      <td>0.971713</td>\n",
       "      <td>0.972561</td>\n",
       "    </tr>\n",
       "    <tr>\n",
       "      <th>15</th>\n",
       "      <td>16</td>\n",
       "      <td>0.971713</td>\n",
       "      <td>0.972561</td>\n",
       "    </tr>\n",
       "    <tr>\n",
       "      <th>16</th>\n",
       "      <td>17</td>\n",
       "      <td>0.971713</td>\n",
       "      <td>0.972561</td>\n",
       "    </tr>\n",
       "    <tr>\n",
       "      <th>17</th>\n",
       "      <td>18</td>\n",
       "      <td>0.971713</td>\n",
       "      <td>0.972561</td>\n",
       "    </tr>\n",
       "    <tr>\n",
       "      <th>18</th>\n",
       "      <td>19</td>\n",
       "      <td>0.971713</td>\n",
       "      <td>0.972561</td>\n",
       "    </tr>\n",
       "    <tr>\n",
       "      <th>19</th>\n",
       "      <td>20</td>\n",
       "      <td>0.971713</td>\n",
       "      <td>0.972561</td>\n",
       "    </tr>\n",
       "  </tbody>\n",
       "</table>\n",
       "</div>"
      ],
      "text/plain": [
       "     k  train_accuracy  test_accuracy\n",
       "0    1        0.999235       0.954268\n",
       "1    2        0.971713       0.972561\n",
       "2    3        0.972477       0.966463\n",
       "3    4        0.971713       0.972561\n",
       "4    5        0.971713       0.972561\n",
       "5    6        0.971713       0.972561\n",
       "6    7        0.971713       0.972561\n",
       "7    8        0.971713       0.972561\n",
       "8    9        0.971713       0.972561\n",
       "9   10        0.971713       0.972561\n",
       "10  11        0.971713       0.972561\n",
       "11  12        0.971713       0.972561\n",
       "12  13        0.971713       0.972561\n",
       "13  14        0.971713       0.972561\n",
       "14  15        0.971713       0.972561\n",
       "15  16        0.971713       0.972561\n",
       "16  17        0.971713       0.972561\n",
       "17  18        0.971713       0.972561\n",
       "18  19        0.971713       0.972561\n",
       "19  20        0.971713       0.972561"
      ]
     },
     "execution_count": 17,
     "metadata": {},
     "output_type": "execute_result"
    }
   ],
   "source": [
    "k_s = []\n",
    "train_accuracies = []\n",
    "test_accuracies = []\n",
    "for k in range(1, 21):\n",
    "    clf = KNeighborsClassifier(n_neighbors=k)\n",
    "    clf.fit(XTrain, yTrain)\n",
    "    y_pred_train = clf.predict(XTrain)\n",
    "    y_pred = clf.predict(XTest)\n",
    "    k_s.append(k)\n",
    "    train_accuracies.append(metrics.accuracy_score(\n",
    "        y_true=yTrain, y_pred=y_pred_train))\n",
    "    test_accuracies.append(metrics.accuracy_score(y_true=yTest, y_pred=y_pred))\n",
    "\n",
    "df = pd.DataFrame({\"k\": k_s, \"train_accuracy\": train_accuracies,\n",
    "                  \"test_accuracy\": test_accuracies})\n",
    "df\n"
   ]
  },
  {
   "cell_type": "markdown",
   "metadata": {},
   "source": [
    "We found that the best k is k = 1 with accuracy score of 0.948171 which is the min.\n",
    "\n",
    "We will create the classification visualization for the knn classifier (based on the selected k). \n"
   ]
  },
  {
   "cell_type": "code",
   "execution_count": 21,
   "metadata": {},
   "outputs": [
    {
     "name": "stderr",
     "output_type": "stream",
     "text": [
      "c:\\Users\\Yaniv\\anaconda3\\envs\\datascience\\lib\\site-packages\\sklearn\\base.py:450: UserWarning: X does not have valid feature names, but KNeighborsClassifier was fitted with feature names\n",
      "  warnings.warn(\n"
     ]
    },
    {
     "data": {
      "image/png": "[encoded data removed]",
      "text/plain": [
       "<Figure size 432x288 with 1 Axes>"
      ]
     },
     "metadata": {
      "needs_background": "light"
     },
     "output_type": "display_data"
    }
   ],
   "source": [
    "k = 1\n",
    "clf = KNeighborsClassifier(n_neighbors=k)\n",
    "clf.fit(X, y)\n",
    "\n",
    "# plot classification\n",
    "xx, yy = np.meshgrid(np.linspace(x_min, x_max, 400),\n",
    "                     np.linspace(y_min, y_max, 400))\n",
    "zz = clf.predict(np.c_[xx.ravel(), yy.ravel()]).reshape(xx.shape)\n",
    "plt.pcolormesh(xx, yy, zz, cmap=cmap_light)\n",
    "\n",
    "# plot data\n",
    "plt.scatter(X.Stars, X.Rating, c=y, cmap=cmap_bold, s=200)\n",
    "\n",
    "plt.title('Classification of dataset using k-NN with k = ' + str(k))\n",
    "plt.xlabel('Stars')\n",
    "plt.ylabel('Rating')\n",
    "plt.xlim(x_min, x_max)\n",
    "plt.ylim(y_min, y_max)\n",
    "plt.show()\n"
   ]
  },
  {
   "cell_type": "markdown",
   "metadata": {},
   "source": [
    "Cross validation to estimate the accuracy of a knn model on the dataset : checking for better k.\n",
    "1. Splitting the data\n",
    "2. fitting a model and computing the score 10 consecutive times with different splits each time\n",
    "3. printing overall score for the model."
   ]
  },
  {
   "cell_type": "code",
   "execution_count": 127,
   "metadata": {},
   "outputs": [
    {
     "data": {
      "text/plain": [
       "array([0.9689441, 0.9689441, 0.9689441, 0.9689441, 0.9689441, 0.975    ,\n",
       "       0.975    , 0.975    , 0.975    , 0.96875  ])"
      ]
     },
     "execution_count": 127,
     "metadata": {},
     "output_type": "execute_result"
    }
   ],
   "source": [
    "clf = KNeighborsClassifier(n_neighbors=5)\n",
    "scores = cross_val_score(clf, X, y, cv=10)\n",
    "\n",
    "scores\n"
   ]
  },
  {
   "cell_type": "code",
   "execution_count": 128,
   "metadata": {},
   "outputs": [
    {
     "name": "stdout",
     "output_type": "stream",
     "text": [
      "Overall accuracy: 0.97\n"
     ]
    }
   ],
   "source": [
    "\n",
    "print(\"Overall accuracy: %0.2f\" % scores.mean())\n"
   ]
  },
  {
   "cell_type": "code",
   "execution_count": 129,
   "metadata": {},
   "outputs": [
    {
     "name": "stdout",
     "output_type": "stream",
     "text": [
      "highest result with X-fold, x= 19\n"
     ]
    }
   ],
   "source": [
    "clf = KNeighborsClassifier(n_neighbors=5)\n",
    "scores = cross_val_score(clf, X, y, cv=10)\n",
    "scores_list=[cross_val_score(clf, X, y, cv=flds).mean() for flds in range(3,26)]\n",
    "print(\"highest result with X-fold, x=\",np.argmax(scores_list)+3)"
   ]
  },
  {
   "cell_type": "markdown",
   "metadata": {},
   "source": [
    "GridSearchCV\n",
    "We use the scoring parameter in order to define which evaluation score to optimize."
   ]
  },
  {
   "cell_type": "code",
   "execution_count": 130,
   "metadata": {},
   "outputs": [
    {
     "name": "stdout",
     "output_type": "stream",
     "text": [
      "best parameter set is: {'n_neighbors': 7}  and its score was 0.9758572470817122\n"
     ]
    }
   ],
   "source": [
    "from sklearn.model_selection import GridSearchCV\n",
    "from sklearn.metrics import make_scorer\n",
    "\n",
    "parameters = {'n_neighbors': range(1, 25, 2)}\n",
    "knn = KNeighborsClassifier()\n",
    "clf = GridSearchCV(knn, parameters, scoring=make_scorer(\n",
    "    metrics.accuracy_score, greater_is_better=True))\n",
    "clf.fit(XTrain, yTrain)\n",
    "\n",
    "print(\"best parameter set is:\", clf.best_params_,\n",
    "      \" and its score was\", clf.best_score_)\n",
    "\n",
    "#if you want to see all iterations internal numbers uncomment the next line\n",
    "#print(clf.cv_results_.items())\n"
   ]
  },
  {
   "cell_type": "markdown",
   "metadata": {},
   "source": [
    "# Unsupervised Learning"
   ]
  },
  {
   "cell_type": "code",
   "execution_count": 22,
   "metadata": {},
   "outputs": [
    {
     "data": {
      "text/html": [
       "<div>\n",
       "<style scoped>\n",
       "    .dataframe tbody tr th:only-of-type {\n",
       "        vertical-align: middle;\n",
       "    }\n",
       "\n",
       "    .dataframe tbody tr th {\n",
       "        vertical-align: top;\n",
       "    }\n",
       "\n",
       "    .dataframe thead th {\n",
       "        text-align: right;\n",
       "    }\n",
       "</style>\n",
       "<table border=\"1\" class=\"dataframe\">\n",
       "  <thead>\n",
       "    <tr style=\"text-align: right;\">\n",
       "      <th></th>\n",
       "      <th>Name</th>\n",
       "      <th>Brand</th>\n",
       "      <th>Rating</th>\n",
       "      <th>BestSeller</th>\n",
       "      <th>AmazonChoice</th>\n",
       "      <th>Comments</th>\n",
       "      <th>Price</th>\n",
       "      <th>Stars</th>\n",
       "    </tr>\n",
       "  </thead>\n",
       "  <tbody>\n",
       "    <tr>\n",
       "      <th>0</th>\n",
       "      <td>NOCO NUSB211NA 10W USB Power Adapter, 2.1A 5V ...</td>\n",
       "      <td>NOCO</td>\n",
       "      <td>3869.0</td>\n",
       "      <td>0</td>\n",
       "      <td>0</td>\n",
       "      <td>28.0</td>\n",
       "      <td>13.95</td>\n",
       "      <td>4.7</td>\n",
       "    </tr>\n",
       "    <tr>\n",
       "      <th>1</th>\n",
       "      <td>Amazfit Band 5 Activity Fitness Tracker with A...</td>\n",
       "      <td>Amazfit</td>\n",
       "      <td>21158.0</td>\n",
       "      <td>0</td>\n",
       "      <td>0</td>\n",
       "      <td>1000.0</td>\n",
       "      <td>29.88</td>\n",
       "      <td>4.1</td>\n",
       "    </tr>\n",
       "    <tr>\n",
       "      <th>2</th>\n",
       "      <td>Amazon Basics Universal Travel Case Organizer ...</td>\n",
       "      <td>AmazonBasics</td>\n",
       "      <td>16242.0</td>\n",
       "      <td>0</td>\n",
       "      <td>1</td>\n",
       "      <td>277.0</td>\n",
       "      <td>14.44</td>\n",
       "      <td>4.6</td>\n",
       "    </tr>\n",
       "    <tr>\n",
       "      <th>3</th>\n",
       "      <td>Amazon Glow with Tangram Bits | Learn, Play, R...</td>\n",
       "      <td>Amazon</td>\n",
       "      <td>215.0</td>\n",
       "      <td>0</td>\n",
       "      <td>1</td>\n",
       "      <td>31.0</td>\n",
       "      <td>329.98</td>\n",
       "      <td>4.4</td>\n",
       "    </tr>\n",
       "    <tr>\n",
       "      <th>4</th>\n",
       "      <td>Echo Show 5 (2nd Gen, 2021 release) - Deep Sea...</td>\n",
       "      <td>Amazon</td>\n",
       "      <td>928.0</td>\n",
       "      <td>0</td>\n",
       "      <td>1</td>\n",
       "      <td>21.0</td>\n",
       "      <td>114.98</td>\n",
       "      <td>4.7</td>\n",
       "    </tr>\n",
       "    <tr>\n",
       "      <th>...</th>\n",
       "      <td>...</td>\n",
       "      <td>...</td>\n",
       "      <td>...</td>\n",
       "      <td>...</td>\n",
       "      <td>...</td>\n",
       "      <td>...</td>\n",
       "      <td>...</td>\n",
       "      <td>...</td>\n",
       "    </tr>\n",
       "    <tr>\n",
       "      <th>1631</th>\n",
       "      <td>American Eagle Gift Card</td>\n",
       "      <td>American Eagle</td>\n",
       "      <td>5999.0</td>\n",
       "      <td>0</td>\n",
       "      <td>0</td>\n",
       "      <td>4.0</td>\n",
       "      <td>25.00</td>\n",
       "      <td>4.9</td>\n",
       "    </tr>\n",
       "    <tr>\n",
       "      <th>1632</th>\n",
       "      <td>Amazon.com Gift Cards - As a Bookmark</td>\n",
       "      <td>Amazon</td>\n",
       "      <td>3950.0</td>\n",
       "      <td>0</td>\n",
       "      <td>0</td>\n",
       "      <td>15.0</td>\n",
       "      <td>100.00</td>\n",
       "      <td>4.9</td>\n",
       "    </tr>\n",
       "    <tr>\n",
       "      <th>1633</th>\n",
       "      <td>Amazon.com Gift Card in a Gift Tag</td>\n",
       "      <td>Amazon</td>\n",
       "      <td>7520.0</td>\n",
       "      <td>0</td>\n",
       "      <td>0</td>\n",
       "      <td>12.0</td>\n",
       "      <td>10.00</td>\n",
       "      <td>4.9</td>\n",
       "    </tr>\n",
       "    <tr>\n",
       "      <th>1634</th>\n",
       "      <td>Amazon.com $10 Gift Cards, Pack of 3 (Holiday ...</td>\n",
       "      <td>Amazon</td>\n",
       "      <td>3014.0</td>\n",
       "      <td>0</td>\n",
       "      <td>0</td>\n",
       "      <td>3.0</td>\n",
       "      <td>30.00</td>\n",
       "      <td>4.9</td>\n",
       "    </tr>\n",
       "    <tr>\n",
       "      <th>1635</th>\n",
       "      <td>Frito-Lay Baked &amp; Popped Mix Variety Pack, Pac...</td>\n",
       "      <td>Frito-Lay</td>\n",
       "      <td>17706.0</td>\n",
       "      <td>0</td>\n",
       "      <td>0</td>\n",
       "      <td>33.0</td>\n",
       "      <td>28.00</td>\n",
       "      <td>4.6</td>\n",
       "    </tr>\n",
       "  </tbody>\n",
       "</table>\n",
       "<p>1636 rows × 8 columns</p>\n",
       "</div>"
      ],
      "text/plain": [
       "                                                   Name            Brand  \\\n",
       "0     NOCO NUSB211NA 10W USB Power Adapter, 2.1A 5V ...             NOCO   \n",
       "1     Amazfit Band 5 Activity Fitness Tracker with A...          Amazfit   \n",
       "2     Amazon Basics Universal Travel Case Organizer ...     AmazonBasics   \n",
       "3     Amazon Glow with Tangram Bits | Learn, Play, R...           Amazon   \n",
       "4     Echo Show 5 (2nd Gen, 2021 release) - Deep Sea...           Amazon   \n",
       "...                                                 ...              ...   \n",
       "1631                           American Eagle Gift Card   American Eagle   \n",
       "1632              Amazon.com Gift Cards - As a Bookmark           Amazon   \n",
       "1633                 Amazon.com Gift Card in a Gift Tag           Amazon   \n",
       "1634  Amazon.com $10 Gift Cards, Pack of 3 (Holiday ...           Amazon   \n",
       "1635  Frito-Lay Baked & Popped Mix Variety Pack, Pac...        Frito-Lay   \n",
       "\n",
       "       Rating  BestSeller  AmazonChoice  Comments   Price  Stars  \n",
       "0      3869.0           0             0      28.0   13.95    4.7  \n",
       "1     21158.0           0             0    1000.0   29.88    4.1  \n",
       "2     16242.0           0             1     277.0   14.44    4.6  \n",
       "3       215.0           0             1      31.0  329.98    4.4  \n",
       "4       928.0           0             1      21.0  114.98    4.7  \n",
       "...       ...         ...           ...       ...     ...    ...  \n",
       "1631   5999.0           0             0       4.0   25.00    4.9  \n",
       "1632   3950.0           0             0      15.0  100.00    4.9  \n",
       "1633   7520.0           0             0      12.0   10.00    4.9  \n",
       "1634   3014.0           0             0       3.0   30.00    4.9  \n",
       "1635  17706.0           0             0      33.0   28.00    4.6  \n",
       "\n",
       "[1636 rows x 8 columns]"
      ]
     },
     "execution_count": 22,
     "metadata": {},
     "output_type": "execute_result"
    }
   ],
   "source": [
    "import pandas as pd\n",
    "import numpy as np\n",
    "\n",
    "import matplotlib.pyplot as plt\n",
    "import matplotlib.cm as cm\n",
    "import seaborn as sns\n",
    "\n",
    "import sklearn\n",
    "from sklearn import cluster\n",
    "\n",
    "from sklearn import metrics, preprocessing, neighbors, cluster\n",
    "from sklearn.cluster import KMeans, AgglomerativeClustering, DBSCAN\n",
    "from scipy.cluster.hierarchy import dendrogram, linkage, fcluster\n",
    "\n",
    "from sklearn.neighbors import kneighbors_graph\n",
    "from sklearn.preprocessing import StandardScaler\n",
    "\n",
    "from sklearn.metrics import silhouette_samples, silhouette_score\n",
    "\n",
    "%matplotlib inline\n",
    "plt.rcParams['figure.figsize'] = (10, 6)\n",
    "plt.style.use('ggplot')\n",
    "# Create color maps\n",
    "from matplotlib.colors import ListedColormap\n",
    "cmap = ListedColormap([\"#e41a1c\",\"#984ea3\",\"#a65628\",\"#377eb8\",\"#ffff33\",\"#4daf4a\",\"#ff7f00\"])\n",
    "\n",
    "df = pd.read_csv(\"Amazon Items Cleaned.csv\")\n",
    "df"
   ]
  },
  {
   "cell_type": "markdown",
   "metadata": {},
   "source": [
    "Transfering DataFrame to numeric values"
   ]
  },
  {
   "cell_type": "code",
   "execution_count": 23,
   "metadata": {},
   "outputs": [
    {
     "data": {
      "text/html": [
       "<div>\n",
       "<style scoped>\n",
       "    .dataframe tbody tr th:only-of-type {\n",
       "        vertical-align: middle;\n",
       "    }\n",
       "\n",
       "    .dataframe tbody tr th {\n",
       "        vertical-align: top;\n",
       "    }\n",
       "\n",
       "    .dataframe thead th {\n",
       "        text-align: right;\n",
       "    }\n",
       "</style>\n",
       "<table border=\"1\" class=\"dataframe\">\n",
       "  <thead>\n",
       "    <tr style=\"text-align: right;\">\n",
       "      <th></th>\n",
       "      <th>Name</th>\n",
       "      <th>Rating</th>\n",
       "      <th>BestSeller</th>\n",
       "      <th>AmazonChoice</th>\n",
       "      <th>Comments</th>\n",
       "      <th>Price</th>\n",
       "      <th>Stars</th>\n",
       "    </tr>\n",
       "  </thead>\n",
       "  <tbody>\n",
       "    <tr>\n",
       "      <th>0</th>\n",
       "      <td>1</td>\n",
       "      <td>3869.0</td>\n",
       "      <td>0</td>\n",
       "      <td>0</td>\n",
       "      <td>28.0</td>\n",
       "      <td>13.95</td>\n",
       "      <td>4.7</td>\n",
       "    </tr>\n",
       "    <tr>\n",
       "      <th>1</th>\n",
       "      <td>2</td>\n",
       "      <td>21158.0</td>\n",
       "      <td>0</td>\n",
       "      <td>0</td>\n",
       "      <td>1000.0</td>\n",
       "      <td>29.88</td>\n",
       "      <td>4.1</td>\n",
       "    </tr>\n",
       "    <tr>\n",
       "      <th>2</th>\n",
       "      <td>3</td>\n",
       "      <td>16242.0</td>\n",
       "      <td>0</td>\n",
       "      <td>1</td>\n",
       "      <td>277.0</td>\n",
       "      <td>14.44</td>\n",
       "      <td>4.6</td>\n",
       "    </tr>\n",
       "    <tr>\n",
       "      <th>3</th>\n",
       "      <td>4</td>\n",
       "      <td>215.0</td>\n",
       "      <td>0</td>\n",
       "      <td>1</td>\n",
       "      <td>31.0</td>\n",
       "      <td>329.98</td>\n",
       "      <td>4.4</td>\n",
       "    </tr>\n",
       "    <tr>\n",
       "      <th>4</th>\n",
       "      <td>5</td>\n",
       "      <td>928.0</td>\n",
       "      <td>0</td>\n",
       "      <td>1</td>\n",
       "      <td>21.0</td>\n",
       "      <td>114.98</td>\n",
       "      <td>4.7</td>\n",
       "    </tr>\n",
       "    <tr>\n",
       "      <th>...</th>\n",
       "      <td>...</td>\n",
       "      <td>...</td>\n",
       "      <td>...</td>\n",
       "      <td>...</td>\n",
       "      <td>...</td>\n",
       "      <td>...</td>\n",
       "      <td>...</td>\n",
       "    </tr>\n",
       "    <tr>\n",
       "      <th>1631</th>\n",
       "      <td>660</td>\n",
       "      <td>5999.0</td>\n",
       "      <td>0</td>\n",
       "      <td>0</td>\n",
       "      <td>4.0</td>\n",
       "      <td>25.00</td>\n",
       "      <td>4.9</td>\n",
       "    </tr>\n",
       "    <tr>\n",
       "      <th>1632</th>\n",
       "      <td>1439</td>\n",
       "      <td>3950.0</td>\n",
       "      <td>0</td>\n",
       "      <td>0</td>\n",
       "      <td>15.0</td>\n",
       "      <td>100.00</td>\n",
       "      <td>4.9</td>\n",
       "    </tr>\n",
       "    <tr>\n",
       "      <th>1633</th>\n",
       "      <td>1440</td>\n",
       "      <td>7520.0</td>\n",
       "      <td>0</td>\n",
       "      <td>0</td>\n",
       "      <td>12.0</td>\n",
       "      <td>10.00</td>\n",
       "      <td>4.9</td>\n",
       "    </tr>\n",
       "    <tr>\n",
       "      <th>1634</th>\n",
       "      <td>1441</td>\n",
       "      <td>3014.0</td>\n",
       "      <td>0</td>\n",
       "      <td>0</td>\n",
       "      <td>3.0</td>\n",
       "      <td>30.00</td>\n",
       "      <td>4.9</td>\n",
       "    </tr>\n",
       "    <tr>\n",
       "      <th>1635</th>\n",
       "      <td>1442</td>\n",
       "      <td>17706.0</td>\n",
       "      <td>0</td>\n",
       "      <td>0</td>\n",
       "      <td>33.0</td>\n",
       "      <td>28.00</td>\n",
       "      <td>4.6</td>\n",
       "    </tr>\n",
       "  </tbody>\n",
       "</table>\n",
       "<p>1636 rows × 7 columns</p>\n",
       "</div>"
      ],
      "text/plain": [
       "      Name   Rating  BestSeller  AmazonChoice  Comments   Price  Stars\n",
       "0        1   3869.0           0             0      28.0   13.95    4.7\n",
       "1        2  21158.0           0             0    1000.0   29.88    4.1\n",
       "2        3  16242.0           0             1     277.0   14.44    4.6\n",
       "3        4    215.0           0             1      31.0  329.98    4.4\n",
       "4        5    928.0           0             1      21.0  114.98    4.7\n",
       "...    ...      ...         ...           ...       ...     ...    ...\n",
       "1631   660   5999.0           0             0       4.0   25.00    4.9\n",
       "1632  1439   3950.0           0             0      15.0  100.00    4.9\n",
       "1633  1440   7520.0           0             0      12.0   10.00    4.9\n",
       "1634  1441   3014.0           0             0       3.0   30.00    4.9\n",
       "1635  1442  17706.0           0             0      33.0   28.00    4.6\n",
       "\n",
       "[1636 rows x 7 columns]"
      ]
     },
     "execution_count": 23,
     "metadata": {},
     "output_type": "execute_result"
    }
   ],
   "source": [
    "def transfer_str_to_numeric_vals(dataset,str_col,id_col_to_remove):\n",
    "    DF = dataset.copy()\n",
    "    for column in DF :\n",
    "        DF[str_col] = pd.factorize(DF[str_col])[0] + 1\n",
    "    DF.pop(id_col_to_remove)\n",
    "    return DF\n",
    "\n",
    "num_dataset = transfer_str_to_numeric_vals(df, 'Name', 'Brand')\n",
    "num_dataset"
   ]
  },
  {
   "cell_type": "markdown",
   "metadata": {},
   "source": [
    "Scaling DataSet"
   ]
  },
  {
   "cell_type": "code",
   "execution_count": 24,
   "metadata": {},
   "outputs": [
    {
     "data": {
      "text/plain": [
       "array([[-1.59221768, -0.12708992, -0.17009062, ..., -0.27852636,\n",
       "        -0.33342472,  0.74935901],\n",
       "       [-1.5898465 ,  0.53877864, -0.17009062, ...,  5.62962395,\n",
       "        -0.2580302 , -1.19299854],\n",
       "       [-1.58747532,  0.34944381, -0.17009062, ...,  1.23498128,\n",
       "        -0.33110562,  0.42563275],\n",
       "       ...,\n",
       "       [ 1.81990883,  0.0135247 , -0.17009062, ..., -0.37577987,\n",
       "        -0.35211953,  1.39681153],\n",
       "       [ 1.82228001, -0.16001939, -0.17009062, ..., -0.43048496,\n",
       "        -0.25746226,  1.39681153],\n",
       "       [ 1.82465119,  0.40582831, -0.17009062, ..., -0.24813464,\n",
       "        -0.26692798,  0.42563275]])"
      ]
     },
     "execution_count": 24,
     "metadata": {},
     "output_type": "execute_result"
    }
   ],
   "source": [
    "def scale_dataset(dataset):\n",
    "    scaler = StandardScaler()\n",
    "    \n",
    "    DFScaled = scaler.fit_transform(dataset)\n",
    "    \n",
    "    return DFScaled\n",
    "\n",
    "dfScaled = scale_dataset(num_dataset)\n",
    "dfScaled"
   ]
  },
  {
   "cell_type": "code",
   "execution_count": 25,
   "metadata": {},
   "outputs": [
    {
     "data": {
      "image/png": "[encoded data removed]",
      "text/plain": [
       "<Figure size 720x432 with 1 Axes>"
      ]
     },
     "metadata": {},
     "output_type": "display_data"
    }
   ],
   "source": [
    "model = KMeans(n_clusters=5, n_init=1, init='random', max_iter=1)\n",
    "y_pred = model.fit_predict(dfScaled)\n",
    "plt.scatter(dfScaled[:, 0], dfScaled[:, 1], c=y_pred,  marker=\"o\", cmap=cmap);"
   ]
  },
  {
   "cell_type": "markdown",
   "metadata": {},
   "source": [
    "K-means"
   ]
  },
  {
   "cell_type": "code",
   "execution_count": 26,
   "metadata": {},
   "outputs": [],
   "source": [
    "def perform_k_means(dataset, num_clusters, init_val, n_init_val, rand_state):\n",
    "    model = KMeans(n_clusters = num_clusters, n_init = n_init_val, init = init_val, random_state = rand_state)\n",
    "    predicted_vals = model.fit_predict(dataset)\n",
    "        \n",
    "    return model, predicted_vals"
   ]
  },
  {
   "cell_type": "markdown",
   "metadata": {},
   "source": [
    "Find best initialization parameters for K-means"
   ]
  },
  {
   "cell_type": "code",
   "execution_count": 27,
   "metadata": {},
   "outputs": [
    {
     "name": "stdout",
     "output_type": "stream",
     "text": [
      "(KMeans(n_clusters=3, n_init=1, random_state=42), array([0, 0, 1, ..., 0, 0, 0]))\n",
      "(KMeans(n_clusters=3, n_init=5, random_state=42), array([0, 0, 1, ..., 0, 0, 0]))\n",
      "(KMeans(n_clusters=3, random_state=42), array([0, 0, 1, ..., 0, 0, 0]))\n",
      "8015.931546209357\n",
      "k-means++\n",
      "10\n"
     ]
    }
   ],
   "source": [
    "def get_best_init_params_for_k_means(dataset, num_clusters, init_options, n_init_options, rand_state):\n",
    "    \n",
    "    score_list = list()\n",
    "            \n",
    "    for i in n_init_options :\n",
    "        for j in init_options :\n",
    "            Kresult = perform_k_means(dataset, num_clusters, j, i,rand_state)\n",
    "            score_list.append(Kresult[0].inertia_)\n",
    "        print(Kresult)\n",
    "    \n",
    "    best_score = score_list[0]\n",
    "    \n",
    "    for i in range(0,len(score_list),1) :\n",
    "        if score_list[i] < best_score :\n",
    "            best_score = score_list[i]\n",
    "            best_init_val = Kresult[0].init\n",
    "            best_n_init_val = Kresult[0].n_init            \n",
    "    \n",
    "    return best_score, best_init_val, best_n_init_val\n",
    "\n",
    "num_clusters = 3\n",
    "init_options = ['random', 'k-means++']\n",
    "n_init_options = [1,5,10]\n",
    "rand_state = 42\n",
    "\n",
    "best_score, best_init_val, best_n_init_val = get_best_init_params_for_k_means(dfScaled, num_clusters, init_options, n_init_options, rand_state)    \n",
    "print(best_score)\n",
    "print(best_init_val)\n",
    "print(best_n_init_val)"
   ]
  },
  {
   "cell_type": "code",
   "execution_count": 28,
   "metadata": {},
   "outputs": [
    {
     "name": "stderr",
     "output_type": "stream",
     "text": [
      "c:\\Users\\Yaniv\\anaconda3\\envs\\datascience\\lib\\site-packages\\sklearn\\cluster\\_kmeans.py:1036: UserWarning: KMeans is known to have a memory leak on Windows with MKL, when there are less chunks than available threads. You can avoid it by setting the environment variable OMP_NUM_THREADS=7.\n",
      "  warnings.warn(\n"
     ]
    },
    {
     "data": {
      "text/plain": [
       "[11452.0,\n",
       " 9663.940596011535,\n",
       " 8015.931546209357,\n",
       " 6843.999726735043,\n",
       " 5608.589002664361,\n",
       " 4886.98633570482,\n",
       " 4037.563070597593,\n",
       " 3434.466154971799,\n",
       " 3142.6153432605965]"
      ]
     },
     "execution_count": 28,
     "metadata": {},
     "output_type": "execute_result"
    }
   ],
   "source": [
    "def compare_number_of_clusters(dataset, num_cluster_options, init_val, n_init_val, rand_state):\n",
    "\n",
    "    lst_scores = list()\n",
    "            \n",
    "    for i in num_cluster_options :\n",
    "        Kresult = perform_k_means(dataset, i, init_val, n_init_val, rand_state)\n",
    "        lst_scores.append(Kresult[0].inertia_)\n",
    "            \n",
    "    return lst_scores\n",
    "\n",
    "num_clusters_options = [1,2,3,4,5,6,7,8,9]\n",
    "init_val = 'k-means++'\n",
    "n_init_val = 10\n",
    "rand_state = 42\n",
    "\n",
    "scores = compare_number_of_clusters(dfScaled, num_clusters_options, init_val, n_init_val, rand_state)\n",
    "scores"
   ]
  },
  {
   "cell_type": "code",
   "execution_count": 29,
   "metadata": {},
   "outputs": [
    {
     "name": "stderr",
     "output_type": "stream",
     "text": [
      "c:\\Users\\Yaniv\\anaconda3\\envs\\datascience\\lib\\site-packages\\sklearn\\cluster\\_kmeans.py:1036: UserWarning: KMeans is known to have a memory leak on Windows with MKL, when there are less chunks than available threads. You can avoid it by setting the environment variable OMP_NUM_THREADS=7.\n",
      "  warnings.warn(\n"
     ]
    },
    {
     "data": {
      "image/png": "[encoded data removed]",
      "text/plain": [
       "<Figure size 720x432 with 1 Axes>"
      ]
     },
     "metadata": {},
     "output_type": "display_data"
    }
   ],
   "source": [
    "scores_2_3 = compare_number_of_clusters(dfScaled, num_clusters_options, init_val, n_init_val, rand_state)\n",
    "\n",
    "plt.plot(num_clusters_options,scores_2_3)\n",
    "plt.title('The Elbow Method')\n",
    "plt.xlabel('Number of clusters')\n",
    "plt.ylabel('SSE')\n",
    "plt.show()"
   ]
  },
  {
   "cell_type": "markdown",
   "metadata": {},
   "source": [
    "With the elbow method we can see that the best number of clusters is 8"
   ]
  },
  {
   "cell_type": "markdown",
   "metadata": {},
   "source": [
    "Evaluation of K-means with silhouette score"
   ]
  },
  {
   "cell_type": "code",
   "execution_count": 30,
   "metadata": {},
   "outputs": [
    {
     "name": "stdout",
     "output_type": "stream",
     "text": [
      "Best number of clusters is : 8\n",
      "The best score is : 0.34672514888171496\n"
     ]
    }
   ],
   "source": [
    "def get_best_num_of_clusters_for_k_means(dataset, num_cluster_options, init_val, n_init_val, rand_state):\n",
    "    \n",
    "    lst_scores = list()\n",
    "    silhouette_lst = list()\n",
    "    Klist = list()\n",
    "            \n",
    "    for i in num_cluster_options :\n",
    "        Kresult = perform_k_means(dataset, i, init_val, n_init_val, rand_state)\n",
    "        Klist.append(Kresult[0].n_clusters)\n",
    "        lst_scores.append(Kresult[1])\n",
    "        \n",
    "    best_score = silhouette_score(dataset, lst_scores[0])\n",
    "        \n",
    "    for i in range(0,len(lst_scores),1) :\n",
    "        if silhouette_score(dataset, lst_scores[i]) > best_score :\n",
    "            best_score = silhouette_score(dataset, lst_scores[i])\n",
    "            num_clusters = Klist[i]\n",
    "        \n",
    "    return best_score, num_clusters\n",
    "\n",
    "num_clusters_options = [2,3,4,5,6,7,8,9]\n",
    "init_val = 'k-means++'\n",
    "n_init_val = 1\n",
    "rand_state = 42\n",
    "\n",
    "best_score, best_num_clusters = get_best_num_of_clusters_for_k_means(dfScaled, num_clusters_options, init_val, n_init_val, rand_state)\n",
    "print(\"Best number of clusters is : \" + str(best_num_clusters))\n",
    "print(\"The best score is : \" + str(best_score))\n"
   ]
  },
  {
   "cell_type": "code",
   "execution_count": 31,
   "metadata": {},
   "outputs": [
    {
     "data": {
      "image/png": "[encoded data removed]",
      "text/plain": [
       "<Figure size 720x432 with 1 Axes>"
      ]
     },
     "metadata": {},
     "output_type": "display_data"
    }
   ],
   "source": [
    "km = KMeans(n_clusters=8, n_init=10, init='random', max_iter=10)\n",
    "y_pred = km.fit_predict(dfScaled)\n",
    "plt.scatter(dfScaled[:, 0], dfScaled[:, 1], c=y_pred,  marker=\"o\", cmap=cmap);"
   ]
  },
  {
   "cell_type": "markdown",
   "metadata": {},
   "source": [
    "Hierarchical clustering"
   ]
  },
  {
   "cell_type": "code",
   "execution_count": 32,
   "metadata": {},
   "outputs": [
    {
     "name": "stdout",
     "output_type": "stream",
     "text": [
      "AgglomerativeClustering(linkage='single', n_clusters=3)\n",
      "[0 0 0 ... 0 0 0]\n"
     ]
    }
   ],
   "source": [
    "def perform_hierarchical_clustering(dataset, num_clusters, linkage_val):\n",
    "    \n",
    "    agg_cluster_model = AgglomerativeClustering(n_clusters = num_clusters, linkage = linkage_val)\n",
    "    y_pred = agg_cluster_model.fit_predict(dataset)\n",
    "    \n",
    "    return agg_cluster_model, y_pred\n",
    "\n",
    "linkage_val = 'single'\n",
    "hierarchical_model, predicted_vals = perform_hierarchical_clustering(dfScaled, num_clusters, linkage_val)\n",
    "print(hierarchical_model)\n",
    "print(predicted_vals)"
   ]
  },
  {
   "cell_type": "markdown",
   "metadata": {},
   "source": [
    "Find best 'linkage' method for hierarchical agglomerative clustering"
   ]
  },
  {
   "cell_type": "code",
   "execution_count": 33,
   "metadata": {},
   "outputs": [
    {
     "name": "stdout",
     "output_type": "stream",
     "text": [
      "0.5800603058478546\n",
      "average\n"
     ]
    }
   ],
   "source": [
    "def get_best_linkage_method(dataset, num_clusters, linkage_options):\n",
    "    \n",
    "    Kresult = list()\n",
    "    Klist = list()\n",
    "    lst_scores = list()\n",
    "    \n",
    "    for i in linkage_options :\n",
    "        Kresult = perform_hierarchical_clustering(dataset, num_clusters, i)\n",
    "        lst_scores.append(Kresult[1])\n",
    "        Klist.append(Kresult[0].linkage)\n",
    "                        \n",
    "    best_score = silhouette_score(dataset, lst_scores[0])\n",
    "        \n",
    "    for i in range(0,len(lst_scores),1) :\n",
    "        if silhouette_score(dataset, lst_scores[i]) > best_score :\n",
    "            best_score = silhouette_score(dataset, lst_scores[i])\n",
    "            best_linkage = Klist[i]\n",
    "        \n",
    "    return best_score, best_linkage\n",
    "\n",
    "num_clusters = 8\n",
    "linkage_options = ['single', 'complete', 'average', 'ward']\n",
    "rand_state = 42\n",
    "\n",
    "best_score, best_linkage_method = get_best_linkage_method(dfScaled, num_clusters, linkage_options)\n",
    "print(best_score)\n",
    "print(best_linkage_method)"
   ]
  },
  {
   "cell_type": "markdown",
   "metadata": {},
   "source": [
    "DBSCAN"
   ]
  },
  {
   "cell_type": "code",
   "execution_count": 34,
   "metadata": {},
   "outputs": [
    {
     "name": "stdout",
     "output_type": "stream",
     "text": [
      "DBSCAN(eps=10)\n",
      "[-1 -1 -1 ... -1 -1 -1]\n"
     ]
    }
   ],
   "source": [
    "def perform_density_based_clustering(dataset, epsilon_val, minimum_samples_val):\n",
    "    model = DBSCAN(eps = epsilon_val, min_samples = minimum_samples_val)\n",
    "    predicted_vals = model.fit_predict(dataset)\n",
    "    \n",
    "    return model, predicted_vals\n",
    "\n",
    "epsilon_val = 10\n",
    "minimum_samples_val = 5\n",
    "density_based_model, predicted_vals = perform_density_based_clustering(num_dataset, epsilon_val, minimum_samples_val)\n",
    "print(density_based_model)\n",
    "print(predicted_vals)"
   ]
  }
 ],
 "metadata": {
  "kernelspec": {
   "display_name": "Python 3.8.12",
   "language": "python",
   "name": "python3"
  },
  "language_info": {
   "codemirror_mode": {
    "name": "ipython",
    "version": 3
   },
   "file_extension": ".py",
   "mimetype": "text/x-python",
   "name": "python",
   "nbconvert_exporter": "python",
   "pygments_lexer": "ipython3",
   "version": "3.8.12"
  },
  "orig_nbformat": 4,
  "vscode": {
   "interpreter": {
    "hash": "631f2da9300be9763c746115158d7fda57bb43f84de6a8c2c3474ff6e3fd2b9c"
   }
  }
 },
 "nbformat": 4,
 "nbformat_minor": 2
}
